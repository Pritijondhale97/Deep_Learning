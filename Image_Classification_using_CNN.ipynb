{
  "nbformat": 4,
  "nbformat_minor": 0,
  "metadata": {
    "colab": {
      "provenance": [],
      "gpuType": "T4",
      "authorship_tag": "ABX9TyObL6Zs1d/O7rX7nyUoM/PE",
      "include_colab_link": true
    },
    "kernelspec": {
      "name": "python3",
      "display_name": "Python 3"
    },
    "language_info": {
      "name": "python"
    },
    "accelerator": "GPU"
  },
  "cells": [
    {
      "cell_type": "markdown",
      "metadata": {
        "id": "view-in-github",
        "colab_type": "text"
      },
      "source": [
        "<a href=\"https://colab.research.google.com/github/Pritijondhale97/Deep_Learning/blob/main/Image_Classification_using_CNN.ipynb\" target=\"_parent\"><img src=\"https://colab.research.google.com/assets/colab-badge.svg\" alt=\"Open In Colab\"/></a>"
      ]
    },
    {
      "cell_type": "code",
      "execution_count": 1,
      "metadata": {
        "id": "YWlWMH-QtWaK"
      },
      "outputs": [],
      "source": []
    },
    {
      "cell_type": "markdown",
      "source": [
        "# Image classification using CNN"
      ],
      "metadata": {
        "id": "8C40G3tJttrR"
      }
    },
    {
      "cell_type": "code",
      "source": [
        "from warnings import filterwarnings\n",
        "filterwarnings('ignore')\n"
      ],
      "metadata": {
        "id": "OAc1NHy4twYY"
      },
      "execution_count": 2,
      "outputs": []
    },
    {
      "cell_type": "markdown",
      "source": [
        "Load the dataset Handwritten Digits dataset\n",
        "# New section"
      ],
      "metadata": {
        "id": "KFEPdLkDuG4Z"
      }
    },
    {
      "cell_type": "code",
      "source": [
        "from keras.datasets import mnist\n",
        "(xtrain,ytrain),(xtest,ytest) = mnist.load_data()"
      ],
      "metadata": {
        "colab": {
          "base_uri": "https://localhost:8080/"
        },
        "id": "gQmPa-LPuIqM",
        "outputId": "cc3365da-e47f-4751-e998-b45c16171dea"
      },
      "execution_count": 3,
      "outputs": [
        {
          "output_type": "stream",
          "name": "stdout",
          "text": [
            "Downloading data from https://storage.googleapis.com/tensorflow/tf-keras-datasets/mnist.npz\n",
            "\u001b[1m11490434/11490434\u001b[0m \u001b[32m━━━━━━━━━━━━━━━━━━━━\u001b[0m\u001b[37m\u001b[0m \u001b[1m1s\u001b[0m 0us/step\n"
          ]
        }
      ]
    },
    {
      "cell_type": "code",
      "source": [
        "xtrain"
      ],
      "metadata": {
        "colab": {
          "base_uri": "https://localhost:8080/"
        },
        "id": "VWP_WwBqufPP",
        "outputId": "1e097f37-70bc-4f45-c911-ce36e06cb69b"
      },
      "execution_count": 4,
      "outputs": [
        {
          "output_type": "execute_result",
          "data": {
            "text/plain": [
              "array([[[0, 0, 0, ..., 0, 0, 0],\n",
              "        [0, 0, 0, ..., 0, 0, 0],\n",
              "        [0, 0, 0, ..., 0, 0, 0],\n",
              "        ...,\n",
              "        [0, 0, 0, ..., 0, 0, 0],\n",
              "        [0, 0, 0, ..., 0, 0, 0],\n",
              "        [0, 0, 0, ..., 0, 0, 0]],\n",
              "\n",
              "       [[0, 0, 0, ..., 0, 0, 0],\n",
              "        [0, 0, 0, ..., 0, 0, 0],\n",
              "        [0, 0, 0, ..., 0, 0, 0],\n",
              "        ...,\n",
              "        [0, 0, 0, ..., 0, 0, 0],\n",
              "        [0, 0, 0, ..., 0, 0, 0],\n",
              "        [0, 0, 0, ..., 0, 0, 0]],\n",
              "\n",
              "       [[0, 0, 0, ..., 0, 0, 0],\n",
              "        [0, 0, 0, ..., 0, 0, 0],\n",
              "        [0, 0, 0, ..., 0, 0, 0],\n",
              "        ...,\n",
              "        [0, 0, 0, ..., 0, 0, 0],\n",
              "        [0, 0, 0, ..., 0, 0, 0],\n",
              "        [0, 0, 0, ..., 0, 0, 0]],\n",
              "\n",
              "       ...,\n",
              "\n",
              "       [[0, 0, 0, ..., 0, 0, 0],\n",
              "        [0, 0, 0, ..., 0, 0, 0],\n",
              "        [0, 0, 0, ..., 0, 0, 0],\n",
              "        ...,\n",
              "        [0, 0, 0, ..., 0, 0, 0],\n",
              "        [0, 0, 0, ..., 0, 0, 0],\n",
              "        [0, 0, 0, ..., 0, 0, 0]],\n",
              "\n",
              "       [[0, 0, 0, ..., 0, 0, 0],\n",
              "        [0, 0, 0, ..., 0, 0, 0],\n",
              "        [0, 0, 0, ..., 0, 0, 0],\n",
              "        ...,\n",
              "        [0, 0, 0, ..., 0, 0, 0],\n",
              "        [0, 0, 0, ..., 0, 0, 0],\n",
              "        [0, 0, 0, ..., 0, 0, 0]],\n",
              "\n",
              "       [[0, 0, 0, ..., 0, 0, 0],\n",
              "        [0, 0, 0, ..., 0, 0, 0],\n",
              "        [0, 0, 0, ..., 0, 0, 0],\n",
              "        ...,\n",
              "        [0, 0, 0, ..., 0, 0, 0],\n",
              "        [0, 0, 0, ..., 0, 0, 0],\n",
              "        [0, 0, 0, ..., 0, 0, 0]]], dtype=uint8)"
            ]
          },
          "metadata": {},
          "execution_count": 4
        }
      ]
    },
    {
      "cell_type": "code",
      "source": [
        "xtrain.shape"
      ],
      "metadata": {
        "colab": {
          "base_uri": "https://localhost:8080/"
        },
        "id": "o8U3Al8Hukf8",
        "outputId": "0eb84a98-7612-4505-f8d2-28877667a4ce"
      },
      "execution_count": 5,
      "outputs": [
        {
          "output_type": "execute_result",
          "data": {
            "text/plain": [
              "(60000, 28, 28)"
            ]
          },
          "metadata": {},
          "execution_count": 5
        }
      ]
    },
    {
      "cell_type": "code",
      "source": [
        "xtrain[0]\n",
        "\n"
      ],
      "metadata": {
        "colab": {
          "base_uri": "https://localhost:8080/",
          "height": 68
        },
        "id": "Sjmx8PvuutpT",
        "outputId": "f32157ee-32ac-448a-d29d-ae23545e82f4"
      },
      "execution_count": 6,
      "outputs": [
        {
          "output_type": "execute_result",
          "data": {
            "text/plain": [
              "array([[  0,   0,   0,   0,   0,   0,   0,   0,   0,   0,   0,   0,   0,\n",
              "          0,   0,   0,   0,   0,   0,   0,   0,   0,   0,   0,   0,   0,\n",
              "          0,   0],\n",
              "       [  0,   0,   0,   0,   0,   0,   0,   0,   0,   0,   0,   0,   0,\n",
              "          0,   0,   0,   0,   0,   0,   0,   0,   0,   0,   0,   0,   0,\n",
              "          0,   0],\n",
              "       [  0,   0,   0,   0,   0,   0,   0,   0,   0,   0,   0,   0,   0,\n",
              "          0,   0,   0,   0,   0,   0,   0,   0,   0,   0,   0,   0,   0,\n",
              "          0,   0],\n",
              "       [  0,   0,   0,   0,   0,   0,   0,   0,   0,   0,   0,   0,   0,\n",
              "          0,   0,   0,   0,   0,   0,   0,   0,   0,   0,   0,   0,   0,\n",
              "          0,   0],\n",
              "       [  0,   0,   0,   0,   0,   0,   0,   0,   0,   0,   0,   0,   0,\n",
              "          0,   0,   0,   0,   0,   0,   0,   0,   0,   0,   0,   0,   0,\n",
              "          0,   0],\n",
              "       [  0,   0,   0,   0,   0,   0,   0,   0,   0,   0,   0,   0,   3,\n",
              "         18,  18,  18, 126, 136, 175,  26, 166, 255, 247, 127,   0,   0,\n",
              "          0,   0],\n",
              "       [  0,   0,   0,   0,   0,   0,   0,   0,  30,  36,  94, 154, 170,\n",
              "        253, 253, 253, 253, 253, 225, 172, 253, 242, 195,  64,   0,   0,\n",
              "          0,   0],\n",
              "       [  0,   0,   0,   0,   0,   0,   0,  49, 238, 253, 253, 253, 253,\n",
              "        253, 253, 253, 253, 251,  93,  82,  82,  56,  39,   0,   0,   0,\n",
              "          0,   0],\n",
              "       [  0,   0,   0,   0,   0,   0,   0,  18, 219, 253, 253, 253, 253,\n",
              "        253, 198, 182, 247, 241,   0,   0,   0,   0,   0,   0,   0,   0,\n",
              "          0,   0],\n",
              "       [  0,   0,   0,   0,   0,   0,   0,   0,  80, 156, 107, 253, 253,\n",
              "        205,  11,   0,  43, 154,   0,   0,   0,   0,   0,   0,   0,   0,\n",
              "          0,   0],\n",
              "       [  0,   0,   0,   0,   0,   0,   0,   0,   0,  14,   1, 154, 253,\n",
              "         90,   0,   0,   0,   0,   0,   0,   0,   0,   0,   0,   0,   0,\n",
              "          0,   0],\n",
              "       [  0,   0,   0,   0,   0,   0,   0,   0,   0,   0,   0, 139, 253,\n",
              "        190,   2,   0,   0,   0,   0,   0,   0,   0,   0,   0,   0,   0,\n",
              "          0,   0],\n",
              "       [  0,   0,   0,   0,   0,   0,   0,   0,   0,   0,   0,  11, 190,\n",
              "        253,  70,   0,   0,   0,   0,   0,   0,   0,   0,   0,   0,   0,\n",
              "          0,   0],\n",
              "       [  0,   0,   0,   0,   0,   0,   0,   0,   0,   0,   0,   0,  35,\n",
              "        241, 225, 160, 108,   1,   0,   0,   0,   0,   0,   0,   0,   0,\n",
              "          0,   0],\n",
              "       [  0,   0,   0,   0,   0,   0,   0,   0,   0,   0,   0,   0,   0,\n",
              "         81, 240, 253, 253, 119,  25,   0,   0,   0,   0,   0,   0,   0,\n",
              "          0,   0],\n",
              "       [  0,   0,   0,   0,   0,   0,   0,   0,   0,   0,   0,   0,   0,\n",
              "          0,  45, 186, 253, 253, 150,  27,   0,   0,   0,   0,   0,   0,\n",
              "          0,   0],\n",
              "       [  0,   0,   0,   0,   0,   0,   0,   0,   0,   0,   0,   0,   0,\n",
              "          0,   0,  16,  93, 252, 253, 187,   0,   0,   0,   0,   0,   0,\n",
              "          0,   0],\n",
              "       [  0,   0,   0,   0,   0,   0,   0,   0,   0,   0,   0,   0,   0,\n",
              "          0,   0,   0,   0, 249, 253, 249,  64,   0,   0,   0,   0,   0,\n",
              "          0,   0],\n",
              "       [  0,   0,   0,   0,   0,   0,   0,   0,   0,   0,   0,   0,   0,\n",
              "          0,  46, 130, 183, 253, 253, 207,   2,   0,   0,   0,   0,   0,\n",
              "          0,   0],\n",
              "       [  0,   0,   0,   0,   0,   0,   0,   0,   0,   0,   0,   0,  39,\n",
              "        148, 229, 253, 253, 253, 250, 182,   0,   0,   0,   0,   0,   0,\n",
              "          0,   0],\n",
              "       [  0,   0,   0,   0,   0,   0,   0,   0,   0,   0,  24, 114, 221,\n",
              "        253, 253, 253, 253, 201,  78,   0,   0,   0,   0,   0,   0,   0,\n",
              "          0,   0],\n",
              "       [  0,   0,   0,   0,   0,   0,   0,   0,  23,  66, 213, 253, 253,\n",
              "        253, 253, 198,  81,   2,   0,   0,   0,   0,   0,   0,   0,   0,\n",
              "          0,   0],\n",
              "       [  0,   0,   0,   0,   0,   0,  18, 171, 219, 253, 253, 253, 253,\n",
              "        195,  80,   9,   0,   0,   0,   0,   0,   0,   0,   0,   0,   0,\n",
              "          0,   0],\n",
              "       [  0,   0,   0,   0,  55, 172, 226, 253, 253, 253, 253, 244, 133,\n",
              "         11,   0,   0,   0,   0,   0,   0,   0,   0,   0,   0,   0,   0,\n",
              "          0,   0],\n",
              "       [  0,   0,   0,   0, 136, 253, 253, 253, 212, 135, 132,  16,   0,\n",
              "          0,   0,   0,   0,   0,   0,   0,   0,   0,   0,   0,   0,   0,\n",
              "          0,   0],\n",
              "       [  0,   0,   0,   0,   0,   0,   0,   0,   0,   0,   0,   0,   0,\n",
              "          0,   0,   0,   0,   0,   0,   0,   0,   0,   0,   0,   0,   0,\n",
              "          0,   0],\n",
              "       [  0,   0,   0,   0,   0,   0,   0,   0,   0,   0,   0,   0,   0,\n",
              "          0,   0,   0,   0,   0,   0,   0,   0,   0,   0,   0,   0,   0,\n",
              "          0,   0],\n",
              "       [  0,   0,   0,   0,   0,   0,   0,   0,   0,   0,   0,   0,   0,\n",
              "          0,   0,   0,   0,   0,   0,   0,   0,   0,   0,   0,   0,   0,\n",
              "          0,   0]], dtype=uint8)"
            ],
            "text/html": [
              "<style>\n",
              "      .ndarray_repr .ndarray_raw_data {\n",
              "        display: none;\n",
              "      }\n",
              "      .ndarray_repr.show_array .ndarray_raw_data {\n",
              "        display: block;\n",
              "      }\n",
              "      .ndarray_repr.show_array .ndarray_image_preview {\n",
              "        display: none;\n",
              "      }\n",
              "      </style>\n",
              "      <div id=\"id-226628ea-d37d-4fac-a7a0-39cc406be2e2\" class=\"ndarray_repr\"><pre>ndarray (28, 28) <button style=\"padding: 0 2px;\">show data</button></pre><img src=\"data:image/png;base64,iVBORw0KGgoAAAANSUhEUgAAABwAAAAcCAAAAABXZoBIAAABAElEQVR4nGNgGMyAWUhIqK5jvdSy/9/rGRgYGFhgEnJsVjYCwQwMDAxPJgV+vniQgYGBgREqZ7iXH8r6l/SV4dn7m8gmCt3++/fv37/Htn3/iMW+gDnZf/+e5WbQnoXNNXyMs/5GoQoxwVmf/n9kSGFiwAW49/11wynJoPzx4YIcRlyygR/+/i2XxCWru+vv32nSuGQFYv/83Y3b4p9/fzpAmSyoMnohpiwM1w5h06Q+5enfv39/bcMiJVF09+/fv39P+mFKiTtd/fv3799jgZiBJLT69t+/f/8eDuDEkDJf8+jv379/v7Ryo4qzMDAwMAQGMjBc3/y35wM2V1IfAABFF16Aa0wAOwAAAABJRU5ErkJggg==\" class=\"ndarray_image_preview\" /><pre class=\"ndarray_raw_data\">array([[  0,   0,   0,   0,   0,   0,   0,   0,   0,   0,   0,   0,   0,\n",
              "          0,   0,   0,   0,   0,   0,   0,   0,   0,   0,   0,   0,   0,\n",
              "          0,   0],\n",
              "       [  0,   0,   0,   0,   0,   0,   0,   0,   0,   0,   0,   0,   0,\n",
              "          0,   0,   0,   0,   0,   0,   0,   0,   0,   0,   0,   0,   0,\n",
              "          0,   0],\n",
              "       [  0,   0,   0,   0,   0,   0,   0,   0,   0,   0,   0,   0,   0,\n",
              "          0,   0,   0,   0,   0,   0,   0,   0,   0,   0,   0,   0,   0,\n",
              "          0,   0],\n",
              "       [  0,   0,   0,   0,   0,   0,   0,   0,   0,   0,   0,   0,   0,\n",
              "          0,   0,   0,   0,   0,   0,   0,   0,   0,   0,   0,   0,   0,\n",
              "          0,   0],\n",
              "       [  0,   0,   0,   0,   0,   0,   0,   0,   0,   0,   0,   0,   0,\n",
              "          0,   0,   0,   0,   0,   0,   0,   0,   0,   0,   0,   0,   0,\n",
              "          0,   0],\n",
              "       [  0,   0,   0,   0,   0,   0,   0,   0,   0,   0,   0,   0,   3,\n",
              "         18,  18,  18, 126, 136, 175,  26, 166, 255, 247, 127,   0,   0,\n",
              "          0,   0],\n",
              "       [  0,   0,   0,   0,   0,   0,   0,   0,  30,  36,  94, 154, 170,\n",
              "        253, 253, 253, 253, 253, 225, 172, 253, 242, 195,  64,   0,   0,\n",
              "          0,   0],\n",
              "       [  0,   0,   0,   0,   0,   0,   0,  49, 238, 253, 253, 253, 253,\n",
              "        253, 253, 253, 253, 251,  93,  82,  82,  56,  39,   0,   0,   0,\n",
              "          0,   0],\n",
              "       [  0,   0,   0,   0,   0,   0,   0,  18, 219, 253, 253, 253, 253,\n",
              "        253, 198, 182, 247, 241,   0,   0,   0,   0,   0,   0,   0,   0,\n",
              "          0,   0],\n",
              "       [  0,   0,   0,   0,   0,   0,   0,   0,  80, 156, 107, 253, 253,\n",
              "        205,  11,   0,  43, 154,   0,   0,   0,   0,   0,   0,   0,   0,\n",
              "          0,   0],\n",
              "       [  0,   0,   0,   0,   0,   0,   0,   0,   0,  14,   1, 154, 253,\n",
              "         90,   0,   0,   0,   0,   0,   0,   0,   0,   0,   0,   0,   0,\n",
              "          0,   0],\n",
              "       [  0,   0,   0,   0,   0,   0,   0,   0,   0,   0,   0, 139, 253,\n",
              "        190,   2,   0,   0,   0,   0,   0,   0,   0,   0,   0,   0,   0,\n",
              "          0,   0],\n",
              "       [  0,   0,   0,   0,   0,   0,   0,   0,   0,   0,   0,  11, 190,\n",
              "        253,  70,   0,   0,   0,   0,   0,   0,   0,   0,   0,   0,   0,\n",
              "          0,   0],\n",
              "       [  0,   0,   0,   0,   0,   0,   0,   0,   0,   0,   0,   0,  35,\n",
              "        241, 225, 160, 108,   1,   0,   0,   0,   0,   0,   0,   0,   0,\n",
              "          0,   0],\n",
              "       [  0,   0,   0,   0,   0,   0,   0,   0,   0,   0,   0,   0,   0,\n",
              "         81, 240, 253, 253, 119,  25,   0,   0,   0,   0,   0,   0,   0,\n",
              "          0,   0],\n",
              "       [  0,   0,   0,   0,   0,   0,   0,   0,   0,   0,   0,   0,   0,\n",
              "          0,  45, 186, 253, 253, 150,  27,   0,   0,   0,   0,   0,   0,\n",
              "          0,   0],\n",
              "       [  0,   0,   0,   0,   0,   0,   0,   0,   0,   0,   0,   0,   0,\n",
              "          0,   0,  16,  93, 252, 253, 187,   0,   0,   0,   0,   0,   0,\n",
              "          0,   0],\n",
              "       [  0,   0,   0,   0,   0,   0,   0,   0,   0,   0,   0,   0,   0,\n",
              "          0,   0,   0,   0, 249, 253, 249,  64,   0,   0,   0,   0,   0,\n",
              "          0,   0],\n",
              "       [  0,   0,   0,   0,   0,   0,   0,   0,   0,   0,   0,   0,   0,\n",
              "          0,  46, 130, 183, 253, 253, 207,   2,   0,   0,   0,   0,   0,\n",
              "          0,   0],\n",
              "       [  0,   0,   0,   0,   0,   0,   0,   0,   0,   0,   0,   0,  39,\n",
              "        148, 229, 253, 253, 253, 250, 182,   0,   0,   0,   0,   0,   0,\n",
              "          0,   0],\n",
              "       [  0,   0,   0,   0,   0,   0,   0,   0,   0,   0,  24, 114, 221,\n",
              "        253, 253, 253, 253, 201,  78,   0,   0,   0,   0,   0,   0,   0,\n",
              "          0,   0],\n",
              "       [  0,   0,   0,   0,   0,   0,   0,   0,  23,  66, 213, 253, 253,\n",
              "        253, 253, 198,  81,   2,   0,   0,   0,   0,   0,   0,   0,   0,\n",
              "          0,   0],\n",
              "       [  0,   0,   0,   0,   0,   0,  18, 171, 219, 253, 253, 253, 253,\n",
              "        195,  80,   9,   0,   0,   0,   0,   0,   0,   0,   0,   0,   0,\n",
              "          0,   0],\n",
              "       [  0,   0,   0,   0,  55, 172, 226, 253, 253, 253, 253, 244, 133,\n",
              "         11,   0,   0,   0,   0,   0,   0,   0,   0,   0,   0,   0,   0,\n",
              "          0,   0],\n",
              "       [  0,   0,   0,   0, 136, 253, 253, 253, 212, 135, 132,  16,   0,\n",
              "          0,   0,   0,   0,   0,   0,   0,   0,   0,   0,   0,   0,   0,\n",
              "          0,   0],\n",
              "       [  0,   0,   0,   0,   0,   0,   0,   0,   0,   0,   0,   0,   0,\n",
              "          0,   0,   0,   0,   0,   0,   0,   0,   0,   0,   0,   0,   0,\n",
              "          0,   0],\n",
              "       [  0,   0,   0,   0,   0,   0,   0,   0,   0,   0,   0,   0,   0,\n",
              "          0,   0,   0,   0,   0,   0,   0,   0,   0,   0,   0,   0,   0,\n",
              "          0,   0],\n",
              "       [  0,   0,   0,   0,   0,   0,   0,   0,   0,   0,   0,   0,   0,\n",
              "          0,   0,   0,   0,   0,   0,   0,   0,   0,   0,   0,   0,   0,\n",
              "          0,   0]], dtype=uint8)</pre></div><script>\n",
              "      (() => {\n",
              "      const titles = ['show data', 'hide data'];\n",
              "      let index = 0\n",
              "      document.querySelector('#id-226628ea-d37d-4fac-a7a0-39cc406be2e2 button').onclick = (e) => {\n",
              "        document.querySelector('#id-226628ea-d37d-4fac-a7a0-39cc406be2e2').classList.toggle('show_array');\n",
              "        index = (++index) % 2;\n",
              "        document.querySelector('#id-226628ea-d37d-4fac-a7a0-39cc406be2e2 button').textContent = titles[index];\n",
              "        e.preventDefault();\n",
              "        e.stopPropagation();\n",
              "      }\n",
              "      })();\n",
              "    </script>"
            ]
          },
          "metadata": {},
          "execution_count": 6
        }
      ]
    },
    {
      "cell_type": "code",
      "source": [
        "xtrain[10]\n"
      ],
      "metadata": {
        "colab": {
          "base_uri": "https://localhost:8080/",
          "height": 68
        },
        "id": "hgK-fFTqu2qW",
        "outputId": "e33bcfd0-dfdc-4a2c-e3ae-8bfa5d04165c"
      },
      "execution_count": 7,
      "outputs": [
        {
          "output_type": "execute_result",
          "data": {
            "text/plain": [
              "array([[  0,   0,   0,   0,   0,   0,   0,   0,   0,   0,   0,   0,   0,\n",
              "          0,   0,   0,   0,   0,   0,   0,   0,   0,   0,   0,   0,   0,\n",
              "          0,   0],\n",
              "       [  0,   0,   0,   0,   0,   0,   0,   0,   0,   0,   0,   0,   0,\n",
              "          0,   0,   0,   0,   0,   0,   0,   0,   0,   0,   0,   0,   0,\n",
              "          0,   0],\n",
              "       [  0,   0,   0,   0,   0,   0,   0,   0,   0,   0,   0,   0,   0,\n",
              "          0,   0,   0,   0,   0,   0,   0,   0,   0,   0,   0,   0,   0,\n",
              "          0,   0],\n",
              "       [  0,   0,   0,   0,   0,   0,   0,   0,   0,   0,   0,   0,   0,\n",
              "          0,   0,   0,   0,   0,   0,   0,   0,   0,   0,   0,   0,   0,\n",
              "          0,   0],\n",
              "       [  0,   0,   0,   0,   0,   0,   0,   0,   0,   0,   0,  42, 118,\n",
              "        219, 166, 118, 118,   6,   0,   0,   0,   0,   0,   0,   0,   0,\n",
              "          0,   0],\n",
              "       [  0,   0,   0,   0,   0,   0,   0,   0,   0,   0, 103, 242, 254,\n",
              "        254, 254, 254, 254,  66,   0,   0,   0,   0,   0,   0,   0,   0,\n",
              "          0,   0],\n",
              "       [  0,   0,   0,   0,   0,   0,   0,   0,   0,   0,  18, 232, 254,\n",
              "        254, 254, 254, 254, 238,  70,   0,   0,   0,   0,   0,   0,   0,\n",
              "          0,   0],\n",
              "       [  0,   0,   0,   0,   0,   0,   0,   0,   0,   0,   0, 104, 244,\n",
              "        254, 224, 254, 254, 254, 141,   0,   0,   0,   0,   0,   0,   0,\n",
              "          0,   0],\n",
              "       [  0,   0,   0,   0,   0,   0,   0,   0,   0,   0,   0,   0, 207,\n",
              "        254, 210, 254, 254, 254,  34,   0,   0,   0,   0,   0,   0,   0,\n",
              "          0,   0],\n",
              "       [  0,   0,   0,   0,   0,   0,   0,   0,   0,   0,   0,   0,  84,\n",
              "        206, 254, 254, 254, 254,  41,   0,   0,   0,   0,   0,   0,   0,\n",
              "          0,   0],\n",
              "       [  0,   0,   0,   0,   0,   0,   0,   0,   0,   0,   0,   0,   0,\n",
              "         24, 209, 254, 254, 254, 171,   0,   0,   0,   0,   0,   0,   0,\n",
              "          0,   0],\n",
              "       [  0,   0,   0,   0,   0,   0,   0,   0,   0,   0,   0,   0,  91,\n",
              "        137, 253, 254, 254, 254, 112,   0,   0,   0,   0,   0,   0,   0,\n",
              "          0,   0],\n",
              "       [  0,   0,   0,   0,   0,   0,   0,   0,   0,   0,  40, 214, 250,\n",
              "        254, 254, 254, 254, 254,  34,   0,   0,   0,   0,   0,   0,   0,\n",
              "          0,   0],\n",
              "       [  0,   0,   0,   0,   0,   0,   0,   0,   0,   0,  81, 247, 254,\n",
              "        254, 254, 254, 254, 254, 146,   0,   0,   0,   0,   0,   0,   0,\n",
              "          0,   0],\n",
              "       [  0,   0,   0,   0,   0,   0,   0,   0,   0,   0,   0, 110, 246,\n",
              "        254, 254, 254, 254, 254, 171,   0,   0,   0,   0,   0,   0,   0,\n",
              "          0,   0],\n",
              "       [  0,   0,   0,   0,   0,   0,   0,   0,   0,   0,   0,   0,  73,\n",
              "         89,  89,  93, 240, 254, 171,   0,   0,   0,   0,   0,   0,   0,\n",
              "          0,   0],\n",
              "       [  0,   0,   0,   0,   0,   0,   0,   0,   0,   0,   0,   0,   0,\n",
              "          0,   0,   1, 128, 254, 219,  31,   0,   0,   0,   0,   0,   0,\n",
              "          0,   0],\n",
              "       [  0,   0,   0,   0,   0,   0,   0,   0,   0,   0,   0,   0,   0,\n",
              "          0,   0,   7, 254, 254, 214,  28,   0,   0,   0,   0,   0,   0,\n",
              "          0,   0],\n",
              "       [  0,   0,   0,   0,   0,   0,   0,   0,   0,   0,   0,   0,   0,\n",
              "          0,   0, 138, 254, 254, 116,   0,   0,   0,   0,   0,   0,   0,\n",
              "          0,   0],\n",
              "       [  0,   0,   0,   0,   0,   0,  19, 177,  90,   0,   0,   0,   0,\n",
              "          0,  25, 240, 254, 254,  34,   0,   0,   0,   0,   0,   0,   0,\n",
              "          0,   0],\n",
              "       [  0,   0,   0,   0,   0,   0, 164, 254, 215,  63,  36,   0,  51,\n",
              "         89, 206, 254, 254, 139,   8,   0,   0,   0,   0,   0,   0,   0,\n",
              "          0,   0],\n",
              "       [  0,   0,   0,   0,   0,   0,  57, 197, 254, 254, 222, 180, 241,\n",
              "        254, 254, 253, 213,  11,   0,   0,   0,   0,   0,   0,   0,   0,\n",
              "          0,   0],\n",
              "       [  0,   0,   0,   0,   0,   0,   0, 140, 105, 254, 254, 254, 254,\n",
              "        254, 254, 236,   0,   0,   0,   0,   0,   0,   0,   0,   0,   0,\n",
              "          0,   0],\n",
              "       [  0,   0,   0,   0,   0,   0,   0,   0,   7, 117, 117, 165, 254,\n",
              "        254, 239,  50,   0,   0,   0,   0,   0,   0,   0,   0,   0,   0,\n",
              "          0,   0],\n",
              "       [  0,   0,   0,   0,   0,   0,   0,   0,   0,   0,   0,   0,   0,\n",
              "          0,   0,   0,   0,   0,   0,   0,   0,   0,   0,   0,   0,   0,\n",
              "          0,   0],\n",
              "       [  0,   0,   0,   0,   0,   0,   0,   0,   0,   0,   0,   0,   0,\n",
              "          0,   0,   0,   0,   0,   0,   0,   0,   0,   0,   0,   0,   0,\n",
              "          0,   0],\n",
              "       [  0,   0,   0,   0,   0,   0,   0,   0,   0,   0,   0,   0,   0,\n",
              "          0,   0,   0,   0,   0,   0,   0,   0,   0,   0,   0,   0,   0,\n",
              "          0,   0],\n",
              "       [  0,   0,   0,   0,   0,   0,   0,   0,   0,   0,   0,   0,   0,\n",
              "          0,   0,   0,   0,   0,   0,   0,   0,   0,   0,   0,   0,   0,\n",
              "          0,   0]], dtype=uint8)"
            ],
            "text/html": [
              "<style>\n",
              "      .ndarray_repr .ndarray_raw_data {\n",
              "        display: none;\n",
              "      }\n",
              "      .ndarray_repr.show_array .ndarray_raw_data {\n",
              "        display: block;\n",
              "      }\n",
              "      .ndarray_repr.show_array .ndarray_image_preview {\n",
              "        display: none;\n",
              "      }\n",
              "      </style>\n",
              "      <div id=\"id-f1f7c349-64b0-4f2e-9add-168bb949307f\" class=\"ndarray_repr\"><pre>ndarray (28, 28) <button style=\"padding: 0 2px;\">show data</button></pre><img src=\"data:image/png;base64,iVBORw0KGgoAAAANSUhEUgAAABwAAAAcCAAAAABXZoBIAAAA5klEQVR4nGNgoD9gRGJr+aSevsAw4Rc2demf/v379++fE1ZDhF78+/fv3793blhlM778e/Dv379e7A44/+/Sv3//lLBLhpz79+/fP00cbpe4+O/fv9VwLguyXLSeDgMDw1Fs2jSu/fr3D8VOJoSkpiLEmAKsNuZ9+/cPp52TbgswsEzmw+FYBgYGxoZ/t+VxSbL/+3dNBpdk179/JehiwhujGBgYGBgkP2AJviX/rturMBhHnvv3r5sDXdLy6L9/97Z8/Pfv71VuTLt6Mv/9+/fv3783yIIwf5aw8zAYRDJ8xB7TdAQABFdhZWAfWxoAAAAASUVORK5CYII=\" class=\"ndarray_image_preview\" /><pre class=\"ndarray_raw_data\">array([[  0,   0,   0,   0,   0,   0,   0,   0,   0,   0,   0,   0,   0,\n",
              "          0,   0,   0,   0,   0,   0,   0,   0,   0,   0,   0,   0,   0,\n",
              "          0,   0],\n",
              "       [  0,   0,   0,   0,   0,   0,   0,   0,   0,   0,   0,   0,   0,\n",
              "          0,   0,   0,   0,   0,   0,   0,   0,   0,   0,   0,   0,   0,\n",
              "          0,   0],\n",
              "       [  0,   0,   0,   0,   0,   0,   0,   0,   0,   0,   0,   0,   0,\n",
              "          0,   0,   0,   0,   0,   0,   0,   0,   0,   0,   0,   0,   0,\n",
              "          0,   0],\n",
              "       [  0,   0,   0,   0,   0,   0,   0,   0,   0,   0,   0,   0,   0,\n",
              "          0,   0,   0,   0,   0,   0,   0,   0,   0,   0,   0,   0,   0,\n",
              "          0,   0],\n",
              "       [  0,   0,   0,   0,   0,   0,   0,   0,   0,   0,   0,  42, 118,\n",
              "        219, 166, 118, 118,   6,   0,   0,   0,   0,   0,   0,   0,   0,\n",
              "          0,   0],\n",
              "       [  0,   0,   0,   0,   0,   0,   0,   0,   0,   0, 103, 242, 254,\n",
              "        254, 254, 254, 254,  66,   0,   0,   0,   0,   0,   0,   0,   0,\n",
              "          0,   0],\n",
              "       [  0,   0,   0,   0,   0,   0,   0,   0,   0,   0,  18, 232, 254,\n",
              "        254, 254, 254, 254, 238,  70,   0,   0,   0,   0,   0,   0,   0,\n",
              "          0,   0],\n",
              "       [  0,   0,   0,   0,   0,   0,   0,   0,   0,   0,   0, 104, 244,\n",
              "        254, 224, 254, 254, 254, 141,   0,   0,   0,   0,   0,   0,   0,\n",
              "          0,   0],\n",
              "       [  0,   0,   0,   0,   0,   0,   0,   0,   0,   0,   0,   0, 207,\n",
              "        254, 210, 254, 254, 254,  34,   0,   0,   0,   0,   0,   0,   0,\n",
              "          0,   0],\n",
              "       [  0,   0,   0,   0,   0,   0,   0,   0,   0,   0,   0,   0,  84,\n",
              "        206, 254, 254, 254, 254,  41,   0,   0,   0,   0,   0,   0,   0,\n",
              "          0,   0],\n",
              "       [  0,   0,   0,   0,   0,   0,   0,   0,   0,   0,   0,   0,   0,\n",
              "         24, 209, 254, 254, 254, 171,   0,   0,   0,   0,   0,   0,   0,\n",
              "          0,   0],\n",
              "       [  0,   0,   0,   0,   0,   0,   0,   0,   0,   0,   0,   0,  91,\n",
              "        137, 253, 254, 254, 254, 112,   0,   0,   0,   0,   0,   0,   0,\n",
              "          0,   0],\n",
              "       [  0,   0,   0,   0,   0,   0,   0,   0,   0,   0,  40, 214, 250,\n",
              "        254, 254, 254, 254, 254,  34,   0,   0,   0,   0,   0,   0,   0,\n",
              "          0,   0],\n",
              "       [  0,   0,   0,   0,   0,   0,   0,   0,   0,   0,  81, 247, 254,\n",
              "        254, 254, 254, 254, 254, 146,   0,   0,   0,   0,   0,   0,   0,\n",
              "          0,   0],\n",
              "       [  0,   0,   0,   0,   0,   0,   0,   0,   0,   0,   0, 110, 246,\n",
              "        254, 254, 254, 254, 254, 171,   0,   0,   0,   0,   0,   0,   0,\n",
              "          0,   0],\n",
              "       [  0,   0,   0,   0,   0,   0,   0,   0,   0,   0,   0,   0,  73,\n",
              "         89,  89,  93, 240, 254, 171,   0,   0,   0,   0,   0,   0,   0,\n",
              "          0,   0],\n",
              "       [  0,   0,   0,   0,   0,   0,   0,   0,   0,   0,   0,   0,   0,\n",
              "          0,   0,   1, 128, 254, 219,  31,   0,   0,   0,   0,   0,   0,\n",
              "          0,   0],\n",
              "       [  0,   0,   0,   0,   0,   0,   0,   0,   0,   0,   0,   0,   0,\n",
              "          0,   0,   7, 254, 254, 214,  28,   0,   0,   0,   0,   0,   0,\n",
              "          0,   0],\n",
              "       [  0,   0,   0,   0,   0,   0,   0,   0,   0,   0,   0,   0,   0,\n",
              "          0,   0, 138, 254, 254, 116,   0,   0,   0,   0,   0,   0,   0,\n",
              "          0,   0],\n",
              "       [  0,   0,   0,   0,   0,   0,  19, 177,  90,   0,   0,   0,   0,\n",
              "          0,  25, 240, 254, 254,  34,   0,   0,   0,   0,   0,   0,   0,\n",
              "          0,   0],\n",
              "       [  0,   0,   0,   0,   0,   0, 164, 254, 215,  63,  36,   0,  51,\n",
              "         89, 206, 254, 254, 139,   8,   0,   0,   0,   0,   0,   0,   0,\n",
              "          0,   0],\n",
              "       [  0,   0,   0,   0,   0,   0,  57, 197, 254, 254, 222, 180, 241,\n",
              "        254, 254, 253, 213,  11,   0,   0,   0,   0,   0,   0,   0,   0,\n",
              "          0,   0],\n",
              "       [  0,   0,   0,   0,   0,   0,   0, 140, 105, 254, 254, 254, 254,\n",
              "        254, 254, 236,   0,   0,   0,   0,   0,   0,   0,   0,   0,   0,\n",
              "          0,   0],\n",
              "       [  0,   0,   0,   0,   0,   0,   0,   0,   7, 117, 117, 165, 254,\n",
              "        254, 239,  50,   0,   0,   0,   0,   0,   0,   0,   0,   0,   0,\n",
              "          0,   0],\n",
              "       [  0,   0,   0,   0,   0,   0,   0,   0,   0,   0,   0,   0,   0,\n",
              "          0,   0,   0,   0,   0,   0,   0,   0,   0,   0,   0,   0,   0,\n",
              "          0,   0],\n",
              "       [  0,   0,   0,   0,   0,   0,   0,   0,   0,   0,   0,   0,   0,\n",
              "          0,   0,   0,   0,   0,   0,   0,   0,   0,   0,   0,   0,   0,\n",
              "          0,   0],\n",
              "       [  0,   0,   0,   0,   0,   0,   0,   0,   0,   0,   0,   0,   0,\n",
              "          0,   0,   0,   0,   0,   0,   0,   0,   0,   0,   0,   0,   0,\n",
              "          0,   0],\n",
              "       [  0,   0,   0,   0,   0,   0,   0,   0,   0,   0,   0,   0,   0,\n",
              "          0,   0,   0,   0,   0,   0,   0,   0,   0,   0,   0,   0,   0,\n",
              "          0,   0]], dtype=uint8)</pre></div><script>\n",
              "      (() => {\n",
              "      const titles = ['show data', 'hide data'];\n",
              "      let index = 0\n",
              "      document.querySelector('#id-f1f7c349-64b0-4f2e-9add-168bb949307f button').onclick = (e) => {\n",
              "        document.querySelector('#id-f1f7c349-64b0-4f2e-9add-168bb949307f').classList.toggle('show_array');\n",
              "        index = (++index) % 2;\n",
              "        document.querySelector('#id-f1f7c349-64b0-4f2e-9add-168bb949307f button').textContent = titles[index];\n",
              "        e.preventDefault();\n",
              "        e.stopPropagation();\n",
              "      }\n",
              "      })();\n",
              "    </script>"
            ]
          },
          "metadata": {},
          "execution_count": 7
        }
      ]
    },
    {
      "cell_type": "code",
      "source": [
        "\n",
        "import matplotlib.pyplot as plt\n",
        "import seaborn as sns\n",
        "\n"
      ],
      "metadata": {
        "id": "IvYSwnyZvDex"
      },
      "execution_count": 8,
      "outputs": []
    },
    {
      "cell_type": "code",
      "source": [
        "plt.imshow(xtrain[10],cmap=\"gray\")\n",
        "plt.show()\n"
      ],
      "metadata": {
        "colab": {
          "base_uri": "https://localhost:8080/",
          "height": 430
        },
        "id": "F4W82K3hvLRc",
        "outputId": "4da23d98-e388-4f74-aba0-595d80efa104"
      },
      "execution_count": 9,
      "outputs": [
        {
          "output_type": "display_data",
          "data": {
            "text/plain": [
              "<Figure size 640x480 with 1 Axes>"
            ],
            "image/png": "[encoded data removed]"
          },
          "metadata": {}
        }
      ]
    },
    {
      "cell_type": "code",
      "source": [
        "plt.imshow(xtrain[20],cmap=\"gray\")\n",
        "plt.show()\n",
        "\n"
      ],
      "metadata": {
        "colab": {
          "base_uri": "https://localhost:8080/",
          "height": 430
        },
        "id": "0Rlgs8d6vS2D",
        "outputId": "17fbfdc2-bea3-440a-d4f0-fd8ce3142945"
      },
      "execution_count": 10,
      "outputs": [
        {
          "output_type": "display_data",
          "data": {
            "text/plain": [
              "<Figure size 640x480 with 1 Axes>"
            ],
            "image/png": "[encoded data removed]"
          },
          "metadata": {}
        }
      ]
    },
    {
      "cell_type": "code",
      "source": [
        "plt.figure(figsize=(15,15))\n",
        "sns.heatmap(xtrain[20],annot=True,fmt='d')\n",
        "plt.show()"
      ],
      "metadata": {
        "colab": {
          "base_uri": "https://localhost:8080/",
          "height": 1000
        },
        "id": "03aA7OFzvVFA",
        "outputId": "843464f0-adfe-4d78-9257-f9f43ab26ce5"
      },
      "execution_count": 11,
      "outputs": [
        {
          "output_type": "display_data",
          "data": {
            "text/plain": [
              "<Figure size 1500x1500 with 2 Axes>"
            ],
            "image/png": "[encoded data removed]"
          },
          "metadata": {}
        }
      ]
    },
    {
      "cell_type": "code",
      "source": [
        "plt.figure(figsize=(10,10))\n",
        "for i in range(9):\n",
        "  plt.subplot(3,3,i+1)\n",
        "  plt.imshow(xtrain[i],cmap=\"gray\")\n",
        "plt.show()"
      ],
      "metadata": {
        "colab": {
          "base_uri": "https://localhost:8080/",
          "height": 832
        },
        "id": "Ae9_bpaWvsqX",
        "outputId": "a551fd94-fd34-4e6d-b07f-ee3f65528df3"
      },
      "execution_count": 12,
      "outputs": [
        {
          "output_type": "display_data",
          "data": {
            "text/plain": [
              "<Figure size 1000x1000 with 9 Axes>"
            ],
            "image/png": "[encoded data removed]"
          },
          "metadata": {}
        }
      ]
    },
    {
      "cell_type": "markdown",
      "source": [
        "# Data Preprocessing"
      ],
      "metadata": {
        "id": "gKACc8g1v6MT"
      }
    },
    {
      "cell_type": "markdown",
      "source": [
        "# Scaling of data"
      ],
      "metadata": {
        "id": "pzHLAd_LwNXu"
      }
    },
    {
      "cell_type": "code",
      "source": [
        "xtrain.shape"
      ],
      "metadata": {
        "colab": {
          "base_uri": "https://localhost:8080/"
        },
        "id": "0l3Oq5FZx0PU",
        "outputId": "641ed14e-ea01-4115-feb9-ed6a94876385"
      },
      "execution_count": 13,
      "outputs": [
        {
          "output_type": "execute_result",
          "data": {
            "text/plain": [
              "(60000, 28, 28)"
            ]
          },
          "metadata": {},
          "execution_count": 13
        }
      ]
    },
    {
      "cell_type": "code",
      "source": [
        "xtrain[:10]"
      ],
      "metadata": {
        "colab": {
          "base_uri": "https://localhost:8080/"
        },
        "id": "Axzml86Ax7_o",
        "outputId": "2b7cc06b-656b-4ea3-d89e-863c337092fc"
      },
      "execution_count": 14,
      "outputs": [
        {
          "output_type": "execute_result",
          "data": {
            "text/plain": [
              "array([[[0, 0, 0, ..., 0, 0, 0],\n",
              "        [0, 0, 0, ..., 0, 0, 0],\n",
              "        [0, 0, 0, ..., 0, 0, 0],\n",
              "        ...,\n",
              "        [0, 0, 0, ..., 0, 0, 0],\n",
              "        [0, 0, 0, ..., 0, 0, 0],\n",
              "        [0, 0, 0, ..., 0, 0, 0]],\n",
              "\n",
              "       [[0, 0, 0, ..., 0, 0, 0],\n",
              "        [0, 0, 0, ..., 0, 0, 0],\n",
              "        [0, 0, 0, ..., 0, 0, 0],\n",
              "        ...,\n",
              "        [0, 0, 0, ..., 0, 0, 0],\n",
              "        [0, 0, 0, ..., 0, 0, 0],\n",
              "        [0, 0, 0, ..., 0, 0, 0]],\n",
              "\n",
              "       [[0, 0, 0, ..., 0, 0, 0],\n",
              "        [0, 0, 0, ..., 0, 0, 0],\n",
              "        [0, 0, 0, ..., 0, 0, 0],\n",
              "        ...,\n",
              "        [0, 0, 0, ..., 0, 0, 0],\n",
              "        [0, 0, 0, ..., 0, 0, 0],\n",
              "        [0, 0, 0, ..., 0, 0, 0]],\n",
              "\n",
              "       ...,\n",
              "\n",
              "       [[0, 0, 0, ..., 0, 0, 0],\n",
              "        [0, 0, 0, ..., 0, 0, 0],\n",
              "        [0, 0, 0, ..., 0, 0, 0],\n",
              "        ...,\n",
              "        [0, 0, 0, ..., 0, 0, 0],\n",
              "        [0, 0, 0, ..., 0, 0, 0],\n",
              "        [0, 0, 0, ..., 0, 0, 0]],\n",
              "\n",
              "       [[0, 0, 0, ..., 0, 0, 0],\n",
              "        [0, 0, 0, ..., 0, 0, 0],\n",
              "        [0, 0, 0, ..., 0, 0, 0],\n",
              "        ...,\n",
              "        [0, 0, 0, ..., 0, 0, 0],\n",
              "        [0, 0, 0, ..., 0, 0, 0],\n",
              "        [0, 0, 0, ..., 0, 0, 0]],\n",
              "\n",
              "       [[0, 0, 0, ..., 0, 0, 0],\n",
              "        [0, 0, 0, ..., 0, 0, 0],\n",
              "        [0, 0, 0, ..., 0, 0, 0],\n",
              "        ...,\n",
              "        [0, 0, 0, ..., 0, 0, 0],\n",
              "        [0, 0, 0, ..., 0, 0, 0],\n",
              "        [0, 0, 0, ..., 0, 0, 0]]], dtype=uint8)"
            ]
          },
          "metadata": {},
          "execution_count": 14
        }
      ]
    },
    {
      "cell_type": "code",
      "source": [
        "xtrain_scl = xtrain.astype(\"float32\")/255\n",
        "xtest_scl = xtest.astype(\"float32\")/255\n",
        "\n",
        "\n",
        "\n",
        "\n"
      ],
      "metadata": {
        "id": "5a0UO8TVyArZ"
      },
      "execution_count": 15,
      "outputs": []
    },
    {
      "cell_type": "code",
      "source": [
        "xtrain_scl[0]"
      ],
      "metadata": {
        "colab": {
          "base_uri": "https://localhost:8080/"
        },
        "id": "T90XMNoiyKhA",
        "outputId": "a1ccaf27-db33-4ebf-f24a-af915f01f31b"
      },
      "execution_count": 16,
      "outputs": [
        {
          "output_type": "execute_result",
          "data": {
            "text/plain": [
              "array([[0.        , 0.        , 0.        , 0.        , 0.        ,\n",
              "        0.        , 0.        , 0.        , 0.        , 0.        ,\n",
              "        0.        , 0.        , 0.        , 0.        , 0.        ,\n",
              "        0.        , 0.        , 0.        , 0.        , 0.        ,\n",
              "        0.        , 0.        , 0.        , 0.        , 0.        ,\n",
              "        0.        , 0.        , 0.        ],\n",
              "       [0.        , 0.        , 0.        , 0.        , 0.        ,\n",
              "        0.        , 0.        , 0.        , 0.        , 0.        ,\n",
              "        0.        , 0.        , 0.        , 0.        , 0.        ,\n",
              "        0.        , 0.        , 0.        , 0.        , 0.        ,\n",
              "        0.        , 0.        , 0.        , 0.        , 0.        ,\n",
              "        0.        , 0.        , 0.        ],\n",
              "       [0.        , 0.        , 0.        , 0.        , 0.        ,\n",
              "        0.        , 0.        , 0.        , 0.        , 0.        ,\n",
              "        0.        , 0.        , 0.        , 0.        , 0.        ,\n",
              "        0.        , 0.        , 0.        , 0.        , 0.        ,\n",
              "        0.        , 0.        , 0.        , 0.        , 0.        ,\n",
              "        0.        , 0.        , 0.        ],\n",
              "       [0.        , 0.        , 0.        , 0.        , 0.        ,\n",
              "        0.        , 0.        , 0.        , 0.        , 0.        ,\n",
              "        0.        , 0.        , 0.        , 0.        , 0.        ,\n",
              "        0.        , 0.        , 0.        , 0.        , 0.        ,\n",
              "        0.        , 0.        , 0.        , 0.        , 0.        ,\n",
              "        0.        , 0.        , 0.        ],\n",
              "       [0.        , 0.        , 0.        , 0.        , 0.        ,\n",
              "        0.        , 0.        , 0.        , 0.        , 0.        ,\n",
              "        0.        , 0.        , 0.        , 0.        , 0.        ,\n",
              "        0.        , 0.        , 0.        , 0.        , 0.        ,\n",
              "        0.        , 0.        , 0.        , 0.        , 0.        ,\n",
              "        0.        , 0.        , 0.        ],\n",
              "       [0.        , 0.        , 0.        , 0.        , 0.        ,\n",
              "        0.        , 0.        , 0.        , 0.        , 0.        ,\n",
              "        0.        , 0.        , 0.01176471, 0.07058824, 0.07058824,\n",
              "        0.07058824, 0.49411765, 0.53333336, 0.6862745 , 0.10196079,\n",
              "        0.6509804 , 1.        , 0.96862745, 0.49803922, 0.        ,\n",
              "        0.        , 0.        , 0.        ],\n",
              "       [0.        , 0.        , 0.        , 0.        , 0.        ,\n",
              "        0.        , 0.        , 0.        , 0.11764706, 0.14117648,\n",
              "        0.36862746, 0.6039216 , 0.6666667 , 0.99215686, 0.99215686,\n",
              "        0.99215686, 0.99215686, 0.99215686, 0.88235295, 0.6745098 ,\n",
              "        0.99215686, 0.9490196 , 0.7647059 , 0.2509804 , 0.        ,\n",
              "        0.        , 0.        , 0.        ],\n",
              "       [0.        , 0.        , 0.        , 0.        , 0.        ,\n",
              "        0.        , 0.        , 0.19215687, 0.93333334, 0.99215686,\n",
              "        0.99215686, 0.99215686, 0.99215686, 0.99215686, 0.99215686,\n",
              "        0.99215686, 0.99215686, 0.9843137 , 0.3647059 , 0.32156864,\n",
              "        0.32156864, 0.21960784, 0.15294118, 0.        , 0.        ,\n",
              "        0.        , 0.        , 0.        ],\n",
              "       [0.        , 0.        , 0.        , 0.        , 0.        ,\n",
              "        0.        , 0.        , 0.07058824, 0.85882354, 0.99215686,\n",
              "        0.99215686, 0.99215686, 0.99215686, 0.99215686, 0.7764706 ,\n",
              "        0.7137255 , 0.96862745, 0.94509804, 0.        , 0.        ,\n",
              "        0.        , 0.        , 0.        , 0.        , 0.        ,\n",
              "        0.        , 0.        , 0.        ],\n",
              "       [0.        , 0.        , 0.        , 0.        , 0.        ,\n",
              "        0.        , 0.        , 0.        , 0.3137255 , 0.6117647 ,\n",
              "        0.41960785, 0.99215686, 0.99215686, 0.8039216 , 0.04313726,\n",
              "        0.        , 0.16862746, 0.6039216 , 0.        , 0.        ,\n",
              "        0.        , 0.        , 0.        , 0.        , 0.        ,\n",
              "        0.        , 0.        , 0.        ],\n",
              "       [0.        , 0.        , 0.        , 0.        , 0.        ,\n",
              "        0.        , 0.        , 0.        , 0.        , 0.05490196,\n",
              "        0.00392157, 0.6039216 , 0.99215686, 0.3529412 , 0.        ,\n",
              "        0.        , 0.        , 0.        , 0.        , 0.        ,\n",
              "        0.        , 0.        , 0.        , 0.        , 0.        ,\n",
              "        0.        , 0.        , 0.        ],\n",
              "       [0.        , 0.        , 0.        , 0.        , 0.        ,\n",
              "        0.        , 0.        , 0.        , 0.        , 0.        ,\n",
              "        0.        , 0.54509807, 0.99215686, 0.74509805, 0.00784314,\n",
              "        0.        , 0.        , 0.        , 0.        , 0.        ,\n",
              "        0.        , 0.        , 0.        , 0.        , 0.        ,\n",
              "        0.        , 0.        , 0.        ],\n",
              "       [0.        , 0.        , 0.        , 0.        , 0.        ,\n",
              "        0.        , 0.        , 0.        , 0.        , 0.        ,\n",
              "        0.        , 0.04313726, 0.74509805, 0.99215686, 0.27450982,\n",
              "        0.        , 0.        , 0.        , 0.        , 0.        ,\n",
              "        0.        , 0.        , 0.        , 0.        , 0.        ,\n",
              "        0.        , 0.        , 0.        ],\n",
              "       [0.        , 0.        , 0.        , 0.        , 0.        ,\n",
              "        0.        , 0.        , 0.        , 0.        , 0.        ,\n",
              "        0.        , 0.        , 0.13725491, 0.94509804, 0.88235295,\n",
              "        0.627451  , 0.42352942, 0.00392157, 0.        , 0.        ,\n",
              "        0.        , 0.        , 0.        , 0.        , 0.        ,\n",
              "        0.        , 0.        , 0.        ],\n",
              "       [0.        , 0.        , 0.        , 0.        , 0.        ,\n",
              "        0.        , 0.        , 0.        , 0.        , 0.        ,\n",
              "        0.        , 0.        , 0.        , 0.31764707, 0.9411765 ,\n",
              "        0.99215686, 0.99215686, 0.46666667, 0.09803922, 0.        ,\n",
              "        0.        , 0.        , 0.        , 0.        , 0.        ,\n",
              "        0.        , 0.        , 0.        ],\n",
              "       [0.        , 0.        , 0.        , 0.        , 0.        ,\n",
              "        0.        , 0.        , 0.        , 0.        , 0.        ,\n",
              "        0.        , 0.        , 0.        , 0.        , 0.1764706 ,\n",
              "        0.7294118 , 0.99215686, 0.99215686, 0.5882353 , 0.10588235,\n",
              "        0.        , 0.        , 0.        , 0.        , 0.        ,\n",
              "        0.        , 0.        , 0.        ],\n",
              "       [0.        , 0.        , 0.        , 0.        , 0.        ,\n",
              "        0.        , 0.        , 0.        , 0.        , 0.        ,\n",
              "        0.        , 0.        , 0.        , 0.        , 0.        ,\n",
              "        0.0627451 , 0.3647059 , 0.9882353 , 0.99215686, 0.73333335,\n",
              "        0.        , 0.        , 0.        , 0.        , 0.        ,\n",
              "        0.        , 0.        , 0.        ],\n",
              "       [0.        , 0.        , 0.        , 0.        , 0.        ,\n",
              "        0.        , 0.        , 0.        , 0.        , 0.        ,\n",
              "        0.        , 0.        , 0.        , 0.        , 0.        ,\n",
              "        0.        , 0.        , 0.9764706 , 0.99215686, 0.9764706 ,\n",
              "        0.2509804 , 0.        , 0.        , 0.        , 0.        ,\n",
              "        0.        , 0.        , 0.        ],\n",
              "       [0.        , 0.        , 0.        , 0.        , 0.        ,\n",
              "        0.        , 0.        , 0.        , 0.        , 0.        ,\n",
              "        0.        , 0.        , 0.        , 0.        , 0.18039216,\n",
              "        0.50980395, 0.7176471 , 0.99215686, 0.99215686, 0.8117647 ,\n",
              "        0.00784314, 0.        , 0.        , 0.        , 0.        ,\n",
              "        0.        , 0.        , 0.        ],\n",
              "       [0.        , 0.        , 0.        , 0.        , 0.        ,\n",
              "        0.        , 0.        , 0.        , 0.        , 0.        ,\n",
              "        0.        , 0.        , 0.15294118, 0.5803922 , 0.8980392 ,\n",
              "        0.99215686, 0.99215686, 0.99215686, 0.98039216, 0.7137255 ,\n",
              "        0.        , 0.        , 0.        , 0.        , 0.        ,\n",
              "        0.        , 0.        , 0.        ],\n",
              "       [0.        , 0.        , 0.        , 0.        , 0.        ,\n",
              "        0.        , 0.        , 0.        , 0.        , 0.        ,\n",
              "        0.09411765, 0.44705883, 0.8666667 , 0.99215686, 0.99215686,\n",
              "        0.99215686, 0.99215686, 0.7882353 , 0.30588236, 0.        ,\n",
              "        0.        , 0.        , 0.        , 0.        , 0.        ,\n",
              "        0.        , 0.        , 0.        ],\n",
              "       [0.        , 0.        , 0.        , 0.        , 0.        ,\n",
              "        0.        , 0.        , 0.        , 0.09019608, 0.25882354,\n",
              "        0.8352941 , 0.99215686, 0.99215686, 0.99215686, 0.99215686,\n",
              "        0.7764706 , 0.31764707, 0.00784314, 0.        , 0.        ,\n",
              "        0.        , 0.        , 0.        , 0.        , 0.        ,\n",
              "        0.        , 0.        , 0.        ],\n",
              "       [0.        , 0.        , 0.        , 0.        , 0.        ,\n",
              "        0.        , 0.07058824, 0.67058825, 0.85882354, 0.99215686,\n",
              "        0.99215686, 0.99215686, 0.99215686, 0.7647059 , 0.3137255 ,\n",
              "        0.03529412, 0.        , 0.        , 0.        , 0.        ,\n",
              "        0.        , 0.        , 0.        , 0.        , 0.        ,\n",
              "        0.        , 0.        , 0.        ],\n",
              "       [0.        , 0.        , 0.        , 0.        , 0.21568628,\n",
              "        0.6745098 , 0.8862745 , 0.99215686, 0.99215686, 0.99215686,\n",
              "        0.99215686, 0.95686275, 0.52156866, 0.04313726, 0.        ,\n",
              "        0.        , 0.        , 0.        , 0.        , 0.        ,\n",
              "        0.        , 0.        , 0.        , 0.        , 0.        ,\n",
              "        0.        , 0.        , 0.        ],\n",
              "       [0.        , 0.        , 0.        , 0.        , 0.53333336,\n",
              "        0.99215686, 0.99215686, 0.99215686, 0.83137256, 0.5294118 ,\n",
              "        0.5176471 , 0.0627451 , 0.        , 0.        , 0.        ,\n",
              "        0.        , 0.        , 0.        , 0.        , 0.        ,\n",
              "        0.        , 0.        , 0.        , 0.        , 0.        ,\n",
              "        0.        , 0.        , 0.        ],\n",
              "       [0.        , 0.        , 0.        , 0.        , 0.        ,\n",
              "        0.        , 0.        , 0.        , 0.        , 0.        ,\n",
              "        0.        , 0.        , 0.        , 0.        , 0.        ,\n",
              "        0.        , 0.        , 0.        , 0.        , 0.        ,\n",
              "        0.        , 0.        , 0.        , 0.        , 0.        ,\n",
              "        0.        , 0.        , 0.        ],\n",
              "       [0.        , 0.        , 0.        , 0.        , 0.        ,\n",
              "        0.        , 0.        , 0.        , 0.        , 0.        ,\n",
              "        0.        , 0.        , 0.        , 0.        , 0.        ,\n",
              "        0.        , 0.        , 0.        , 0.        , 0.        ,\n",
              "        0.        , 0.        , 0.        , 0.        , 0.        ,\n",
              "        0.        , 0.        , 0.        ],\n",
              "       [0.        , 0.        , 0.        , 0.        , 0.        ,\n",
              "        0.        , 0.        , 0.        , 0.        , 0.        ,\n",
              "        0.        , 0.        , 0.        , 0.        , 0.        ,\n",
              "        0.        , 0.        , 0.        , 0.        , 0.        ,\n",
              "        0.        , 0.        , 0.        , 0.        , 0.        ,\n",
              "        0.        , 0.        , 0.        ]], dtype=float32)"
            ]
          },
          "metadata": {},
          "execution_count": 16
        }
      ]
    },
    {
      "cell_type": "code",
      "source": [
        "xtest_scl[0]"
      ],
      "metadata": {
        "colab": {
          "base_uri": "https://localhost:8080/"
        },
        "id": "u8J2mHXuv37_",
        "outputId": "0d61b52e-1ffc-471a-86f3-ce101c026260"
      },
      "execution_count": 17,
      "outputs": [
        {
          "output_type": "execute_result",
          "data": {
            "text/plain": [
              "array([[0.        , 0.        , 0.        , 0.        , 0.        ,\n",
              "        0.        , 0.        , 0.        , 0.        , 0.        ,\n",
              "        0.        , 0.        , 0.        , 0.        , 0.        ,\n",
              "        0.        , 0.        , 0.        , 0.        , 0.        ,\n",
              "        0.        , 0.        , 0.        , 0.        , 0.        ,\n",
              "        0.        , 0.        , 0.        ],\n",
              "       [0.        , 0.        , 0.        , 0.        , 0.        ,\n",
              "        0.        , 0.        , 0.        , 0.        , 0.        ,\n",
              "        0.        , 0.        , 0.        , 0.        , 0.        ,\n",
              "        0.        , 0.        , 0.        , 0.        , 0.        ,\n",
              "        0.        , 0.        , 0.        , 0.        , 0.        ,\n",
              "        0.        , 0.        , 0.        ],\n",
              "       [0.        , 0.        , 0.        , 0.        , 0.        ,\n",
              "        0.        , 0.        , 0.        , 0.        , 0.        ,\n",
              "        0.        , 0.        , 0.        , 0.        , 0.        ,\n",
              "        0.        , 0.        , 0.        , 0.        , 0.        ,\n",
              "        0.        , 0.        , 0.        , 0.        , 0.        ,\n",
              "        0.        , 0.        , 0.        ],\n",
              "       [0.        , 0.        , 0.        , 0.        , 0.        ,\n",
              "        0.        , 0.        , 0.        , 0.        , 0.        ,\n",
              "        0.        , 0.        , 0.        , 0.        , 0.        ,\n",
              "        0.        , 0.        , 0.        , 0.        , 0.        ,\n",
              "        0.        , 0.        , 0.        , 0.        , 0.        ,\n",
              "        0.        , 0.        , 0.        ],\n",
              "       [0.        , 0.        , 0.        , 0.        , 0.        ,\n",
              "        0.        , 0.        , 0.        , 0.        , 0.        ,\n",
              "        0.        , 0.        , 0.        , 0.        , 0.        ,\n",
              "        0.        , 0.        , 0.        , 0.        , 0.        ,\n",
              "        0.        , 0.        , 0.        , 0.        , 0.        ,\n",
              "        0.        , 0.        , 0.        ],\n",
              "       [0.        , 0.        , 0.        , 0.        , 0.        ,\n",
              "        0.        , 0.        , 0.        , 0.        , 0.        ,\n",
              "        0.        , 0.        , 0.        , 0.        , 0.        ,\n",
              "        0.        , 0.        , 0.        , 0.        , 0.        ,\n",
              "        0.        , 0.        , 0.        , 0.        , 0.        ,\n",
              "        0.        , 0.        , 0.        ],\n",
              "       [0.        , 0.        , 0.        , 0.        , 0.        ,\n",
              "        0.        , 0.        , 0.        , 0.        , 0.        ,\n",
              "        0.        , 0.        , 0.        , 0.        , 0.        ,\n",
              "        0.        , 0.        , 0.        , 0.        , 0.        ,\n",
              "        0.        , 0.        , 0.        , 0.        , 0.        ,\n",
              "        0.        , 0.        , 0.        ],\n",
              "       [0.        , 0.        , 0.        , 0.        , 0.        ,\n",
              "        0.        , 0.32941177, 0.7254902 , 0.62352943, 0.5921569 ,\n",
              "        0.23529412, 0.14117648, 0.        , 0.        , 0.        ,\n",
              "        0.        , 0.        , 0.        , 0.        , 0.        ,\n",
              "        0.        , 0.        , 0.        , 0.        , 0.        ,\n",
              "        0.        , 0.        , 0.        ],\n",
              "       [0.        , 0.        , 0.        , 0.        , 0.        ,\n",
              "        0.        , 0.87058824, 0.99607843, 0.99607843, 0.99607843,\n",
              "        0.99607843, 0.94509804, 0.7764706 , 0.7764706 , 0.7764706 ,\n",
              "        0.7764706 , 0.7764706 , 0.7764706 , 0.7764706 , 0.7764706 ,\n",
              "        0.6666667 , 0.20392157, 0.        , 0.        , 0.        ,\n",
              "        0.        , 0.        , 0.        ],\n",
              "       [0.        , 0.        , 0.        , 0.        , 0.        ,\n",
              "        0.        , 0.2627451 , 0.44705883, 0.28235295, 0.44705883,\n",
              "        0.6392157 , 0.8901961 , 0.99607843, 0.88235295, 0.99607843,\n",
              "        0.99607843, 0.99607843, 0.98039216, 0.8980392 , 0.99607843,\n",
              "        0.99607843, 0.54901963, 0.        , 0.        , 0.        ,\n",
              "        0.        , 0.        , 0.        ],\n",
              "       [0.        , 0.        , 0.        , 0.        , 0.        ,\n",
              "        0.        , 0.        , 0.        , 0.        , 0.        ,\n",
              "        0.        , 0.06666667, 0.25882354, 0.05490196, 0.2627451 ,\n",
              "        0.2627451 , 0.2627451 , 0.23137255, 0.08235294, 0.9254902 ,\n",
              "        0.99607843, 0.41568628, 0.        , 0.        , 0.        ,\n",
              "        0.        , 0.        , 0.        ],\n",
              "       [0.        , 0.        , 0.        , 0.        , 0.        ,\n",
              "        0.        , 0.        , 0.        , 0.        , 0.        ,\n",
              "        0.        , 0.        , 0.        , 0.        , 0.        ,\n",
              "        0.        , 0.        , 0.        , 0.3254902 , 0.99215686,\n",
              "        0.81960785, 0.07058824, 0.        , 0.        , 0.        ,\n",
              "        0.        , 0.        , 0.        ],\n",
              "       [0.        , 0.        , 0.        , 0.        , 0.        ,\n",
              "        0.        , 0.        , 0.        , 0.        , 0.        ,\n",
              "        0.        , 0.        , 0.        , 0.        , 0.        ,\n",
              "        0.        , 0.        , 0.08627451, 0.9137255 , 1.        ,\n",
              "        0.3254902 , 0.        , 0.        , 0.        , 0.        ,\n",
              "        0.        , 0.        , 0.        ],\n",
              "       [0.        , 0.        , 0.        , 0.        , 0.        ,\n",
              "        0.        , 0.        , 0.        , 0.        , 0.        ,\n",
              "        0.        , 0.        , 0.        , 0.        , 0.        ,\n",
              "        0.        , 0.        , 0.5058824 , 0.99607843, 0.93333334,\n",
              "        0.17254902, 0.        , 0.        , 0.        , 0.        ,\n",
              "        0.        , 0.        , 0.        ],\n",
              "       [0.        , 0.        , 0.        , 0.        , 0.        ,\n",
              "        0.        , 0.        , 0.        , 0.        , 0.        ,\n",
              "        0.        , 0.        , 0.        , 0.        , 0.        ,\n",
              "        0.        , 0.23137255, 0.9764706 , 0.99607843, 0.24313726,\n",
              "        0.        , 0.        , 0.        , 0.        , 0.        ,\n",
              "        0.        , 0.        , 0.        ],\n",
              "       [0.        , 0.        , 0.        , 0.        , 0.        ,\n",
              "        0.        , 0.        , 0.        , 0.        , 0.        ,\n",
              "        0.        , 0.        , 0.        , 0.        , 0.        ,\n",
              "        0.        , 0.52156866, 0.99607843, 0.73333335, 0.01960784,\n",
              "        0.        , 0.        , 0.        , 0.        , 0.        ,\n",
              "        0.        , 0.        , 0.        ],\n",
              "       [0.        , 0.        , 0.        , 0.        , 0.        ,\n",
              "        0.        , 0.        , 0.        , 0.        , 0.        ,\n",
              "        0.        , 0.        , 0.        , 0.        , 0.        ,\n",
              "        0.03529412, 0.8039216 , 0.972549  , 0.22745098, 0.        ,\n",
              "        0.        , 0.        , 0.        , 0.        , 0.        ,\n",
              "        0.        , 0.        , 0.        ],\n",
              "       [0.        , 0.        , 0.        , 0.        , 0.        ,\n",
              "        0.        , 0.        , 0.        , 0.        , 0.        ,\n",
              "        0.        , 0.        , 0.        , 0.        , 0.        ,\n",
              "        0.49411765, 0.99607843, 0.7137255 , 0.        , 0.        ,\n",
              "        0.        , 0.        , 0.        , 0.        , 0.        ,\n",
              "        0.        , 0.        , 0.        ],\n",
              "       [0.        , 0.        , 0.        , 0.        , 0.        ,\n",
              "        0.        , 0.        , 0.        , 0.        , 0.        ,\n",
              "        0.        , 0.        , 0.        , 0.        , 0.29411766,\n",
              "        0.9843137 , 0.9411765 , 0.22352941, 0.        , 0.        ,\n",
              "        0.        , 0.        , 0.        , 0.        , 0.        ,\n",
              "        0.        , 0.        , 0.        ],\n",
              "       [0.        , 0.        , 0.        , 0.        , 0.        ,\n",
              "        0.        , 0.        , 0.        , 0.        , 0.        ,\n",
              "        0.        , 0.        , 0.        , 0.07450981, 0.8666667 ,\n",
              "        0.99607843, 0.6509804 , 0.        , 0.        , 0.        ,\n",
              "        0.        , 0.        , 0.        , 0.        , 0.        ,\n",
              "        0.        , 0.        , 0.        ],\n",
              "       [0.        , 0.        , 0.        , 0.        , 0.        ,\n",
              "        0.        , 0.        , 0.        , 0.        , 0.        ,\n",
              "        0.        , 0.        , 0.01176471, 0.79607844, 0.99607843,\n",
              "        0.85882354, 0.13725491, 0.        , 0.        , 0.        ,\n",
              "        0.        , 0.        , 0.        , 0.        , 0.        ,\n",
              "        0.        , 0.        , 0.        ],\n",
              "       [0.        , 0.        , 0.        , 0.        , 0.        ,\n",
              "        0.        , 0.        , 0.        , 0.        , 0.        ,\n",
              "        0.        , 0.        , 0.14901961, 0.99607843, 0.99607843,\n",
              "        0.3019608 , 0.        , 0.        , 0.        , 0.        ,\n",
              "        0.        , 0.        , 0.        , 0.        , 0.        ,\n",
              "        0.        , 0.        , 0.        ],\n",
              "       [0.        , 0.        , 0.        , 0.        , 0.        ,\n",
              "        0.        , 0.        , 0.        , 0.        , 0.        ,\n",
              "        0.        , 0.12156863, 0.8784314 , 0.99607843, 0.4509804 ,\n",
              "        0.00392157, 0.        , 0.        , 0.        , 0.        ,\n",
              "        0.        , 0.        , 0.        , 0.        , 0.        ,\n",
              "        0.        , 0.        , 0.        ],\n",
              "       [0.        , 0.        , 0.        , 0.        , 0.        ,\n",
              "        0.        , 0.        , 0.        , 0.        , 0.        ,\n",
              "        0.        , 0.52156866, 0.99607843, 0.99607843, 0.20392157,\n",
              "        0.        , 0.        , 0.        , 0.        , 0.        ,\n",
              "        0.        , 0.        , 0.        , 0.        , 0.        ,\n",
              "        0.        , 0.        , 0.        ],\n",
              "       [0.        , 0.        , 0.        , 0.        , 0.        ,\n",
              "        0.        , 0.        , 0.        , 0.        , 0.        ,\n",
              "        0.23921569, 0.9490196 , 0.99607843, 0.99607843, 0.20392157,\n",
              "        0.        , 0.        , 0.        , 0.        , 0.        ,\n",
              "        0.        , 0.        , 0.        , 0.        , 0.        ,\n",
              "        0.        , 0.        , 0.        ],\n",
              "       [0.        , 0.        , 0.        , 0.        , 0.        ,\n",
              "        0.        , 0.        , 0.        , 0.        , 0.        ,\n",
              "        0.4745098 , 0.99607843, 0.99607843, 0.85882354, 0.15686275,\n",
              "        0.        , 0.        , 0.        , 0.        , 0.        ,\n",
              "        0.        , 0.        , 0.        , 0.        , 0.        ,\n",
              "        0.        , 0.        , 0.        ],\n",
              "       [0.        , 0.        , 0.        , 0.        , 0.        ,\n",
              "        0.        , 0.        , 0.        , 0.        , 0.        ,\n",
              "        0.4745098 , 0.99607843, 0.8117647 , 0.07058824, 0.        ,\n",
              "        0.        , 0.        , 0.        , 0.        , 0.        ,\n",
              "        0.        , 0.        , 0.        , 0.        , 0.        ,\n",
              "        0.        , 0.        , 0.        ],\n",
              "       [0.        , 0.        , 0.        , 0.        , 0.        ,\n",
              "        0.        , 0.        , 0.        , 0.        , 0.        ,\n",
              "        0.        , 0.        , 0.        , 0.        , 0.        ,\n",
              "        0.        , 0.        , 0.        , 0.        , 0.        ,\n",
              "        0.        , 0.        , 0.        , 0.        , 0.        ,\n",
              "        0.        , 0.        , 0.        ]], dtype=float32)"
            ]
          },
          "metadata": {},
          "execution_count": 17
        }
      ]
    },
    {
      "cell_type": "code",
      "source": [
        "xtrain.shape\n",
        "\n",
        "\n"
      ],
      "metadata": {
        "colab": {
          "base_uri": "https://localhost:8080/"
        },
        "id": "pYELHE2ryfPu",
        "outputId": "d95914a8-5833-4bf8-fadb-6845bc84b875"
      },
      "execution_count": 18,
      "outputs": [
        {
          "output_type": "execute_result",
          "data": {
            "text/plain": [
              "(60000, 28, 28)"
            ]
          },
          "metadata": {},
          "execution_count": 18
        }
      ]
    },
    {
      "cell_type": "code",
      "source": [
        "xtrain_scl.shape\n"
      ],
      "metadata": {
        "colab": {
          "base_uri": "https://localhost:8080/"
        },
        "id": "zwJra_tuylJx",
        "outputId": "b413f683-c6ba-48a2-8ca8-dd22509aaf20"
      },
      "execution_count": 19,
      "outputs": [
        {
          "output_type": "execute_result",
          "data": {
            "text/plain": [
              "(60000, 28, 28)"
            ]
          },
          "metadata": {},
          "execution_count": 19
        }
      ]
    },
    {
      "cell_type": "code",
      "source": [
        "# Before passing the xtrain scaled data to the model, expand the dimensions\n",
        "import numpy as np\n",
        "xtrain_scl = np.expand_dims(xtrain_scl,-1)\n",
        "xtest_scl = np.expand_dims(xtest_scl,-1)\n"
      ],
      "metadata": {
        "id": "mey3BCcGyuBM"
      },
      "execution_count": 20,
      "outputs": []
    },
    {
      "cell_type": "code",
      "source": [
        "xtrain_scl.shape\n"
      ],
      "metadata": {
        "id": "U-lxPqE1yynT",
        "outputId": "fa08d1db-5f5b-4d8c-d4f8-eaf80e0c732e",
        "colab": {
          "base_uri": "https://localhost:8080/"
        }
      },
      "execution_count": 21,
      "outputs": [
        {
          "output_type": "execute_result",
          "data": {
            "text/plain": [
              "(60000, 28, 28, 1)"
            ]
          },
          "metadata": {},
          "execution_count": 21
        }
      ]
    },
    {
      "cell_type": "code",
      "source": [
        "ytrain\n",
        ""
      ],
      "metadata": {
        "colab": {
          "base_uri": "https://localhost:8080/"
        },
        "id": "x8cOhq9SDQvy",
        "outputId": "ed1d4e95-0af3-40c1-fffc-c09da1f42fa8"
      },
      "execution_count": 22,
      "outputs": [
        {
          "output_type": "execute_result",
          "data": {
            "text/plain": [
              "array([5, 0, 4, ..., 5, 6, 8], dtype=uint8)"
            ]
          },
          "metadata": {},
          "execution_count": 22
        }
      ]
    },
    {
      "cell_type": "code",
      "source": [
        "ytrain[0]"
      ],
      "metadata": {
        "colab": {
          "base_uri": "https://localhost:8080/"
        },
        "id": "yFeB8n9_Dm1U",
        "outputId": "7bb25583-b7f0-449f-ba22-b5acfedff330"
      },
      "execution_count": 23,
      "outputs": [
        {
          "output_type": "execute_result",
          "data": {
            "text/plain": [
              "np.uint8(5)"
            ]
          },
          "metadata": {},
          "execution_count": 23
        }
      ]
    },
    {
      "cell_type": "code",
      "source": [
        "from keras.utils import to_categorical\n",
        "\n"
      ],
      "metadata": {
        "id": "fr5wPrcwDqgO"
      },
      "execution_count": 24,
      "outputs": []
    },
    {
      "cell_type": "code",
      "source": [
        "ytrain_scl = to_categorical(ytrain)\n",
        "ytest_scl = to_categorical(ytest)\n",
        ""
      ],
      "metadata": {
        "id": "643J3xz4D0gw"
      },
      "execution_count": 25,
      "outputs": []
    },
    {
      "cell_type": "code",
      "source": [
        "ytrain_scl[0]"
      ],
      "metadata": {
        "colab": {
          "base_uri": "https://localhost:8080/"
        },
        "id": "ZDap1E7hEKAg",
        "outputId": "b8dbb3f8-f4ce-4b9d-d792-9bf28ccda18a"
      },
      "execution_count": 26,
      "outputs": [
        {
          "output_type": "execute_result",
          "data": {
            "text/plain": [
              "array([0., 0., 0., 0., 0., 1., 0., 0., 0., 0.])"
            ]
          },
          "metadata": {},
          "execution_count": 26
        }
      ]
    },
    {
      "cell_type": "code",
      "source": [
        "ytrain_scl.shape"
      ],
      "metadata": {
        "colab": {
          "base_uri": "https://localhost:8080/"
        },
        "id": "AzNbAOC5EOYb",
        "outputId": "8e7bced3-807d-43ad-e416-73c84c66e888"
      },
      "execution_count": 27,
      "outputs": [
        {
          "output_type": "execute_result",
          "data": {
            "text/plain": [
              "(60000, 10)"
            ]
          },
          "metadata": {},
          "execution_count": 27
        }
      ]
    },
    {
      "cell_type": "code",
      "source": [
        "ytrain_scl.shape[1]"
      ],
      "metadata": {
        "colab": {
          "base_uri": "https://localhost:8080/"
        },
        "id": "6CrF9go2E3S6",
        "outputId": "220ede2e-1366-4d13-83c0-a7641e09b8e4"
      },
      "execution_count": 28,
      "outputs": [
        {
          "output_type": "execute_result",
          "data": {
            "text/plain": [
              "10"
            ]
          },
          "metadata": {},
          "execution_count": 28
        }
      ]
    },
    {
      "cell_type": "markdown",
      "source": [
        "# Build the CNN"
      ],
      "metadata": {
        "id": "Xk75WJ1TE-_7"
      }
    },
    {
      "cell_type": "markdown",
      "source": [
        "![image.png](data:image/png;base64,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)"
      ],
      "metadata": {
        "id": "5aTGotCHFDMh"
      }
    },
    {
      "cell_type": "code",
      "source": [
        "from keras.models import Sequential\n",
        "from keras.layers import Input,Dense,Convolution2D,MaxPooling2D,Dropout,Flatten\n",
        "\n"
      ],
      "metadata": {
        "id": "Rt-8aDIVFEx8"
      },
      "execution_count": 29,
      "outputs": []
    },
    {
      "cell_type": "code",
      "source": [
        "model = Sequential()\n",
        "\n",
        "# add the input layer\n",
        "model.add(Input(shape=(28,28,1)))\n",
        "\n",
        "# add the convolution layer\n",
        "model.add(Convolution2D(32,kernel_size=(3,3),activation=\"relu\"))\n",
        "# add the maxpooling layer\n",
        "model.add(MaxPooling2D(pool_size=(2,2)))\n",
        "\n",
        "# add the convolution layer\n",
        "model.add(Convolution2D(64,kernel_size=(3,3),activation=\"relu\"))\n",
        "# add the maxpooling layer\n",
        "model.add(MaxPooling2D(pool_size=(2,2)))\n",
        "\n",
        "# add the flatten layer\n",
        "model.add(Flatten())\n",
        "\n",
        "# add the dropout layer\n",
        "model.add(Dropout(0.4))\n",
        "\n",
        "# Add the output layer\n",
        "model.add(Dense(units=ytrain_scl.shape[1],activation=\"softmax\"))\n",
        "\n"
      ],
      "metadata": {
        "id": "MQpVB7j1FPV3"
      },
      "execution_count": 30,
      "outputs": []
    },
    {
      "cell_type": "code",
      "source": [
        "model.summary()"
      ],
      "metadata": {
        "colab": {
          "base_uri": "https://localhost:8080/",
          "height": 374
        },
        "id": "5mzrETIHFbOc",
        "outputId": "0ce2ca7b-0502-4099-cf1d-261945fcd9b8"
      },
      "execution_count": 31,
      "outputs": [
        {
          "output_type": "display_data",
          "data": {
            "text/plain": [
              "\u001b[1mModel: \"sequential\"\u001b[0m\n"
            ],
            "text/html": [
              "<pre style=\"white-space:pre;overflow-x:auto;line-height:normal;font-family:Menlo,'DejaVu Sans Mono',consolas,'Courier New',monospace\"><span style=\"font-weight: bold\">Model: \"sequential\"</span>\n",
              "</pre>\n"
            ]
          },
          "metadata": {}
        },
        {
          "output_type": "display_data",
          "data": {
            "text/plain": [
              "┏━━━━━━━━━━━━━━━━━━━━━━━━━━━━━━━━━┳━━━━━━━━━━━━━━━━━━━━━━━━┳━━━━━━━━━━━━━━━┓\n",
              "┃\u001b[1m \u001b[0m\u001b[1mLayer (type)                   \u001b[0m\u001b[1m \u001b[0m┃\u001b[1m \u001b[0m\u001b[1mOutput Shape          \u001b[0m\u001b[1m \u001b[0m┃\u001b[1m \u001b[0m\u001b[1m      Param #\u001b[0m\u001b[1m \u001b[0m┃\n",
              "┡━━━━━━━━━━━━━━━━━━━━━━━━━━━━━━━━━╇━━━━━━━━━━━━━━━━━━━━━━━━╇━━━━━━━━━━━━━━━┩\n",
              "│ conv2d (\u001b[38;5;33mConv2D\u001b[0m)                 │ (\u001b[38;5;45mNone\u001b[0m, \u001b[38;5;34m26\u001b[0m, \u001b[38;5;34m26\u001b[0m, \u001b[38;5;34m32\u001b[0m)     │           \u001b[38;5;34m320\u001b[0m │\n",
              "├─────────────────────────────────┼────────────────────────┼───────────────┤\n",
              "│ max_pooling2d (\u001b[38;5;33mMaxPooling2D\u001b[0m)    │ (\u001b[38;5;45mNone\u001b[0m, \u001b[38;5;34m13\u001b[0m, \u001b[38;5;34m13\u001b[0m, \u001b[38;5;34m32\u001b[0m)     │             \u001b[38;5;34m0\u001b[0m │\n",
              "├─────────────────────────────────┼────────────────────────┼───────────────┤\n",
              "│ conv2d_1 (\u001b[38;5;33mConv2D\u001b[0m)               │ (\u001b[38;5;45mNone\u001b[0m, \u001b[38;5;34m11\u001b[0m, \u001b[38;5;34m11\u001b[0m, \u001b[38;5;34m64\u001b[0m)     │        \u001b[38;5;34m18,496\u001b[0m │\n",
              "├─────────────────────────────────┼────────────────────────┼───────────────┤\n",
              "│ max_pooling2d_1 (\u001b[38;5;33mMaxPooling2D\u001b[0m)  │ (\u001b[38;5;45mNone\u001b[0m, \u001b[38;5;34m5\u001b[0m, \u001b[38;5;34m5\u001b[0m, \u001b[38;5;34m64\u001b[0m)       │             \u001b[38;5;34m0\u001b[0m │\n",
              "├─────────────────────────────────┼────────────────────────┼───────────────┤\n",
              "│ flatten (\u001b[38;5;33mFlatten\u001b[0m)               │ (\u001b[38;5;45mNone\u001b[0m, \u001b[38;5;34m1600\u001b[0m)           │             \u001b[38;5;34m0\u001b[0m │\n",
              "├─────────────────────────────────┼────────────────────────┼───────────────┤\n",
              "│ dropout (\u001b[38;5;33mDropout\u001b[0m)               │ (\u001b[38;5;45mNone\u001b[0m, \u001b[38;5;34m1600\u001b[0m)           │             \u001b[38;5;34m0\u001b[0m │\n",
              "├─────────────────────────────────┼────────────────────────┼───────────────┤\n",
              "│ dense (\u001b[38;5;33mDense\u001b[0m)                   │ (\u001b[38;5;45mNone\u001b[0m, \u001b[38;5;34m10\u001b[0m)             │        \u001b[38;5;34m16,010\u001b[0m │\n",
              "└─────────────────────────────────┴────────────────────────┴───────────────┘\n"
            ],
            "text/html": [
              "<pre style=\"white-space:pre;overflow-x:auto;line-height:normal;font-family:Menlo,'DejaVu Sans Mono',consolas,'Courier New',monospace\">┏━━━━━━━━━━━━━━━━━━━━━━━━━━━━━━━━━┳━━━━━━━━━━━━━━━━━━━━━━━━┳━━━━━━━━━━━━━━━┓\n",
              "┃<span style=\"font-weight: bold\"> Layer (type)                    </span>┃<span style=\"font-weight: bold\"> Output Shape           </span>┃<span style=\"font-weight: bold\">       Param # </span>┃\n",
              "┡━━━━━━━━━━━━━━━━━━━━━━━━━━━━━━━━━╇━━━━━━━━━━━━━━━━━━━━━━━━╇━━━━━━━━━━━━━━━┩\n",
              "│ conv2d (<span style=\"color: #0087ff; text-decoration-color: #0087ff\">Conv2D</span>)                 │ (<span style=\"color: #00d7ff; text-decoration-color: #00d7ff\">None</span>, <span style=\"color: #00af00; text-decoration-color: #00af00\">26</span>, <span style=\"color: #00af00; text-decoration-color: #00af00\">26</span>, <span style=\"color: #00af00; text-decoration-color: #00af00\">32</span>)     │           <span style=\"color: #00af00; text-decoration-color: #00af00\">320</span> │\n",
              "├─────────────────────────────────┼────────────────────────┼───────────────┤\n",
              "│ max_pooling2d (<span style=\"color: #0087ff; text-decoration-color: #0087ff\">MaxPooling2D</span>)    │ (<span style=\"color: #00d7ff; text-decoration-color: #00d7ff\">None</span>, <span style=\"color: #00af00; text-decoration-color: #00af00\">13</span>, <span style=\"color: #00af00; text-decoration-color: #00af00\">13</span>, <span style=\"color: #00af00; text-decoration-color: #00af00\">32</span>)     │             <span style=\"color: #00af00; text-decoration-color: #00af00\">0</span> │\n",
              "├─────────────────────────────────┼────────────────────────┼───────────────┤\n",
              "│ conv2d_1 (<span style=\"color: #0087ff; text-decoration-color: #0087ff\">Conv2D</span>)               │ (<span style=\"color: #00d7ff; text-decoration-color: #00d7ff\">None</span>, <span style=\"color: #00af00; text-decoration-color: #00af00\">11</span>, <span style=\"color: #00af00; text-decoration-color: #00af00\">11</span>, <span style=\"color: #00af00; text-decoration-color: #00af00\">64</span>)     │        <span style=\"color: #00af00; text-decoration-color: #00af00\">18,496</span> │\n",
              "├─────────────────────────────────┼────────────────────────┼───────────────┤\n",
              "│ max_pooling2d_1 (<span style=\"color: #0087ff; text-decoration-color: #0087ff\">MaxPooling2D</span>)  │ (<span style=\"color: #00d7ff; text-decoration-color: #00d7ff\">None</span>, <span style=\"color: #00af00; text-decoration-color: #00af00\">5</span>, <span style=\"color: #00af00; text-decoration-color: #00af00\">5</span>, <span style=\"color: #00af00; text-decoration-color: #00af00\">64</span>)       │             <span style=\"color: #00af00; text-decoration-color: #00af00\">0</span> │\n",
              "├─────────────────────────────────┼────────────────────────┼───────────────┤\n",
              "│ flatten (<span style=\"color: #0087ff; text-decoration-color: #0087ff\">Flatten</span>)               │ (<span style=\"color: #00d7ff; text-decoration-color: #00d7ff\">None</span>, <span style=\"color: #00af00; text-decoration-color: #00af00\">1600</span>)           │             <span style=\"color: #00af00; text-decoration-color: #00af00\">0</span> │\n",
              "├─────────────────────────────────┼────────────────────────┼───────────────┤\n",
              "│ dropout (<span style=\"color: #0087ff; text-decoration-color: #0087ff\">Dropout</span>)               │ (<span style=\"color: #00d7ff; text-decoration-color: #00d7ff\">None</span>, <span style=\"color: #00af00; text-decoration-color: #00af00\">1600</span>)           │             <span style=\"color: #00af00; text-decoration-color: #00af00\">0</span> │\n",
              "├─────────────────────────────────┼────────────────────────┼───────────────┤\n",
              "│ dense (<span style=\"color: #0087ff; text-decoration-color: #0087ff\">Dense</span>)                   │ (<span style=\"color: #00d7ff; text-decoration-color: #00d7ff\">None</span>, <span style=\"color: #00af00; text-decoration-color: #00af00\">10</span>)             │        <span style=\"color: #00af00; text-decoration-color: #00af00\">16,010</span> │\n",
              "└─────────────────────────────────┴────────────────────────┴───────────────┘\n",
              "</pre>\n"
            ]
          },
          "metadata": {}
        },
        {
          "output_type": "display_data",
          "data": {
            "text/plain": [
              "\u001b[1m Total params: \u001b[0m\u001b[38;5;34m34,826\u001b[0m (136.04 KB)\n"
            ],
            "text/html": [
              "<pre style=\"white-space:pre;overflow-x:auto;line-height:normal;font-family:Menlo,'DejaVu Sans Mono',consolas,'Courier New',monospace\"><span style=\"font-weight: bold\"> Total params: </span><span style=\"color: #00af00; text-decoration-color: #00af00\">34,826</span> (136.04 KB)\n",
              "</pre>\n"
            ]
          },
          "metadata": {}
        },
        {
          "output_type": "display_data",
          "data": {
            "text/plain": [
              "\u001b[1m Trainable params: \u001b[0m\u001b[38;5;34m34,826\u001b[0m (136.04 KB)\n"
            ],
            "text/html": [
              "<pre style=\"white-space:pre;overflow-x:auto;line-height:normal;font-family:Menlo,'DejaVu Sans Mono',consolas,'Courier New',monospace\"><span style=\"font-weight: bold\"> Trainable params: </span><span style=\"color: #00af00; text-decoration-color: #00af00\">34,826</span> (136.04 KB)\n",
              "</pre>\n"
            ]
          },
          "metadata": {}
        },
        {
          "output_type": "display_data",
          "data": {
            "text/plain": [
              "\u001b[1m Non-trainable params: \u001b[0m\u001b[38;5;34m0\u001b[0m (0.00 B)\n"
            ],
            "text/html": [
              "<pre style=\"white-space:pre;overflow-x:auto;line-height:normal;font-family:Menlo,'DejaVu Sans Mono',consolas,'Courier New',monospace\"><span style=\"font-weight: bold\"> Non-trainable params: </span><span style=\"color: #00af00; text-decoration-color: #00af00\">0</span> (0.00 B)\n",
              "</pre>\n"
            ]
          },
          "metadata": {}
        }
      ]
    },
    {
      "cell_type": "code",
      "source": [
        "model.compile(optimizer=\"adam\",loss=\"categorical_crossentropy\",metrics=[\"accuracy\"])\n",
        ""
      ],
      "metadata": {
        "id": "gLf-ra2EFji6"
      },
      "execution_count": 32,
      "outputs": []
    },
    {
      "cell_type": "code",
      "source": [
        "\n",
        "hist = model.fit(xtrain_scl,ytrain_scl,validation_split=0.2,epochs=50,batch_size=16)\n",
        ""
      ],
      "metadata": {
        "colab": {
          "base_uri": "https://localhost:8080/"
        },
        "id": "SzrPlnaFFkLl",
        "outputId": "6e3d01ff-692a-4cf5-8ab2-f53131a94f31"
      },
      "execution_count": 33,
      "outputs": [
        {
          "output_type": "stream",
          "name": "stdout",
          "text": [
            "Epoch 1/50\n",
            "\u001b[1m3000/3000\u001b[0m \u001b[32m━━━━━━━━━━━━━━━━━━━━\u001b[0m\u001b[37m\u001b[0m \u001b[1m16s\u001b[0m 4ms/step - accuracy: 0.8801 - loss: 0.3875 - val_accuracy: 0.9812 - val_loss: 0.0644\n",
            "Epoch 2/50\n",
            "\u001b[1m3000/3000\u001b[0m \u001b[32m━━━━━━━━━━━━━━━━━━━━\u001b[0m\u001b[37m\u001b[0m \u001b[1m10s\u001b[0m 3ms/step - accuracy: 0.9769 - loss: 0.0731 - val_accuracy: 0.9845 - val_loss: 0.0531\n",
            "Epoch 3/50\n",
            "\u001b[1m3000/3000\u001b[0m \u001b[32m━━━━━━━━━━━━━━━━━━━━\u001b[0m\u001b[37m\u001b[0m \u001b[1m12s\u001b[0m 4ms/step - accuracy: 0.9835 - loss: 0.0536 - val_accuracy: 0.9865 - val_loss: 0.0478\n",
            "Epoch 4/50\n",
            "\u001b[1m3000/3000\u001b[0m \u001b[32m━━━━━━━━━━━━━━━━━━━━\u001b[0m\u001b[37m\u001b[0m \u001b[1m20s\u001b[0m 4ms/step - accuracy: 0.9860 - loss: 0.0448 - val_accuracy: 0.9884 - val_loss: 0.0414\n",
            "Epoch 5/50\n",
            "\u001b[1m3000/3000\u001b[0m \u001b[32m━━━━━━━━━━━━━━━━━━━━\u001b[0m\u001b[37m\u001b[0m \u001b[1m19s\u001b[0m 3ms/step - accuracy: 0.9869 - loss: 0.0413 - val_accuracy: 0.9869 - val_loss: 0.0423\n",
            "Epoch 6/50\n",
            "\u001b[1m3000/3000\u001b[0m \u001b[32m━━━━━━━━━━━━━━━━━━━━\u001b[0m\u001b[37m\u001b[0m \u001b[1m11s\u001b[0m 4ms/step - accuracy: 0.9888 - loss: 0.0356 - val_accuracy: 0.9898 - val_loss: 0.0361\n",
            "Epoch 7/50\n",
            "\u001b[1m3000/3000\u001b[0m \u001b[32m━━━━━━━━━━━━━━━━━━━━\u001b[0m\u001b[37m\u001b[0m \u001b[1m11s\u001b[0m 4ms/step - accuracy: 0.9903 - loss: 0.0295 - val_accuracy: 0.9898 - val_loss: 0.0344\n",
            "Epoch 8/50\n",
            "\u001b[1m3000/3000\u001b[0m \u001b[32m━━━━━━━━━━━━━━━━━━━━\u001b[0m\u001b[37m\u001b[0m \u001b[1m22s\u001b[0m 4ms/step - accuracy: 0.9910 - loss: 0.0269 - val_accuracy: 0.9908 - val_loss: 0.0346\n",
            "Epoch 9/50\n",
            "\u001b[1m3000/3000\u001b[0m \u001b[32m━━━━━━━━━━━━━━━━━━━━\u001b[0m\u001b[37m\u001b[0m \u001b[1m19s\u001b[0m 4ms/step - accuracy: 0.9916 - loss: 0.0256 - val_accuracy: 0.9902 - val_loss: 0.0351\n",
            "Epoch 10/50\n",
            "\u001b[1m3000/3000\u001b[0m \u001b[32m━━━━━━━━━━━━━━━━━━━━\u001b[0m\u001b[37m\u001b[0m \u001b[1m22s\u001b[0m 4ms/step - accuracy: 0.9923 - loss: 0.0240 - val_accuracy: 0.9910 - val_loss: 0.0332\n",
            "Epoch 11/50\n",
            "\u001b[1m3000/3000\u001b[0m \u001b[32m━━━━━━━━━━━━━━━━━━━━\u001b[0m\u001b[37m\u001b[0m \u001b[1m12s\u001b[0m 4ms/step - accuracy: 0.9931 - loss: 0.0208 - val_accuracy: 0.9896 - val_loss: 0.0365\n",
            "Epoch 12/50\n",
            "\u001b[1m3000/3000\u001b[0m \u001b[32m━━━━━━━━━━━━━━━━━━━━\u001b[0m\u001b[37m\u001b[0m \u001b[1m13s\u001b[0m 4ms/step - accuracy: 0.9935 - loss: 0.0198 - val_accuracy: 0.9912 - val_loss: 0.0352\n",
            "Epoch 13/50\n",
            "\u001b[1m3000/3000\u001b[0m \u001b[32m━━━━━━━━━━━━━━━━━━━━\u001b[0m\u001b[37m\u001b[0m \u001b[1m20s\u001b[0m 4ms/step - accuracy: 0.9930 - loss: 0.0196 - val_accuracy: 0.9918 - val_loss: 0.0317\n",
            "Epoch 14/50\n",
            "\u001b[1m3000/3000\u001b[0m \u001b[32m━━━━━━━━━━━━━━━━━━━━\u001b[0m\u001b[37m\u001b[0m \u001b[1m21s\u001b[0m 4ms/step - accuracy: 0.9933 - loss: 0.0202 - val_accuracy: 0.9908 - val_loss: 0.0385\n",
            "Epoch 15/50\n",
            "\u001b[1m3000/3000\u001b[0m \u001b[32m━━━━━━━━━━━━━━━━━━━━\u001b[0m\u001b[37m\u001b[0m \u001b[1m20s\u001b[0m 4ms/step - accuracy: 0.9940 - loss: 0.0178 - val_accuracy: 0.9896 - val_loss: 0.0389\n",
            "Epoch 16/50\n",
            "\u001b[1m3000/3000\u001b[0m \u001b[32m━━━━━━━━━━━━━━━━━━━━\u001b[0m\u001b[37m\u001b[0m \u001b[1m20s\u001b[0m 4ms/step - accuracy: 0.9940 - loss: 0.0169 - val_accuracy: 0.9908 - val_loss: 0.0391\n",
            "Epoch 17/50\n",
            "\u001b[1m3000/3000\u001b[0m \u001b[32m━━━━━━━━━━━━━━━━━━━━\u001b[0m\u001b[37m\u001b[0m \u001b[1m12s\u001b[0m 4ms/step - accuracy: 0.9938 - loss: 0.0178 - val_accuracy: 0.9917 - val_loss: 0.0352\n",
            "Epoch 18/50\n",
            "\u001b[1m3000/3000\u001b[0m \u001b[32m━━━━━━━━━━━━━━━━━━━━\u001b[0m\u001b[37m\u001b[0m \u001b[1m23s\u001b[0m 5ms/step - accuracy: 0.9943 - loss: 0.0163 - val_accuracy: 0.9922 - val_loss: 0.0346\n",
            "Epoch 19/50\n",
            "\u001b[1m3000/3000\u001b[0m \u001b[32m━━━━━━━━━━━━━━━━━━━━\u001b[0m\u001b[37m\u001b[0m \u001b[1m12s\u001b[0m 4ms/step - accuracy: 0.9945 - loss: 0.0158 - val_accuracy: 0.9921 - val_loss: 0.0337\n",
            "Epoch 20/50\n",
            "\u001b[1m3000/3000\u001b[0m \u001b[32m━━━━━━━━━━━━━━━━━━━━\u001b[0m\u001b[37m\u001b[0m \u001b[1m22s\u001b[0m 5ms/step - accuracy: 0.9954 - loss: 0.0136 - val_accuracy: 0.9921 - val_loss: 0.0351\n",
            "Epoch 21/50\n",
            "\u001b[1m3000/3000\u001b[0m \u001b[32m━━━━━━━━━━━━━━━━━━━━\u001b[0m\u001b[37m\u001b[0m \u001b[1m20s\u001b[0m 4ms/step - accuracy: 0.9950 - loss: 0.0142 - val_accuracy: 0.9915 - val_loss: 0.0359\n",
            "Epoch 22/50\n",
            "\u001b[1m3000/3000\u001b[0m \u001b[32m━━━━━━━━━━━━━━━━━━━━\u001b[0m\u001b[37m\u001b[0m \u001b[1m19s\u001b[0m 4ms/step - accuracy: 0.9951 - loss: 0.0133 - val_accuracy: 0.9916 - val_loss: 0.0351\n",
            "Epoch 23/50\n",
            "\u001b[1m3000/3000\u001b[0m \u001b[32m━━━━━━━━━━━━━━━━━━━━\u001b[0m\u001b[37m\u001b[0m \u001b[1m23s\u001b[0m 5ms/step - accuracy: 0.9949 - loss: 0.0142 - val_accuracy: 0.9911 - val_loss: 0.0369\n",
            "Epoch 24/50\n",
            "\u001b[1m3000/3000\u001b[0m \u001b[32m━━━━━━━━━━━━━━━━━━━━\u001b[0m\u001b[37m\u001b[0m \u001b[1m23s\u001b[0m 5ms/step - accuracy: 0.9956 - loss: 0.0136 - val_accuracy: 0.9918 - val_loss: 0.0351\n",
            "Epoch 25/50\n",
            "\u001b[1m3000/3000\u001b[0m \u001b[32m━━━━━━━━━━━━━━━━━━━━\u001b[0m\u001b[37m\u001b[0m \u001b[1m12s\u001b[0m 4ms/step - accuracy: 0.9955 - loss: 0.0129 - val_accuracy: 0.9911 - val_loss: 0.0389\n",
            "Epoch 26/50\n",
            "\u001b[1m3000/3000\u001b[0m \u001b[32m━━━━━━━━━━━━━━━━━━━━\u001b[0m\u001b[37m\u001b[0m \u001b[1m12s\u001b[0m 4ms/step - accuracy: 0.9959 - loss: 0.0121 - val_accuracy: 0.9905 - val_loss: 0.0428\n",
            "Epoch 27/50\n",
            "\u001b[1m3000/3000\u001b[0m \u001b[32m━━━━━━━━━━━━━━━━━━━━\u001b[0m\u001b[37m\u001b[0m \u001b[1m15s\u001b[0m 5ms/step - accuracy: 0.9956 - loss: 0.0126 - val_accuracy: 0.9921 - val_loss: 0.0395\n",
            "Epoch 28/50\n",
            "\u001b[1m3000/3000\u001b[0m \u001b[32m━━━━━━━━━━━━━━━━━━━━\u001b[0m\u001b[37m\u001b[0m \u001b[1m18s\u001b[0m 4ms/step - accuracy: 0.9963 - loss: 0.0119 - val_accuracy: 0.9922 - val_loss: 0.0375\n",
            "Epoch 29/50\n",
            "\u001b[1m3000/3000\u001b[0m \u001b[32m━━━━━━━━━━━━━━━━━━━━\u001b[0m\u001b[37m\u001b[0m \u001b[1m12s\u001b[0m 4ms/step - accuracy: 0.9956 - loss: 0.0131 - val_accuracy: 0.9916 - val_loss: 0.0411\n",
            "Epoch 30/50\n",
            "\u001b[1m3000/3000\u001b[0m \u001b[32m━━━━━━━━━━━━━━━━━━━━\u001b[0m\u001b[37m\u001b[0m \u001b[1m11s\u001b[0m 4ms/step - accuracy: 0.9956 - loss: 0.0128 - val_accuracy: 0.9914 - val_loss: 0.0439\n",
            "Epoch 31/50\n",
            "\u001b[1m3000/3000\u001b[0m \u001b[32m━━━━━━━━━━━━━━━━━━━━\u001b[0m\u001b[37m\u001b[0m \u001b[1m12s\u001b[0m 4ms/step - accuracy: 0.9961 - loss: 0.0108 - val_accuracy: 0.9918 - val_loss: 0.0419\n",
            "Epoch 32/50\n",
            "\u001b[1m3000/3000\u001b[0m \u001b[32m━━━━━━━━━━━━━━━━━━━━\u001b[0m\u001b[37m\u001b[0m \u001b[1m23s\u001b[0m 5ms/step - accuracy: 0.9962 - loss: 0.0110 - val_accuracy: 0.9920 - val_loss: 0.0392\n",
            "Epoch 33/50\n",
            "\u001b[1m3000/3000\u001b[0m \u001b[32m━━━━━━━━━━━━━━━━━━━━\u001b[0m\u001b[37m\u001b[0m \u001b[1m10s\u001b[0m 3ms/step - accuracy: 0.9964 - loss: 0.0113 - val_accuracy: 0.9904 - val_loss: 0.0467\n",
            "Epoch 34/50\n",
            "\u001b[1m3000/3000\u001b[0m \u001b[32m━━━━━━━━━━━━━━━━━━━━\u001b[0m\u001b[37m\u001b[0m \u001b[1m13s\u001b[0m 4ms/step - accuracy: 0.9952 - loss: 0.0139 - val_accuracy: 0.9908 - val_loss: 0.0487\n",
            "Epoch 35/50\n",
            "\u001b[1m3000/3000\u001b[0m \u001b[32m━━━━━━━━━━━━━━━━━━━━\u001b[0m\u001b[37m\u001b[0m \u001b[1m18s\u001b[0m 4ms/step - accuracy: 0.9966 - loss: 0.0106 - val_accuracy: 0.9915 - val_loss: 0.0441\n",
            "Epoch 36/50\n",
            "\u001b[1m3000/3000\u001b[0m \u001b[32m━━━━━━━━━━━━━━━━━━━━\u001b[0m\u001b[37m\u001b[0m \u001b[1m11s\u001b[0m 4ms/step - accuracy: 0.9961 - loss: 0.0107 - val_accuracy: 0.9917 - val_loss: 0.0423\n",
            "Epoch 37/50\n",
            "\u001b[1m3000/3000\u001b[0m \u001b[32m━━━━━━━━━━━━━━━━━━━━\u001b[0m\u001b[37m\u001b[0m \u001b[1m12s\u001b[0m 4ms/step - accuracy: 0.9963 - loss: 0.0114 - val_accuracy: 0.9922 - val_loss: 0.0451\n",
            "Epoch 38/50\n",
            "\u001b[1m3000/3000\u001b[0m \u001b[32m━━━━━━━━━━━━━━━━━━━━\u001b[0m\u001b[37m\u001b[0m \u001b[1m11s\u001b[0m 4ms/step - accuracy: 0.9961 - loss: 0.0115 - val_accuracy: 0.9915 - val_loss: 0.0362\n",
            "Epoch 39/50\n",
            "\u001b[1m3000/3000\u001b[0m \u001b[32m━━━━━━━━━━━━━━━━━━━━\u001b[0m\u001b[37m\u001b[0m \u001b[1m11s\u001b[0m 4ms/step - accuracy: 0.9972 - loss: 0.0075 - val_accuracy: 0.9918 - val_loss: 0.0439\n",
            "Epoch 40/50\n",
            "\u001b[1m3000/3000\u001b[0m \u001b[32m━━━━━━━━━━━━━━━━━━━━\u001b[0m\u001b[37m\u001b[0m \u001b[1m22s\u001b[0m 4ms/step - accuracy: 0.9973 - loss: 0.0083 - val_accuracy: 0.9927 - val_loss: 0.0406\n",
            "Epoch 41/50\n",
            "\u001b[1m3000/3000\u001b[0m \u001b[32m━━━━━━━━━━━━━━━━━━━━\u001b[0m\u001b[37m\u001b[0m \u001b[1m11s\u001b[0m 3ms/step - accuracy: 0.9967 - loss: 0.0108 - val_accuracy: 0.9910 - val_loss: 0.0504\n",
            "Epoch 42/50\n",
            "\u001b[1m3000/3000\u001b[0m \u001b[32m━━━━━━━━━━━━━━━━━━━━\u001b[0m\u001b[37m\u001b[0m \u001b[1m22s\u001b[0m 4ms/step - accuracy: 0.9967 - loss: 0.0096 - val_accuracy: 0.9919 - val_loss: 0.0412\n",
            "Epoch 43/50\n",
            "\u001b[1m3000/3000\u001b[0m \u001b[32m━━━━━━━━━━━━━━━━━━━━\u001b[0m\u001b[37m\u001b[0m \u001b[1m11s\u001b[0m 4ms/step - accuracy: 0.9963 - loss: 0.0120 - val_accuracy: 0.9923 - val_loss: 0.0441\n",
            "Epoch 44/50\n",
            "\u001b[1m3000/3000\u001b[0m \u001b[32m━━━━━━━━━━━━━━━━━━━━\u001b[0m\u001b[37m\u001b[0m \u001b[1m20s\u001b[0m 4ms/step - accuracy: 0.9965 - loss: 0.0109 - val_accuracy: 0.9918 - val_loss: 0.0425\n",
            "Epoch 45/50\n",
            "\u001b[1m3000/3000\u001b[0m \u001b[32m━━━━━━━━━━━━━━━━━━━━\u001b[0m\u001b[37m\u001b[0m \u001b[1m21s\u001b[0m 4ms/step - accuracy: 0.9960 - loss: 0.0113 - val_accuracy: 0.9918 - val_loss: 0.0479\n",
            "Epoch 46/50\n",
            "\u001b[1m3000/3000\u001b[0m \u001b[32m━━━━━━━━━━━━━━━━━━━━\u001b[0m\u001b[37m\u001b[0m \u001b[1m21s\u001b[0m 4ms/step - accuracy: 0.9970 - loss: 0.0087 - val_accuracy: 0.9908 - val_loss: 0.0481\n",
            "Epoch 47/50\n",
            "\u001b[1m3000/3000\u001b[0m \u001b[32m━━━━━━━━━━━━━━━━━━━━\u001b[0m\u001b[37m\u001b[0m \u001b[1m20s\u001b[0m 4ms/step - accuracy: 0.9966 - loss: 0.0104 - val_accuracy: 0.9920 - val_loss: 0.0444\n",
            "Epoch 48/50\n",
            "\u001b[1m3000/3000\u001b[0m \u001b[32m━━━━━━━━━━━━━━━━━━━━\u001b[0m\u001b[37m\u001b[0m \u001b[1m20s\u001b[0m 4ms/step - accuracy: 0.9971 - loss: 0.0085 - val_accuracy: 0.9908 - val_loss: 0.0506\n",
            "Epoch 49/50\n",
            "\u001b[1m3000/3000\u001b[0m \u001b[32m━━━━━━━━━━━━━━━━━━━━\u001b[0m\u001b[37m\u001b[0m \u001b[1m20s\u001b[0m 4ms/step - accuracy: 0.9958 - loss: 0.0125 - val_accuracy: 0.9934 - val_loss: 0.0455\n",
            "Epoch 50/50\n",
            "\u001b[1m3000/3000\u001b[0m \u001b[32m━━━━━━━━━━━━━━━━━━━━\u001b[0m\u001b[37m\u001b[0m \u001b[1m21s\u001b[0m 4ms/step - accuracy: 0.9962 - loss: 0.0116 - val_accuracy: 0.9923 - val_loss: 0.0493\n"
          ]
        }
      ]
    },
    {
      "cell_type": "markdown",
      "source": [
        "Learning curve"
      ],
      "metadata": {
        "id": "YzV76UoUFytV"
      }
    },
    {
      "cell_type": "code",
      "source": [
        "plt.plot(hist.history[\"loss\"],label=\"Training Loss\")\n",
        "plt.plot(hist.history[\"val_loss\"],label=\"Validation Loss\")\n",
        "plt.xlabel(\"Number of Epochs\")\n",
        "plt.ylabel(\"Categorical Cross Entropy\")\n",
        "plt.legend()\n",
        "plt.title(\"Learning Curve\")\n",
        "plt.show()\n",
        "\n"
      ],
      "metadata": {
        "colab": {
          "base_uri": "https://localhost:8080/",
          "height": 472
        },
        "id": "w2t4VvBqF2sC",
        "outputId": "29130a72-afba-43bc-8091-fcd0727dbf71"
      },
      "execution_count": 34,
      "outputs": [
        {
          "output_type": "display_data",
          "data": {
            "text/plain": [
              "<Figure size 640x480 with 1 Axes>"
            ],
            "image/png": "[encoded data removed]"
          },
          "metadata": {}
        }
      ]
    },
    {
      "cell_type": "markdown",
      "source": [
        "Number of epochs should be reduced. We can consider epoch size somewhere around 20"
      ],
      "metadata": {
        "id": "XOjML36yGOdR"
      }
    },
    {
      "cell_type": "markdown",
      "source": [
        "Model evaluation\n"
      ],
      "metadata": {
        "id": "D8kTM9lKGTGD"
      }
    },
    {
      "cell_type": "code",
      "source": [
        "model.evaluate(xtrain_scl,ytrain_scl)"
      ],
      "metadata": {
        "colab": {
          "base_uri": "https://localhost:8080/"
        },
        "id": "yy5doi-7Gf9B",
        "outputId": "f0e76bf4-d373-48f2-b189-17ab1260d9a2"
      },
      "execution_count": 35,
      "outputs": [
        {
          "output_type": "stream",
          "name": "stdout",
          "text": [
            "\u001b[1m1875/1875\u001b[0m \u001b[32m━━━━━━━━━━━━━━━━━━━━\u001b[0m\u001b[37m\u001b[0m \u001b[1m6s\u001b[0m 3ms/step - accuracy: 0.9997 - loss: 0.0016\n"
          ]
        },
        {
          "output_type": "execute_result",
          "data": {
            "text/plain": [
              "[0.01033119298517704, 0.9983500242233276]"
            ]
          },
          "metadata": {},
          "execution_count": 35
        }
      ]
    },
    {
      "cell_type": "code",
      "source": [
        "model.evaluate(xtest_scl,ytest_scl)"
      ],
      "metadata": {
        "colab": {
          "base_uri": "https://localhost:8080/"
        },
        "id": "0OynHUNbGkP2",
        "outputId": "191a6f81-c888-45b7-835f-7176c70fb144"
      },
      "execution_count": 36,
      "outputs": [
        {
          "output_type": "stream",
          "name": "stdout",
          "text": [
            "\u001b[1m313/313\u001b[0m \u001b[32m━━━━━━━━━━━━━━━━━━━━\u001b[0m\u001b[37m\u001b[0m \u001b[1m1s\u001b[0m 3ms/step - accuracy: 0.9884 - loss: 0.0552\n"
          ]
        },
        {
          "output_type": "execute_result",
          "data": {
            "text/plain": [
              "[0.04392777755856514, 0.9915000200271606]"
            ]
          },
          "metadata": {},
          "execution_count": 36
        }
      ]
    },
    {
      "cell_type": "code",
      "source": [
        "ypreds = model.predict(xtest_scl)"
      ],
      "metadata": {
        "colab": {
          "base_uri": "https://localhost:8080/"
        },
        "id": "VC8UV_AKGnhZ",
        "outputId": "a5ccaf26-059f-4009-bd53-514040f00707"
      },
      "execution_count": 37,
      "outputs": [
        {
          "output_type": "stream",
          "name": "stdout",
          "text": [
            "\u001b[1m313/313\u001b[0m \u001b[32m━━━━━━━━━━━━━━━━━━━━\u001b[0m\u001b[37m\u001b[0m \u001b[1m1s\u001b[0m 2ms/step\n"
          ]
        }
      ]
    },
    {
      "cell_type": "code",
      "source": [
        "ypreds_final = np.argmax(ypreds,axis=1)\n",
        "ypreds_final"
      ],
      "metadata": {
        "colab": {
          "base_uri": "https://localhost:8080/"
        },
        "id": "H6ThDhVlGsfo",
        "outputId": "7d5a0a3a-8112-4973-f591-23940b8a0183"
      },
      "execution_count": 38,
      "outputs": [
        {
          "output_type": "execute_result",
          "data": {
            "text/plain": [
              "array([7, 2, 1, ..., 4, 5, 6])"
            ]
          },
          "metadata": {},
          "execution_count": 38
        }
      ]
    },
    {
      "cell_type": "code",
      "source": [
        "from sklearn.metrics import confusion_matrix,ConfusionMatrixDisplay,classification_report\n",
        "#cf = confusion_matrix(ytest_scl,ypreds)\n",
        "ConfusionMatrixDisplay.from_predictions(ytest,ypreds_final)\n",
        "\n"
      ],
      "metadata": {
        "colab": {
          "base_uri": "https://localhost:8080/",
          "height": 466
        },
        "id": "wFeJoDm-Gv8i",
        "outputId": "fd60fc6a-52f4-418f-95c7-f8ed114fcb9b"
      },
      "execution_count": 39,
      "outputs": [
        {
          "output_type": "execute_result",
          "data": {
            "text/plain": [
              "<sklearn.metrics._plot.confusion_matrix.ConfusionMatrixDisplay at 0x79ac9084ea50>"
            ]
          },
          "metadata": {},
          "execution_count": 39
        },
        {
          "output_type": "display_data",
          "data": {
            "text/plain": [
              "<Figure size 640x480 with 2 Axes>"
            ],
            "image/png": "[encoded data removed]"
          },
          "metadata": {}
        }
      ]
    },
    {
      "cell_type": "code",
      "source": [
        "print(classification_report(ytest,ypreds_final))"
      ],
      "metadata": {
        "colab": {
          "base_uri": "https://localhost:8080/"
        },
        "id": "dySqBSH7NDbi",
        "outputId": "0cc65935-61a2-4a2a-e89e-473e844174b1"
      },
      "execution_count": 48,
      "outputs": [
        {
          "output_type": "stream",
          "name": "stdout",
          "text": [
            "              precision    recall  f1-score   support\n",
            "\n",
            "           0       0.99      1.00      0.99       980\n",
            "           1       0.99      1.00      1.00      1135\n",
            "           2       0.99      0.99      0.99      1032\n",
            "           3       1.00      0.99      0.99      1010\n",
            "           4       0.99      0.99      0.99       982\n",
            "           5       0.99      0.99      0.99       892\n",
            "           6       1.00      0.98      0.99       958\n",
            "           7       0.99      0.99      0.99      1028\n",
            "           8       0.99      0.99      0.99       974\n",
            "           9       0.99      0.98      0.99      1009\n",
            "\n",
            "    accuracy                           0.99     10000\n",
            "   macro avg       0.99      0.99      0.99     10000\n",
            "weighted avg       0.99      0.99      0.99     10000\n",
            "\n"
          ]
        }
      ]
    },
    {
      "cell_type": "markdown",
      "source": [
        "Model provides very good score for accuracy,f1-macro . This mdoel can be considered for final predictions"
      ],
      "metadata": {
        "id": "3ISksT4dG6hF"
      }
    },
    {
      "cell_type": "code",
      "source": [
        "model.save(\"Image CLassification.keras\")\n",
        ""
      ],
      "metadata": {
        "id": "Y_I2YPYuG96N"
      },
      "execution_count": 49,
      "outputs": []
    },
    {
      "cell_type": "code",
      "source": [
        "from keras.models import load_model\n",
        "m1 = load_model('/content/Image CLassification.keras')\n",
        "m1.summary()\n",
        ""
      ],
      "metadata": {
        "colab": {
          "base_uri": "https://localhost:8080/",
          "height": 391
        },
        "id": "E5xk8VAyHCx7",
        "outputId": "01afe0c5-8b9d-49df-8965-fb0fe4d8854b"
      },
      "execution_count": 63,
      "outputs": [
        {
          "output_type": "display_data",
          "data": {
            "text/plain": [
              "\u001b[1mModel: \"sequential\"\u001b[0m\n"
            ],
            "text/html": [
              "<pre style=\"white-space:pre;overflow-x:auto;line-height:normal;font-family:Menlo,'DejaVu Sans Mono',consolas,'Courier New',monospace\"><span style=\"font-weight: bold\">Model: \"sequential\"</span>\n",
              "</pre>\n"
            ]
          },
          "metadata": {}
        },
        {
          "output_type": "display_data",
          "data": {
            "text/plain": [
              "┏━━━━━━━━━━━━━━━━━━━━━━━━━━━━━━━━━┳━━━━━━━━━━━━━━━━━━━━━━━━┳━━━━━━━━━━━━━━━┓\n",
              "┃\u001b[1m \u001b[0m\u001b[1mLayer (type)                   \u001b[0m\u001b[1m \u001b[0m┃\u001b[1m \u001b[0m\u001b[1mOutput Shape          \u001b[0m\u001b[1m \u001b[0m┃\u001b[1m \u001b[0m\u001b[1m      Param #\u001b[0m\u001b[1m \u001b[0m┃\n",
              "┡━━━━━━━━━━━━━━━━━━━━━━━━━━━━━━━━━╇━━━━━━━━━━━━━━━━━━━━━━━━╇━━━━━━━━━━━━━━━┩\n",
              "│ conv2d (\u001b[38;5;33mConv2D\u001b[0m)                 │ (\u001b[38;5;45mNone\u001b[0m, \u001b[38;5;34m26\u001b[0m, \u001b[38;5;34m26\u001b[0m, \u001b[38;5;34m32\u001b[0m)     │           \u001b[38;5;34m320\u001b[0m │\n",
              "├─────────────────────────────────┼────────────────────────┼───────────────┤\n",
              "│ max_pooling2d (\u001b[38;5;33mMaxPooling2D\u001b[0m)    │ (\u001b[38;5;45mNone\u001b[0m, \u001b[38;5;34m13\u001b[0m, \u001b[38;5;34m13\u001b[0m, \u001b[38;5;34m32\u001b[0m)     │             \u001b[38;5;34m0\u001b[0m │\n",
              "├─────────────────────────────────┼────────────────────────┼───────────────┤\n",
              "│ conv2d_1 (\u001b[38;5;33mConv2D\u001b[0m)               │ (\u001b[38;5;45mNone\u001b[0m, \u001b[38;5;34m11\u001b[0m, \u001b[38;5;34m11\u001b[0m, \u001b[38;5;34m64\u001b[0m)     │        \u001b[38;5;34m18,496\u001b[0m │\n",
              "├─────────────────────────────────┼────────────────────────┼───────────────┤\n",
              "│ max_pooling2d_1 (\u001b[38;5;33mMaxPooling2D\u001b[0m)  │ (\u001b[38;5;45mNone\u001b[0m, \u001b[38;5;34m5\u001b[0m, \u001b[38;5;34m5\u001b[0m, \u001b[38;5;34m64\u001b[0m)       │             \u001b[38;5;34m0\u001b[0m │\n",
              "├─────────────────────────────────┼────────────────────────┼───────────────┤\n",
              "│ flatten (\u001b[38;5;33mFlatten\u001b[0m)               │ (\u001b[38;5;45mNone\u001b[0m, \u001b[38;5;34m1600\u001b[0m)           │             \u001b[38;5;34m0\u001b[0m │\n",
              "├─────────────────────────────────┼────────────────────────┼───────────────┤\n",
              "│ dropout (\u001b[38;5;33mDropout\u001b[0m)               │ (\u001b[38;5;45mNone\u001b[0m, \u001b[38;5;34m1600\u001b[0m)           │             \u001b[38;5;34m0\u001b[0m │\n",
              "├─────────────────────────────────┼────────────────────────┼───────────────┤\n",
              "│ dense (\u001b[38;5;33mDense\u001b[0m)                   │ (\u001b[38;5;45mNone\u001b[0m, \u001b[38;5;34m10\u001b[0m)             │        \u001b[38;5;34m16,010\u001b[0m │\n",
              "└─────────────────────────────────┴────────────────────────┴───────────────┘\n"
            ],
            "text/html": [
              "<pre style=\"white-space:pre;overflow-x:auto;line-height:normal;font-family:Menlo,'DejaVu Sans Mono',consolas,'Courier New',monospace\">┏━━━━━━━━━━━━━━━━━━━━━━━━━━━━━━━━━┳━━━━━━━━━━━━━━━━━━━━━━━━┳━━━━━━━━━━━━━━━┓\n",
              "┃<span style=\"font-weight: bold\"> Layer (type)                    </span>┃<span style=\"font-weight: bold\"> Output Shape           </span>┃<span style=\"font-weight: bold\">       Param # </span>┃\n",
              "┡━━━━━━━━━━━━━━━━━━━━━━━━━━━━━━━━━╇━━━━━━━━━━━━━━━━━━━━━━━━╇━━━━━━━━━━━━━━━┩\n",
              "│ conv2d (<span style=\"color: #0087ff; text-decoration-color: #0087ff\">Conv2D</span>)                 │ (<span style=\"color: #00d7ff; text-decoration-color: #00d7ff\">None</span>, <span style=\"color: #00af00; text-decoration-color: #00af00\">26</span>, <span style=\"color: #00af00; text-decoration-color: #00af00\">26</span>, <span style=\"color: #00af00; text-decoration-color: #00af00\">32</span>)     │           <span style=\"color: #00af00; text-decoration-color: #00af00\">320</span> │\n",
              "├─────────────────────────────────┼────────────────────────┼───────────────┤\n",
              "│ max_pooling2d (<span style=\"color: #0087ff; text-decoration-color: #0087ff\">MaxPooling2D</span>)    │ (<span style=\"color: #00d7ff; text-decoration-color: #00d7ff\">None</span>, <span style=\"color: #00af00; text-decoration-color: #00af00\">13</span>, <span style=\"color: #00af00; text-decoration-color: #00af00\">13</span>, <span style=\"color: #00af00; text-decoration-color: #00af00\">32</span>)     │             <span style=\"color: #00af00; text-decoration-color: #00af00\">0</span> │\n",
              "├─────────────────────────────────┼────────────────────────┼───────────────┤\n",
              "│ conv2d_1 (<span style=\"color: #0087ff; text-decoration-color: #0087ff\">Conv2D</span>)               │ (<span style=\"color: #00d7ff; text-decoration-color: #00d7ff\">None</span>, <span style=\"color: #00af00; text-decoration-color: #00af00\">11</span>, <span style=\"color: #00af00; text-decoration-color: #00af00\">11</span>, <span style=\"color: #00af00; text-decoration-color: #00af00\">64</span>)     │        <span style=\"color: #00af00; text-decoration-color: #00af00\">18,496</span> │\n",
              "├─────────────────────────────────┼────────────────────────┼───────────────┤\n",
              "│ max_pooling2d_1 (<span style=\"color: #0087ff; text-decoration-color: #0087ff\">MaxPooling2D</span>)  │ (<span style=\"color: #00d7ff; text-decoration-color: #00d7ff\">None</span>, <span style=\"color: #00af00; text-decoration-color: #00af00\">5</span>, <span style=\"color: #00af00; text-decoration-color: #00af00\">5</span>, <span style=\"color: #00af00; text-decoration-color: #00af00\">64</span>)       │             <span style=\"color: #00af00; text-decoration-color: #00af00\">0</span> │\n",
              "├─────────────────────────────────┼────────────────────────┼───────────────┤\n",
              "│ flatten (<span style=\"color: #0087ff; text-decoration-color: #0087ff\">Flatten</span>)               │ (<span style=\"color: #00d7ff; text-decoration-color: #00d7ff\">None</span>, <span style=\"color: #00af00; text-decoration-color: #00af00\">1600</span>)           │             <span style=\"color: #00af00; text-decoration-color: #00af00\">0</span> │\n",
              "├─────────────────────────────────┼────────────────────────┼───────────────┤\n",
              "│ dropout (<span style=\"color: #0087ff; text-decoration-color: #0087ff\">Dropout</span>)               │ (<span style=\"color: #00d7ff; text-decoration-color: #00d7ff\">None</span>, <span style=\"color: #00af00; text-decoration-color: #00af00\">1600</span>)           │             <span style=\"color: #00af00; text-decoration-color: #00af00\">0</span> │\n",
              "├─────────────────────────────────┼────────────────────────┼───────────────┤\n",
              "│ dense (<span style=\"color: #0087ff; text-decoration-color: #0087ff\">Dense</span>)                   │ (<span style=\"color: #00d7ff; text-decoration-color: #00d7ff\">None</span>, <span style=\"color: #00af00; text-decoration-color: #00af00\">10</span>)             │        <span style=\"color: #00af00; text-decoration-color: #00af00\">16,010</span> │\n",
              "└─────────────────────────────────┴────────────────────────┴───────────────┘\n",
              "</pre>\n"
            ]
          },
          "metadata": {}
        },
        {
          "output_type": "display_data",
          "data": {
            "text/plain": [
              "\u001b[1m Total params: \u001b[0m\u001b[38;5;34m104,480\u001b[0m (408.13 KB)\n"
            ],
            "text/html": [
              "<pre style=\"white-space:pre;overflow-x:auto;line-height:normal;font-family:Menlo,'DejaVu Sans Mono',consolas,'Courier New',monospace\"><span style=\"font-weight: bold\"> Total params: </span><span style=\"color: #00af00; text-decoration-color: #00af00\">104,480</span> (408.13 KB)\n",
              "</pre>\n"
            ]
          },
          "metadata": {}
        },
        {
          "output_type": "display_data",
          "data": {
            "text/plain": [
              "\u001b[1m Trainable params: \u001b[0m\u001b[38;5;34m34,826\u001b[0m (136.04 KB)\n"
            ],
            "text/html": [
              "<pre style=\"white-space:pre;overflow-x:auto;line-height:normal;font-family:Menlo,'DejaVu Sans Mono',consolas,'Courier New',monospace\"><span style=\"font-weight: bold\"> Trainable params: </span><span style=\"color: #00af00; text-decoration-color: #00af00\">34,826</span> (136.04 KB)\n",
              "</pre>\n"
            ]
          },
          "metadata": {}
        },
        {
          "output_type": "display_data",
          "data": {
            "text/plain": [
              "\u001b[1m Non-trainable params: \u001b[0m\u001b[38;5;34m0\u001b[0m (0.00 B)\n"
            ],
            "text/html": [
              "<pre style=\"white-space:pre;overflow-x:auto;line-height:normal;font-family:Menlo,'DejaVu Sans Mono',consolas,'Courier New',monospace\"><span style=\"font-weight: bold\"> Non-trainable params: </span><span style=\"color: #00af00; text-decoration-color: #00af00\">0</span> (0.00 B)\n",
              "</pre>\n"
            ]
          },
          "metadata": {}
        },
        {
          "output_type": "display_data",
          "data": {
            "text/plain": [
              "\u001b[1m Optimizer params: \u001b[0m\u001b[38;5;34m69,654\u001b[0m (272.09 KB)\n"
            ],
            "text/html": [
              "<pre style=\"white-space:pre;overflow-x:auto;line-height:normal;font-family:Menlo,'DejaVu Sans Mono',consolas,'Courier New',monospace\"><span style=\"font-weight: bold\"> Optimizer params: </span><span style=\"color: #00af00; text-decoration-color: #00af00\">69,654</span> (272.09 KB)\n",
              "</pre>\n"
            ]
          },
          "metadata": {}
        }
      ]
    },
    {
      "cell_type": "markdown",
      "source": [
        "Out of sample predictions"
      ],
      "metadata": {
        "id": "M3kypsVUHPrd"
      }
    },
    {
      "cell_type": "code",
      "source": [
        "import cv2"
      ],
      "metadata": {
        "id": "Jz7LoUIuHYbZ"
      },
      "execution_count": 51,
      "outputs": []
    },
    {
      "cell_type": "code",
      "source": [
        "p1 = r\"/content/Example_3.jpg\"\n",
        "p2= r\"/content/Example_7.jpg\"\n",
        "p3=r\"/content/Example_9.jpg\"\n",
        "paths = [p1,p2,p3]\n",
        "\n"
      ],
      "metadata": {
        "id": "zUBdlHyyHfVT"
      },
      "execution_count": 64,
      "outputs": []
    },
    {
      "cell_type": "markdown",
      "source": [
        "## Load the image data\n",
        "## Scale the image data\n",
        "## Reshape the image scaled data by expanding the dimension\n",
        "     \n"
      ],
      "metadata": {
        "id": "ty4Ah3EbHoIP"
      }
    },
    {
      "cell_type": "code",
      "source": [
        "def predict_images(model,imgs):\n",
        "  img = cv2.imread(imgs,cv2.IMREAD_GRAYSCALE)\n",
        "  img_scl = img.astype('float32')/255\n",
        "  img_scl = img_scl.reshape(1,28,28,1)\n",
        "\n",
        "  prob = model.predict(img_scl)\n",
        "  preds = np.argmax(prob,axis=1)\n",
        "\n",
        "  return preds"
      ],
      "metadata": {
        "id": "yrxhc_pAHrjN"
      },
      "execution_count": 65,
      "outputs": []
    },
    {
      "cell_type": "code",
      "source": [
        "for path in paths:\n",
        "  final_preds = predict_images(m1,path)\n",
        "  print(final_preds)"
      ],
      "metadata": {
        "colab": {
          "base_uri": "https://localhost:8080/",
          "height": 297
        },
        "id": "aYz_QwgNHxeZ",
        "outputId": "47bc779d-75fd-47e0-b3c5-a40488a05fd0"
      },
      "execution_count": 66,
      "outputs": [
        {
          "output_type": "error",
          "ename": "AttributeError",
          "evalue": "'NoneType' object has no attribute 'astype'",
          "traceback": [
            "\u001b[0;31m---------------------------------------------------------------------------\u001b[0m",
            "\u001b[0;31mAttributeError\u001b[0m                            Traceback (most recent call last)",
            "\u001b[0;32m/tmp/ipython-input-66-2481933201.py\u001b[0m in \u001b[0;36m<cell line: 0>\u001b[0;34m()\u001b[0m\n\u001b[1;32m      1\u001b[0m \u001b[0;32mfor\u001b[0m \u001b[0mpath\u001b[0m \u001b[0;32min\u001b[0m \u001b[0mpaths\u001b[0m\u001b[0;34m:\u001b[0m\u001b[0;34m\u001b[0m\u001b[0;34m\u001b[0m\u001b[0m\n\u001b[0;32m----> 2\u001b[0;31m   \u001b[0mfinal_preds\u001b[0m \u001b[0;34m=\u001b[0m \u001b[0mpredict_images\u001b[0m\u001b[0;34m(\u001b[0m\u001b[0mm1\u001b[0m\u001b[0;34m,\u001b[0m\u001b[0mpath\u001b[0m\u001b[0;34m)\u001b[0m\u001b[0;34m\u001b[0m\u001b[0;34m\u001b[0m\u001b[0m\n\u001b[0m\u001b[1;32m      3\u001b[0m   \u001b[0mprint\u001b[0m\u001b[0;34m(\u001b[0m\u001b[0mfinal_preds\u001b[0m\u001b[0;34m)\u001b[0m\u001b[0;34m\u001b[0m\u001b[0;34m\u001b[0m\u001b[0m\n",
            "\u001b[0;32m/tmp/ipython-input-65-3760116211.py\u001b[0m in \u001b[0;36mpredict_images\u001b[0;34m(model, imgs)\u001b[0m\n\u001b[1;32m      1\u001b[0m \u001b[0;32mdef\u001b[0m \u001b[0mpredict_images\u001b[0m\u001b[0;34m(\u001b[0m\u001b[0mmodel\u001b[0m\u001b[0;34m,\u001b[0m\u001b[0mimgs\u001b[0m\u001b[0;34m)\u001b[0m\u001b[0;34m:\u001b[0m\u001b[0;34m\u001b[0m\u001b[0;34m\u001b[0m\u001b[0m\n\u001b[1;32m      2\u001b[0m   \u001b[0mimg\u001b[0m \u001b[0;34m=\u001b[0m \u001b[0mcv2\u001b[0m\u001b[0;34m.\u001b[0m\u001b[0mimread\u001b[0m\u001b[0;34m(\u001b[0m\u001b[0mimgs\u001b[0m\u001b[0;34m,\u001b[0m\u001b[0mcv2\u001b[0m\u001b[0;34m.\u001b[0m\u001b[0mIMREAD_GRAYSCALE\u001b[0m\u001b[0;34m)\u001b[0m\u001b[0;34m\u001b[0m\u001b[0;34m\u001b[0m\u001b[0m\n\u001b[0;32m----> 3\u001b[0;31m   \u001b[0mimg_scl\u001b[0m \u001b[0;34m=\u001b[0m \u001b[0mimg\u001b[0m\u001b[0;34m.\u001b[0m\u001b[0mastype\u001b[0m\u001b[0;34m(\u001b[0m\u001b[0;34m'float32'\u001b[0m\u001b[0;34m)\u001b[0m\u001b[0;34m/\u001b[0m\u001b[0;36m255\u001b[0m\u001b[0;34m\u001b[0m\u001b[0;34m\u001b[0m\u001b[0m\n\u001b[0m\u001b[1;32m      4\u001b[0m   \u001b[0mimg_scl\u001b[0m \u001b[0;34m=\u001b[0m \u001b[0mimg_scl\u001b[0m\u001b[0;34m.\u001b[0m\u001b[0mreshape\u001b[0m\u001b[0;34m(\u001b[0m\u001b[0;36m1\u001b[0m\u001b[0;34m,\u001b[0m\u001b[0;36m28\u001b[0m\u001b[0;34m,\u001b[0m\u001b[0;36m28\u001b[0m\u001b[0;34m,\u001b[0m\u001b[0;36m1\u001b[0m\u001b[0;34m)\u001b[0m\u001b[0;34m\u001b[0m\u001b[0;34m\u001b[0m\u001b[0m\n\u001b[1;32m      5\u001b[0m \u001b[0;34m\u001b[0m\u001b[0m\n",
            "\u001b[0;31mAttributeError\u001b[0m: 'NoneType' object has no attribute 'astype'"
          ]
        }
      ]
    }
  ]
}