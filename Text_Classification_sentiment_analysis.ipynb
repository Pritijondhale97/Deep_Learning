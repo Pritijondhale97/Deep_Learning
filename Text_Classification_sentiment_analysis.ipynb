{
  "nbformat": 4,
  "nbformat_minor": 0,
  "metadata": {
    "colab": {
      "provenance": [],
      "gpuType": "T4",
      "authorship_tag": "ABX9TyNmV3FxdPD64a+KJx/BkBMA",
      "include_colab_link": true
    },
    "kernelspec": {
      "name": "python3",
      "display_name": "Python 3"
    },
    "language_info": {
      "name": "python"
    },
    "accelerator": "GPU"
  },
  "cells": [
    {
      "cell_type": "markdown",
      "metadata": {
        "id": "view-in-github",
        "colab_type": "text"
      },
      "source": [
        "<a href=\"https://colab.research.google.com/github/Pritijondhale97/Deep_Learning/blob/main/Text_Classification_sentiment_analysis.ipynb\" target=\"_parent\"><img src=\"https://colab.research.google.com/assets/colab-badge.svg\" alt=\"Open In Colab\"/></a>"
      ]
    },
    {
      "cell_type": "code",
      "execution_count": null,
      "metadata": {
        "id": "fcowiCWW8oyv"
      },
      "outputs": [],
      "source": []
    },
    {
      "cell_type": "markdown",
      "source": [
        "# Sentiment Analysis"
      ],
      "metadata": {
        "id": "9VP6xkBJ-B2V"
      }
    },
    {
      "cell_type": "code",
      "source": [
        "\n",
        "path= r\"https://raw.githubusercontent.com/Sindhura-tr/Datasets/refs/heads/main/Restaurant_Reviews.tsv\"\n",
        "import pandas as pd\n",
        "df = pd.read_csv(path,sep=\"\\t\")\n",
        "df.head()\n",
        ""
      ],
      "metadata": {
        "colab": {
          "base_uri": "https://localhost:8080/",
          "height": 206
        },
        "id": "laPK0QXX-JOo",
        "outputId": "c1b59661-d6a5-427a-c2a2-fbfbcf4c5c84"
      },
      "execution_count": 1,
      "outputs": [
        {
          "output_type": "execute_result",
          "data": {
            "text/plain": [
              "                                              Review  Liked\n",
              "0                           Wow... Loved this place.      1\n",
              "1                                 Crust is not good.      0\n",
              "2          Not tasty and the texture was just nasty.      0\n",
              "3  Stopped by during the late May bank holiday of...      1\n",
              "4  The selection on the menu was great and so wer...      1"
            ],
            "text/html": [
              "\n",
              "  <div id=\"df-0ff6eb51-2338-493d-8436-42d3f5a616a6\" class=\"colab-df-container\">\n",
              "    <div>\n",
              "<style scoped>\n",
              "    .dataframe tbody tr th:only-of-type {\n",
              "        vertical-align: middle;\n",
              "    }\n",
              "\n",
              "    .dataframe tbody tr th {\n",
              "        vertical-align: top;\n",
              "    }\n",
              "\n",
              "    .dataframe thead th {\n",
              "        text-align: right;\n",
              "    }\n",
              "</style>\n",
              "<table border=\"1\" class=\"dataframe\">\n",
              "  <thead>\n",
              "    <tr style=\"text-align: right;\">\n",
              "      <th></th>\n",
              "      <th>Review</th>\n",
              "      <th>Liked</th>\n",
              "    </tr>\n",
              "  </thead>\n",
              "  <tbody>\n",
              "    <tr>\n",
              "      <th>0</th>\n",
              "      <td>Wow... Loved this place.</td>\n",
              "      <td>1</td>\n",
              "    </tr>\n",
              "    <tr>\n",
              "      <th>1</th>\n",
              "      <td>Crust is not good.</td>\n",
              "      <td>0</td>\n",
              "    </tr>\n",
              "    <tr>\n",
              "      <th>2</th>\n",
              "      <td>Not tasty and the texture was just nasty.</td>\n",
              "      <td>0</td>\n",
              "    </tr>\n",
              "    <tr>\n",
              "      <th>3</th>\n",
              "      <td>Stopped by during the late May bank holiday of...</td>\n",
              "      <td>1</td>\n",
              "    </tr>\n",
              "    <tr>\n",
              "      <th>4</th>\n",
              "      <td>The selection on the menu was great and so wer...</td>\n",
              "      <td>1</td>\n",
              "    </tr>\n",
              "  </tbody>\n",
              "</table>\n",
              "</div>\n",
              "    <div class=\"colab-df-buttons\">\n",
              "\n",
              "  <div class=\"colab-df-container\">\n",
              "    <button class=\"colab-df-convert\" onclick=\"convertToInteractive('df-0ff6eb51-2338-493d-8436-42d3f5a616a6')\"\n",
              "            title=\"Convert this dataframe to an interactive table.\"\n",
              "            style=\"display:none;\">\n",
              "\n",
              "  <svg xmlns=\"http://www.w3.org/2000/svg\" height=\"24px\" viewBox=\"0 -960 960 960\">\n",
              "    <path d=\"M120-120v-720h720v720H120Zm60-500h600v-160H180v160Zm220 220h160v-160H400v160Zm0 220h160v-160H400v160ZM180-400h160v-160H180v160Zm440 0h160v-160H620v160ZM180-180h160v-160H180v160Zm440 0h160v-160H620v160Z\"/>\n",
              "  </svg>\n",
              "    </button>\n",
              "\n",
              "  <style>\n",
              "    .colab-df-container {\n",
              "      display:flex;\n",
              "      gap: 12px;\n",
              "    }\n",
              "\n",
              "    .colab-df-convert {\n",
              "      background-color: #E8F0FE;\n",
              "      border: none;\n",
              "      border-radius: 50%;\n",
              "      cursor: pointer;\n",
              "      display: none;\n",
              "      fill: #1967D2;\n",
              "      height: 32px;\n",
              "      padding: 0 0 0 0;\n",
              "      width: 32px;\n",
              "    }\n",
              "\n",
              "    .colab-df-convert:hover {\n",
              "      background-color: #E2EBFA;\n",
              "      box-shadow: 0px 1px 2px rgba(60, 64, 67, 0.3), 0px 1px 3px 1px rgba(60, 64, 67, 0.15);\n",
              "      fill: #174EA6;\n",
              "    }\n",
              "\n",
              "    .colab-df-buttons div {\n",
              "      margin-bottom: 4px;\n",
              "    }\n",
              "\n",
              "    [theme=dark] .colab-df-convert {\n",
              "      background-color: #3B4455;\n",
              "      fill: #D2E3FC;\n",
              "    }\n",
              "\n",
              "    [theme=dark] .colab-df-convert:hover {\n",
              "      background-color: #434B5C;\n",
              "      box-shadow: 0px 1px 3px 1px rgba(0, 0, 0, 0.15);\n",
              "      filter: drop-shadow(0px 1px 2px rgba(0, 0, 0, 0.3));\n",
              "      fill: #FFFFFF;\n",
              "    }\n",
              "  </style>\n",
              "\n",
              "    <script>\n",
              "      const buttonEl =\n",
              "        document.querySelector('#df-0ff6eb51-2338-493d-8436-42d3f5a616a6 button.colab-df-convert');\n",
              "      buttonEl.style.display =\n",
              "        google.colab.kernel.accessAllowed ? 'block' : 'none';\n",
              "\n",
              "      async function convertToInteractive(key) {\n",
              "        const element = document.querySelector('#df-0ff6eb51-2338-493d-8436-42d3f5a616a6');\n",
              "        const dataTable =\n",
              "          await google.colab.kernel.invokeFunction('convertToInteractive',\n",
              "                                                    [key], {});\n",
              "        if (!dataTable) return;\n",
              "\n",
              "        const docLinkHtml = 'Like what you see? Visit the ' +\n",
              "          '<a target=\"_blank\" href=https://colab.research.google.com/notebooks/data_table.ipynb>data table notebook</a>'\n",
              "          + ' to learn more about interactive tables.';\n",
              "        element.innerHTML = '';\n",
              "        dataTable['output_type'] = 'display_data';\n",
              "        await google.colab.output.renderOutput(dataTable, element);\n",
              "        const docLink = document.createElement('div');\n",
              "        docLink.innerHTML = docLinkHtml;\n",
              "        element.appendChild(docLink);\n",
              "      }\n",
              "    </script>\n",
              "  </div>\n",
              "\n",
              "\n",
              "    <div id=\"df-7824c206-4fad-4558-b16c-ec02b3d21601\">\n",
              "      <button class=\"colab-df-quickchart\" onclick=\"quickchart('df-7824c206-4fad-4558-b16c-ec02b3d21601')\"\n",
              "                title=\"Suggest charts\"\n",
              "                style=\"display:none;\">\n",
              "\n",
              "<svg xmlns=\"http://www.w3.org/2000/svg\" height=\"24px\"viewBox=\"0 0 24 24\"\n",
              "     width=\"24px\">\n",
              "    <g>\n",
              "        <path d=\"M19 3H5c-1.1 0-2 .9-2 2v14c0 1.1.9 2 2 2h14c1.1 0 2-.9 2-2V5c0-1.1-.9-2-2-2zM9 17H7v-7h2v7zm4 0h-2V7h2v10zm4 0h-2v-4h2v4z\"/>\n",
              "    </g>\n",
              "</svg>\n",
              "      </button>\n",
              "\n",
              "<style>\n",
              "  .colab-df-quickchart {\n",
              "      --bg-color: #E8F0FE;\n",
              "      --fill-color: #1967D2;\n",
              "      --hover-bg-color: #E2EBFA;\n",
              "      --hover-fill-color: #174EA6;\n",
              "      --disabled-fill-color: #AAA;\n",
              "      --disabled-bg-color: #DDD;\n",
              "  }\n",
              "\n",
              "  [theme=dark] .colab-df-quickchart {\n",
              "      --bg-color: #3B4455;\n",
              "      --fill-color: #D2E3FC;\n",
              "      --hover-bg-color: #434B5C;\n",
              "      --hover-fill-color: #FFFFFF;\n",
              "      --disabled-bg-color: #3B4455;\n",
              "      --disabled-fill-color: #666;\n",
              "  }\n",
              "\n",
              "  .colab-df-quickchart {\n",
              "    background-color: var(--bg-color);\n",
              "    border: none;\n",
              "    border-radius: 50%;\n",
              "    cursor: pointer;\n",
              "    display: none;\n",
              "    fill: var(--fill-color);\n",
              "    height: 32px;\n",
              "    padding: 0;\n",
              "    width: 32px;\n",
              "  }\n",
              "\n",
              "  .colab-df-quickchart:hover {\n",
              "    background-color: var(--hover-bg-color);\n",
              "    box-shadow: 0 1px 2px rgba(60, 64, 67, 0.3), 0 1px 3px 1px rgba(60, 64, 67, 0.15);\n",
              "    fill: var(--button-hover-fill-color);\n",
              "  }\n",
              "\n",
              "  .colab-df-quickchart-complete:disabled,\n",
              "  .colab-df-quickchart-complete:disabled:hover {\n",
              "    background-color: var(--disabled-bg-color);\n",
              "    fill: var(--disabled-fill-color);\n",
              "    box-shadow: none;\n",
              "  }\n",
              "\n",
              "  .colab-df-spinner {\n",
              "    border: 2px solid var(--fill-color);\n",
              "    border-color: transparent;\n",
              "    border-bottom-color: var(--fill-color);\n",
              "    animation:\n",
              "      spin 1s steps(1) infinite;\n",
              "  }\n",
              "\n",
              "  @keyframes spin {\n",
              "    0% {\n",
              "      border-color: transparent;\n",
              "      border-bottom-color: var(--fill-color);\n",
              "      border-left-color: var(--fill-color);\n",
              "    }\n",
              "    20% {\n",
              "      border-color: transparent;\n",
              "      border-left-color: var(--fill-color);\n",
              "      border-top-color: var(--fill-color);\n",
              "    }\n",
              "    30% {\n",
              "      border-color: transparent;\n",
              "      border-left-color: var(--fill-color);\n",
              "      border-top-color: var(--fill-color);\n",
              "      border-right-color: var(--fill-color);\n",
              "    }\n",
              "    40% {\n",
              "      border-color: transparent;\n",
              "      border-right-color: var(--fill-color);\n",
              "      border-top-color: var(--fill-color);\n",
              "    }\n",
              "    60% {\n",
              "      border-color: transparent;\n",
              "      border-right-color: var(--fill-color);\n",
              "    }\n",
              "    80% {\n",
              "      border-color: transparent;\n",
              "      border-right-color: var(--fill-color);\n",
              "      border-bottom-color: var(--fill-color);\n",
              "    }\n",
              "    90% {\n",
              "      border-color: transparent;\n",
              "      border-bottom-color: var(--fill-color);\n",
              "    }\n",
              "  }\n",
              "</style>\n",
              "\n",
              "      <script>\n",
              "        async function quickchart(key) {\n",
              "          const quickchartButtonEl =\n",
              "            document.querySelector('#' + key + ' button');\n",
              "          quickchartButtonEl.disabled = true;  // To prevent multiple clicks.\n",
              "          quickchartButtonEl.classList.add('colab-df-spinner');\n",
              "          try {\n",
              "            const charts = await google.colab.kernel.invokeFunction(\n",
              "                'suggestCharts', [key], {});\n",
              "          } catch (error) {\n",
              "            console.error('Error during call to suggestCharts:', error);\n",
              "          }\n",
              "          quickchartButtonEl.classList.remove('colab-df-spinner');\n",
              "          quickchartButtonEl.classList.add('colab-df-quickchart-complete');\n",
              "        }\n",
              "        (() => {\n",
              "          let quickchartButtonEl =\n",
              "            document.querySelector('#df-7824c206-4fad-4558-b16c-ec02b3d21601 button');\n",
              "          quickchartButtonEl.style.display =\n",
              "            google.colab.kernel.accessAllowed ? 'block' : 'none';\n",
              "        })();\n",
              "      </script>\n",
              "    </div>\n",
              "\n",
              "    </div>\n",
              "  </div>\n"
            ],
            "application/vnd.google.colaboratory.intrinsic+json": {
              "type": "dataframe",
              "variable_name": "df",
              "summary": "{\n  \"name\": \"df\",\n  \"rows\": 1000,\n  \"fields\": [\n    {\n      \"column\": \"Review\",\n      \"properties\": {\n        \"dtype\": \"string\",\n        \"num_unique_values\": 996,\n        \"samples\": [\n          \"They were excellent.\",\n          \"Your servers suck, wait, correction, our server Heimer sucked.\",\n          \"Will be back again!\"\n        ],\n        \"semantic_type\": \"\",\n        \"description\": \"\"\n      }\n    },\n    {\n      \"column\": \"Liked\",\n      \"properties\": {\n        \"dtype\": \"number\",\n        \"std\": 0,\n        \"min\": 0,\n        \"max\": 1,\n        \"num_unique_values\": 2,\n        \"samples\": [\n          0,\n          1\n        ],\n        \"semantic_type\": \"\",\n        \"description\": \"\"\n      }\n    }\n  ]\n}"
            }
          },
          "metadata": {},
          "execution_count": 1
        }
      ]
    },
    {
      "cell_type": "markdown",
      "source": [
        "Text Preprocessing\n",
        "# New section"
      ],
      "metadata": {
        "id": "hZxKSiTk-d7h"
      }
    },
    {
      "cell_type": "markdown",
      "source": [
        "![image.png](data:image/png;base64,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)"
      ],
      "metadata": {
        "id": "ivEnZL6v-oRc"
      }
    },
    {
      "cell_type": "code",
      "source": [
        "data1 = df['Review'][0]\n",
        "data1\n",
        "\n"
      ],
      "metadata": {
        "colab": {
          "base_uri": "https://localhost:8080/",
          "height": 35
        },
        "id": "7iAqSjCG-rCg",
        "outputId": "86430ceb-cec9-478b-8f77-1aea9bb46cfc"
      },
      "execution_count": 2,
      "outputs": [
        {
          "output_type": "execute_result",
          "data": {
            "text/plain": [
              "'Wow... Loved this place.'"
            ],
            "application/vnd.google.colaboratory.intrinsic+json": {
              "type": "string"
            }
          },
          "metadata": {},
          "execution_count": 2
        }
      ]
    },
    {
      "cell_type": "code",
      "source": [
        "data1 = data1.lower()\n",
        "\n"
      ],
      "metadata": {
        "id": "cMLisK5X-ycV"
      },
      "execution_count": 3,
      "outputs": []
    },
    {
      "cell_type": "code",
      "source": [
        "import re"
      ],
      "metadata": {
        "id": "Yq4FDk_R-y90"
      },
      "execution_count": 4,
      "outputs": []
    },
    {
      "cell_type": "code",
      "source": [
        "pattern = \"[^a-z ]\" # ^-not\n",
        ""
      ],
      "metadata": {
        "id": "oTWaX_tE-9Hv"
      },
      "execution_count": 5,
      "outputs": []
    },
    {
      "cell_type": "code",
      "source": [
        "re.sub(pattern,\"\",data1)"
      ],
      "metadata": {
        "colab": {
          "base_uri": "https://localhost:8080/",
          "height": 35
        },
        "id": "mQOGPIUU_D_H",
        "outputId": "9c08a2dd-cd33-4827-93cb-fbcf4e442580"
      },
      "execution_count": 6,
      "outputs": [
        {
          "output_type": "execute_result",
          "data": {
            "text/plain": [
              "'wow loved this place'"
            ],
            "application/vnd.google.colaboratory.intrinsic+json": {
              "type": "string"
            }
          },
          "metadata": {},
          "execution_count": 6
        }
      ]
    },
    {
      "cell_type": "code",
      "source": [
        "def preprocess_text(text):\n",
        "  # convert all the text data to lower case\n",
        "  text = text.lower()\n",
        "  # replace the unnecessary/insignificant letters/special characters with blank string\n",
        "  pattern = \"[^a-z ]\"\n",
        "  text_new = re.sub(pattern,\"\",text)\n",
        "  return text_new\n",
        "\n"
      ],
      "metadata": {
        "id": "WLbkVvw-_L4d"
      },
      "execution_count": 7,
      "outputs": []
    },
    {
      "cell_type": "code",
      "source": [
        "df[\"Review\"]\n",
        "\n"
      ],
      "metadata": {
        "colab": {
          "base_uri": "https://localhost:8080/",
          "height": 458
        },
        "id": "g5UhbHbG_UVl",
        "outputId": "73f8f1f8-ca88-4521-be2b-ef461c1579e0"
      },
      "execution_count": 8,
      "outputs": [
        {
          "output_type": "execute_result",
          "data": {
            "text/plain": [
              "0                               Wow... Loved this place.\n",
              "1                                     Crust is not good.\n",
              "2              Not tasty and the texture was just nasty.\n",
              "3      Stopped by during the late May bank holiday of...\n",
              "4      The selection on the menu was great and so wer...\n",
              "                             ...                        \n",
              "995    I think food should have flavor and texture an...\n",
              "996                             Appetite instantly gone.\n",
              "997    Overall I was not impressed and would not go b...\n",
              "998    The whole experience was underwhelming, and I ...\n",
              "999    Then, as if I hadn't wasted enough of my life ...\n",
              "Name: Review, Length: 1000, dtype: object"
            ],
            "text/html": [
              "<div>\n",
              "<style scoped>\n",
              "    .dataframe tbody tr th:only-of-type {\n",
              "        vertical-align: middle;\n",
              "    }\n",
              "\n",
              "    .dataframe tbody tr th {\n",
              "        vertical-align: top;\n",
              "    }\n",
              "\n",
              "    .dataframe thead th {\n",
              "        text-align: right;\n",
              "    }\n",
              "</style>\n",
              "<table border=\"1\" class=\"dataframe\">\n",
              "  <thead>\n",
              "    <tr style=\"text-align: right;\">\n",
              "      <th></th>\n",
              "      <th>Review</th>\n",
              "    </tr>\n",
              "  </thead>\n",
              "  <tbody>\n",
              "    <tr>\n",
              "      <th>0</th>\n",
              "      <td>Wow... Loved this place.</td>\n",
              "    </tr>\n",
              "    <tr>\n",
              "      <th>1</th>\n",
              "      <td>Crust is not good.</td>\n",
              "    </tr>\n",
              "    <tr>\n",
              "      <th>2</th>\n",
              "      <td>Not tasty and the texture was just nasty.</td>\n",
              "    </tr>\n",
              "    <tr>\n",
              "      <th>3</th>\n",
              "      <td>Stopped by during the late May bank holiday of...</td>\n",
              "    </tr>\n",
              "    <tr>\n",
              "      <th>4</th>\n",
              "      <td>The selection on the menu was great and so wer...</td>\n",
              "    </tr>\n",
              "    <tr>\n",
              "      <th>...</th>\n",
              "      <td>...</td>\n",
              "    </tr>\n",
              "    <tr>\n",
              "      <th>995</th>\n",
              "      <td>I think food should have flavor and texture an...</td>\n",
              "    </tr>\n",
              "    <tr>\n",
              "      <th>996</th>\n",
              "      <td>Appetite instantly gone.</td>\n",
              "    </tr>\n",
              "    <tr>\n",
              "      <th>997</th>\n",
              "      <td>Overall I was not impressed and would not go b...</td>\n",
              "    </tr>\n",
              "    <tr>\n",
              "      <th>998</th>\n",
              "      <td>The whole experience was underwhelming, and I ...</td>\n",
              "    </tr>\n",
              "    <tr>\n",
              "      <th>999</th>\n",
              "      <td>Then, as if I hadn't wasted enough of my life ...</td>\n",
              "    </tr>\n",
              "  </tbody>\n",
              "</table>\n",
              "<p>1000 rows × 1 columns</p>\n",
              "</div><br><label><b>dtype:</b> object</label>"
            ]
          },
          "metadata": {},
          "execution_count": 8
        }
      ]
    },
    {
      "cell_type": "code",
      "source": [
        "df[\"Preprocessed_Review\"] = df[\"Review\"].apply(preprocess_text)\n",
        "df.head()\n",
        ""
      ],
      "metadata": {
        "colab": {
          "base_uri": "https://localhost:8080/",
          "height": 206
        },
        "id": "F0nU16Q1_aNo",
        "outputId": "e58181df-1869-4d07-f13b-8fae55d9158f"
      },
      "execution_count": 9,
      "outputs": [
        {
          "output_type": "execute_result",
          "data": {
            "text/plain": [
              "                                              Review  Liked  \\\n",
              "0                           Wow... Loved this place.      1   \n",
              "1                                 Crust is not good.      0   \n",
              "2          Not tasty and the texture was just nasty.      0   \n",
              "3  Stopped by during the late May bank holiday of...      1   \n",
              "4  The selection on the menu was great and so wer...      1   \n",
              "\n",
              "                                 Preprocessed_Review  \n",
              "0                               wow loved this place  \n",
              "1                                  crust is not good  \n",
              "2           not tasty and the texture was just nasty  \n",
              "3  stopped by during the late may bank holiday of...  \n",
              "4  the selection on the menu was great and so wer...  "
            ],
            "text/html": [
              "\n",
              "  <div id=\"df-dbb16627-17c6-4865-b277-3679affbf1bf\" class=\"colab-df-container\">\n",
              "    <div>\n",
              "<style scoped>\n",
              "    .dataframe tbody tr th:only-of-type {\n",
              "        vertical-align: middle;\n",
              "    }\n",
              "\n",
              "    .dataframe tbody tr th {\n",
              "        vertical-align: top;\n",
              "    }\n",
              "\n",
              "    .dataframe thead th {\n",
              "        text-align: right;\n",
              "    }\n",
              "</style>\n",
              "<table border=\"1\" class=\"dataframe\">\n",
              "  <thead>\n",
              "    <tr style=\"text-align: right;\">\n",
              "      <th></th>\n",
              "      <th>Review</th>\n",
              "      <th>Liked</th>\n",
              "      <th>Preprocessed_Review</th>\n",
              "    </tr>\n",
              "  </thead>\n",
              "  <tbody>\n",
              "    <tr>\n",
              "      <th>0</th>\n",
              "      <td>Wow... Loved this place.</td>\n",
              "      <td>1</td>\n",
              "      <td>wow loved this place</td>\n",
              "    </tr>\n",
              "    <tr>\n",
              "      <th>1</th>\n",
              "      <td>Crust is not good.</td>\n",
              "      <td>0</td>\n",
              "      <td>crust is not good</td>\n",
              "    </tr>\n",
              "    <tr>\n",
              "      <th>2</th>\n",
              "      <td>Not tasty and the texture was just nasty.</td>\n",
              "      <td>0</td>\n",
              "      <td>not tasty and the texture was just nasty</td>\n",
              "    </tr>\n",
              "    <tr>\n",
              "      <th>3</th>\n",
              "      <td>Stopped by during the late May bank holiday of...</td>\n",
              "      <td>1</td>\n",
              "      <td>stopped by during the late may bank holiday of...</td>\n",
              "    </tr>\n",
              "    <tr>\n",
              "      <th>4</th>\n",
              "      <td>The selection on the menu was great and so wer...</td>\n",
              "      <td>1</td>\n",
              "      <td>the selection on the menu was great and so wer...</td>\n",
              "    </tr>\n",
              "  </tbody>\n",
              "</table>\n",
              "</div>\n",
              "    <div class=\"colab-df-buttons\">\n",
              "\n",
              "  <div class=\"colab-df-container\">\n",
              "    <button class=\"colab-df-convert\" onclick=\"convertToInteractive('df-dbb16627-17c6-4865-b277-3679affbf1bf')\"\n",
              "            title=\"Convert this dataframe to an interactive table.\"\n",
              "            style=\"display:none;\">\n",
              "\n",
              "  <svg xmlns=\"http://www.w3.org/2000/svg\" height=\"24px\" viewBox=\"0 -960 960 960\">\n",
              "    <path d=\"M120-120v-720h720v720H120Zm60-500h600v-160H180v160Zm220 220h160v-160H400v160Zm0 220h160v-160H400v160ZM180-400h160v-160H180v160Zm440 0h160v-160H620v160ZM180-180h160v-160H180v160Zm440 0h160v-160H620v160Z\"/>\n",
              "  </svg>\n",
              "    </button>\n",
              "\n",
              "  <style>\n",
              "    .colab-df-container {\n",
              "      display:flex;\n",
              "      gap: 12px;\n",
              "    }\n",
              "\n",
              "    .colab-df-convert {\n",
              "      background-color: #E8F0FE;\n",
              "      border: none;\n",
              "      border-radius: 50%;\n",
              "      cursor: pointer;\n",
              "      display: none;\n",
              "      fill: #1967D2;\n",
              "      height: 32px;\n",
              "      padding: 0 0 0 0;\n",
              "      width: 32px;\n",
              "    }\n",
              "\n",
              "    .colab-df-convert:hover {\n",
              "      background-color: #E2EBFA;\n",
              "      box-shadow: 0px 1px 2px rgba(60, 64, 67, 0.3), 0px 1px 3px 1px rgba(60, 64, 67, 0.15);\n",
              "      fill: #174EA6;\n",
              "    }\n",
              "\n",
              "    .colab-df-buttons div {\n",
              "      margin-bottom: 4px;\n",
              "    }\n",
              "\n",
              "    [theme=dark] .colab-df-convert {\n",
              "      background-color: #3B4455;\n",
              "      fill: #D2E3FC;\n",
              "    }\n",
              "\n",
              "    [theme=dark] .colab-df-convert:hover {\n",
              "      background-color: #434B5C;\n",
              "      box-shadow: 0px 1px 3px 1px rgba(0, 0, 0, 0.15);\n",
              "      filter: drop-shadow(0px 1px 2px rgba(0, 0, 0, 0.3));\n",
              "      fill: #FFFFFF;\n",
              "    }\n",
              "  </style>\n",
              "\n",
              "    <script>\n",
              "      const buttonEl =\n",
              "        document.querySelector('#df-dbb16627-17c6-4865-b277-3679affbf1bf button.colab-df-convert');\n",
              "      buttonEl.style.display =\n",
              "        google.colab.kernel.accessAllowed ? 'block' : 'none';\n",
              "\n",
              "      async function convertToInteractive(key) {\n",
              "        const element = document.querySelector('#df-dbb16627-17c6-4865-b277-3679affbf1bf');\n",
              "        const dataTable =\n",
              "          await google.colab.kernel.invokeFunction('convertToInteractive',\n",
              "                                                    [key], {});\n",
              "        if (!dataTable) return;\n",
              "\n",
              "        const docLinkHtml = 'Like what you see? Visit the ' +\n",
              "          '<a target=\"_blank\" href=https://colab.research.google.com/notebooks/data_table.ipynb>data table notebook</a>'\n",
              "          + ' to learn more about interactive tables.';\n",
              "        element.innerHTML = '';\n",
              "        dataTable['output_type'] = 'display_data';\n",
              "        await google.colab.output.renderOutput(dataTable, element);\n",
              "        const docLink = document.createElement('div');\n",
              "        docLink.innerHTML = docLinkHtml;\n",
              "        element.appendChild(docLink);\n",
              "      }\n",
              "    </script>\n",
              "  </div>\n",
              "\n",
              "\n",
              "    <div id=\"df-1e38d8f2-e41a-4835-a4dd-27b3fa302d59\">\n",
              "      <button class=\"colab-df-quickchart\" onclick=\"quickchart('df-1e38d8f2-e41a-4835-a4dd-27b3fa302d59')\"\n",
              "                title=\"Suggest charts\"\n",
              "                style=\"display:none;\">\n",
              "\n",
              "<svg xmlns=\"http://www.w3.org/2000/svg\" height=\"24px\"viewBox=\"0 0 24 24\"\n",
              "     width=\"24px\">\n",
              "    <g>\n",
              "        <path d=\"M19 3H5c-1.1 0-2 .9-2 2v14c0 1.1.9 2 2 2h14c1.1 0 2-.9 2-2V5c0-1.1-.9-2-2-2zM9 17H7v-7h2v7zm4 0h-2V7h2v10zm4 0h-2v-4h2v4z\"/>\n",
              "    </g>\n",
              "</svg>\n",
              "      </button>\n",
              "\n",
              "<style>\n",
              "  .colab-df-quickchart {\n",
              "      --bg-color: #E8F0FE;\n",
              "      --fill-color: #1967D2;\n",
              "      --hover-bg-color: #E2EBFA;\n",
              "      --hover-fill-color: #174EA6;\n",
              "      --disabled-fill-color: #AAA;\n",
              "      --disabled-bg-color: #DDD;\n",
              "  }\n",
              "\n",
              "  [theme=dark] .colab-df-quickchart {\n",
              "      --bg-color: #3B4455;\n",
              "      --fill-color: #D2E3FC;\n",
              "      --hover-bg-color: #434B5C;\n",
              "      --hover-fill-color: #FFFFFF;\n",
              "      --disabled-bg-color: #3B4455;\n",
              "      --disabled-fill-color: #666;\n",
              "  }\n",
              "\n",
              "  .colab-df-quickchart {\n",
              "    background-color: var(--bg-color);\n",
              "    border: none;\n",
              "    border-radius: 50%;\n",
              "    cursor: pointer;\n",
              "    display: none;\n",
              "    fill: var(--fill-color);\n",
              "    height: 32px;\n",
              "    padding: 0;\n",
              "    width: 32px;\n",
              "  }\n",
              "\n",
              "  .colab-df-quickchart:hover {\n",
              "    background-color: var(--hover-bg-color);\n",
              "    box-shadow: 0 1px 2px rgba(60, 64, 67, 0.3), 0 1px 3px 1px rgba(60, 64, 67, 0.15);\n",
              "    fill: var(--button-hover-fill-color);\n",
              "  }\n",
              "\n",
              "  .colab-df-quickchart-complete:disabled,\n",
              "  .colab-df-quickchart-complete:disabled:hover {\n",
              "    background-color: var(--disabled-bg-color);\n",
              "    fill: var(--disabled-fill-color);\n",
              "    box-shadow: none;\n",
              "  }\n",
              "\n",
              "  .colab-df-spinner {\n",
              "    border: 2px solid var(--fill-color);\n",
              "    border-color: transparent;\n",
              "    border-bottom-color: var(--fill-color);\n",
              "    animation:\n",
              "      spin 1s steps(1) infinite;\n",
              "  }\n",
              "\n",
              "  @keyframes spin {\n",
              "    0% {\n",
              "      border-color: transparent;\n",
              "      border-bottom-color: var(--fill-color);\n",
              "      border-left-color: var(--fill-color);\n",
              "    }\n",
              "    20% {\n",
              "      border-color: transparent;\n",
              "      border-left-color: var(--fill-color);\n",
              "      border-top-color: var(--fill-color);\n",
              "    }\n",
              "    30% {\n",
              "      border-color: transparent;\n",
              "      border-left-color: var(--fill-color);\n",
              "      border-top-color: var(--fill-color);\n",
              "      border-right-color: var(--fill-color);\n",
              "    }\n",
              "    40% {\n",
              "      border-color: transparent;\n",
              "      border-right-color: var(--fill-color);\n",
              "      border-top-color: var(--fill-color);\n",
              "    }\n",
              "    60% {\n",
              "      border-color: transparent;\n",
              "      border-right-color: var(--fill-color);\n",
              "    }\n",
              "    80% {\n",
              "      border-color: transparent;\n",
              "      border-right-color: var(--fill-color);\n",
              "      border-bottom-color: var(--fill-color);\n",
              "    }\n",
              "    90% {\n",
              "      border-color: transparent;\n",
              "      border-bottom-color: var(--fill-color);\n",
              "    }\n",
              "  }\n",
              "</style>\n",
              "\n",
              "      <script>\n",
              "        async function quickchart(key) {\n",
              "          const quickchartButtonEl =\n",
              "            document.querySelector('#' + key + ' button');\n",
              "          quickchartButtonEl.disabled = true;  // To prevent multiple clicks.\n",
              "          quickchartButtonEl.classList.add('colab-df-spinner');\n",
              "          try {\n",
              "            const charts = await google.colab.kernel.invokeFunction(\n",
              "                'suggestCharts', [key], {});\n",
              "          } catch (error) {\n",
              "            console.error('Error during call to suggestCharts:', error);\n",
              "          }\n",
              "          quickchartButtonEl.classList.remove('colab-df-spinner');\n",
              "          quickchartButtonEl.classList.add('colab-df-quickchart-complete');\n",
              "        }\n",
              "        (() => {\n",
              "          let quickchartButtonEl =\n",
              "            document.querySelector('#df-1e38d8f2-e41a-4835-a4dd-27b3fa302d59 button');\n",
              "          quickchartButtonEl.style.display =\n",
              "            google.colab.kernel.accessAllowed ? 'block' : 'none';\n",
              "        })();\n",
              "      </script>\n",
              "    </div>\n",
              "\n",
              "    </div>\n",
              "  </div>\n"
            ],
            "application/vnd.google.colaboratory.intrinsic+json": {
              "type": "dataframe",
              "variable_name": "df",
              "summary": "{\n  \"name\": \"df\",\n  \"rows\": 1000,\n  \"fields\": [\n    {\n      \"column\": \"Review\",\n      \"properties\": {\n        \"dtype\": \"string\",\n        \"num_unique_values\": 996,\n        \"samples\": [\n          \"They were excellent.\",\n          \"Your servers suck, wait, correction, our server Heimer sucked.\",\n          \"Will be back again!\"\n        ],\n        \"semantic_type\": \"\",\n        \"description\": \"\"\n      }\n    },\n    {\n      \"column\": \"Liked\",\n      \"properties\": {\n        \"dtype\": \"number\",\n        \"std\": 0,\n        \"min\": 0,\n        \"max\": 1,\n        \"num_unique_values\": 2,\n        \"samples\": [\n          0,\n          1\n        ],\n        \"semantic_type\": \"\",\n        \"description\": \"\"\n      }\n    },\n    {\n      \"column\": \"Preprocessed_Review\",\n      \"properties\": {\n        \"dtype\": \"string\",\n        \"num_unique_values\": 995,\n        \"samples\": [\n          \"i could barely stomach the meal but didnt complain because it was a business lunch\",\n          \"similarly the delivery man did not say a word of apology when our food was  minutes late\"\n        ],\n        \"semantic_type\": \"\",\n        \"description\": \"\"\n      }\n    }\n  ]\n}"
            }
          },
          "metadata": {},
          "execution_count": 9
        }
      ]
    },
    {
      "cell_type": "markdown",
      "source": [
        "# Separate X and Y features"
      ],
      "metadata": {
        "id": "yAyT9YX6_iFF"
      }
    },
    {
      "cell_type": "code",
      "source": [
        "\n",
        "X = df[\"Preprocessed_Review\"]\n",
        "Y = df[\"Liked\"]"
      ],
      "metadata": {
        "id": "6X-i5OpzAo60"
      },
      "execution_count": 10,
      "outputs": []
    },
    {
      "cell_type": "code",
      "source": [
        "X.head()"
      ],
      "metadata": {
        "colab": {
          "base_uri": "https://localhost:8080/",
          "height": 241
        },
        "id": "b9_VGx6SA4LP",
        "outputId": "7c4f109a-5111-4011-88a1-cb0bbaa5c847"
      },
      "execution_count": 11,
      "outputs": [
        {
          "output_type": "execute_result",
          "data": {
            "text/plain": [
              "0                                 wow loved this place\n",
              "1                                    crust is not good\n",
              "2             not tasty and the texture was just nasty\n",
              "3    stopped by during the late may bank holiday of...\n",
              "4    the selection on the menu was great and so wer...\n",
              "Name: Preprocessed_Review, dtype: object"
            ],
            "text/html": [
              "<div>\n",
              "<style scoped>\n",
              "    .dataframe tbody tr th:only-of-type {\n",
              "        vertical-align: middle;\n",
              "    }\n",
              "\n",
              "    .dataframe tbody tr th {\n",
              "        vertical-align: top;\n",
              "    }\n",
              "\n",
              "    .dataframe thead th {\n",
              "        text-align: right;\n",
              "    }\n",
              "</style>\n",
              "<table border=\"1\" class=\"dataframe\">\n",
              "  <thead>\n",
              "    <tr style=\"text-align: right;\">\n",
              "      <th></th>\n",
              "      <th>Preprocessed_Review</th>\n",
              "    </tr>\n",
              "  </thead>\n",
              "  <tbody>\n",
              "    <tr>\n",
              "      <th>0</th>\n",
              "      <td>wow loved this place</td>\n",
              "    </tr>\n",
              "    <tr>\n",
              "      <th>1</th>\n",
              "      <td>crust is not good</td>\n",
              "    </tr>\n",
              "    <tr>\n",
              "      <th>2</th>\n",
              "      <td>not tasty and the texture was just nasty</td>\n",
              "    </tr>\n",
              "    <tr>\n",
              "      <th>3</th>\n",
              "      <td>stopped by during the late may bank holiday of...</td>\n",
              "    </tr>\n",
              "    <tr>\n",
              "      <th>4</th>\n",
              "      <td>the selection on the menu was great and so wer...</td>\n",
              "    </tr>\n",
              "  </tbody>\n",
              "</table>\n",
              "</div><br><label><b>dtype:</b> object</label>"
            ]
          },
          "metadata": {},
          "execution_count": 11
        }
      ]
    },
    {
      "cell_type": "code",
      "source": [
        "Y.head()"
      ],
      "metadata": {
        "colab": {
          "base_uri": "https://localhost:8080/",
          "height": 241
        },
        "id": "t_Jkg_lfA9qM",
        "outputId": "ef47d61a-0e43-465d-95dd-aac846907bf4"
      },
      "execution_count": 13,
      "outputs": [
        {
          "output_type": "execute_result",
          "data": {
            "text/plain": [
              "0    1\n",
              "1    0\n",
              "2    0\n",
              "3    1\n",
              "4    1\n",
              "Name: Liked, dtype: int64"
            ],
            "text/html": [
              "<div>\n",
              "<style scoped>\n",
              "    .dataframe tbody tr th:only-of-type {\n",
              "        vertical-align: middle;\n",
              "    }\n",
              "\n",
              "    .dataframe tbody tr th {\n",
              "        vertical-align: top;\n",
              "    }\n",
              "\n",
              "    .dataframe thead th {\n",
              "        text-align: right;\n",
              "    }\n",
              "</style>\n",
              "<table border=\"1\" class=\"dataframe\">\n",
              "  <thead>\n",
              "    <tr style=\"text-align: right;\">\n",
              "      <th></th>\n",
              "      <th>Liked</th>\n",
              "    </tr>\n",
              "  </thead>\n",
              "  <tbody>\n",
              "    <tr>\n",
              "      <th>0</th>\n",
              "      <td>1</td>\n",
              "    </tr>\n",
              "    <tr>\n",
              "      <th>1</th>\n",
              "      <td>0</td>\n",
              "    </tr>\n",
              "    <tr>\n",
              "      <th>2</th>\n",
              "      <td>0</td>\n",
              "    </tr>\n",
              "    <tr>\n",
              "      <th>3</th>\n",
              "      <td>1</td>\n",
              "    </tr>\n",
              "    <tr>\n",
              "      <th>4</th>\n",
              "      <td>1</td>\n",
              "    </tr>\n",
              "  </tbody>\n",
              "</table>\n",
              "</div><br><label><b>dtype:</b> int64</label>"
            ]
          },
          "metadata": {},
          "execution_count": 13
        }
      ]
    },
    {
      "cell_type": "code",
      "source": [
        "X.shape"
      ],
      "metadata": {
        "colab": {
          "base_uri": "https://localhost:8080/"
        },
        "id": "TbwpXypgBD-p",
        "outputId": "b5ab6844-d4bf-4661-ef29-57f34cf21005"
      },
      "execution_count": 14,
      "outputs": [
        {
          "output_type": "execute_result",
          "data": {
            "text/plain": [
              "(1000,)"
            ]
          },
          "metadata": {},
          "execution_count": 14
        }
      ]
    },
    {
      "cell_type": "code",
      "source": [
        "Y.shape"
      ],
      "metadata": {
        "colab": {
          "base_uri": "https://localhost:8080/"
        },
        "id": "TJYyATTZBUaF",
        "outputId": "5a475cee-9109-4f82-e4bb-4258f0ad5661"
      },
      "execution_count": 15,
      "outputs": [
        {
          "output_type": "execute_result",
          "data": {
            "text/plain": [
              "(1000,)"
            ]
          },
          "metadata": {},
          "execution_count": 15
        }
      ]
    },
    {
      "cell_type": "markdown",
      "source": [
        "# TFIDF"
      ],
      "metadata": {
        "id": "pBPTGTsSBnLm"
      }
    },
    {
      "cell_type": "markdown",
      "source": [
        "![image.png](data:image/png;base64,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)"
      ],
      "metadata": {
        "id": "CCGveayKBq8e"
      }
    },
    {
      "cell_type": "code",
      "source": [
        "\n",
        "from sklearn.feature_extraction.text import TfidfVectorizer\n",
        ""
      ],
      "metadata": {
        "id": "CamJ8xXhB1gq"
      },
      "execution_count": 16,
      "outputs": []
    },
    {
      "cell_type": "code",
      "source": [
        "tfidf = TfidfVectorizer()\n",
        ""
      ],
      "metadata": {
        "id": "LFECbUmNCLQy"
      },
      "execution_count": 17,
      "outputs": []
    },
    {
      "cell_type": "code",
      "source": [
        "xpre = tfidf.fit_transform(X).toarray()\n",
        ""
      ],
      "metadata": {
        "id": "F0c8EsEuCPXa"
      },
      "execution_count": 18,
      "outputs": []
    },
    {
      "cell_type": "code",
      "source": [
        "xpre.shape"
      ],
      "metadata": {
        "colab": {
          "base_uri": "https://localhost:8080/"
        },
        "id": "J5Qq5SdfFa-4",
        "outputId": "7b49dc1c-e412-4009-ea7a-b58788b5a116"
      },
      "execution_count": 19,
      "outputs": [
        {
          "output_type": "execute_result",
          "data": {
            "text/plain": [
              "(1000, 2046)"
            ]
          },
          "metadata": {},
          "execution_count": 19
        }
      ]
    },
    {
      "cell_type": "code",
      "source": [
        "xpre"
      ],
      "metadata": {
        "colab": {
          "base_uri": "https://localhost:8080/"
        },
        "id": "leZTn1epFequ",
        "outputId": "2562924a-302f-43d3-a663-0a32244b972e"
      },
      "execution_count": 20,
      "outputs": [
        {
          "output_type": "execute_result",
          "data": {
            "text/plain": [
              "array([[0., 0., 0., ..., 0., 0., 0.],\n",
              "       [0., 0., 0., ..., 0., 0., 0.],\n",
              "       [0., 0., 0., ..., 0., 0., 0.],\n",
              "       ...,\n",
              "       [0., 0., 0., ..., 0., 0., 0.],\n",
              "       [0., 0., 0., ..., 0., 0., 0.],\n",
              "       [0., 0., 0., ..., 0., 0., 0.]])"
            ]
          },
          "metadata": {},
          "execution_count": 20
        }
      ]
    },
    {
      "cell_type": "code",
      "source": [
        "xpre[0]\n",
        ""
      ],
      "metadata": {
        "colab": {
          "base_uri": "https://localhost:8080/"
        },
        "id": "S3VfFGPEFn9O",
        "outputId": "d7c3b9b6-df42-4536-b307-f0e37ef4ae5d"
      },
      "execution_count": 21,
      "outputs": [
        {
          "output_type": "execute_result",
          "data": {
            "text/plain": [
              "array([0., 0., 0., ..., 0., 0., 0.])"
            ]
          },
          "metadata": {},
          "execution_count": 21
        }
      ]
    },
    {
      "cell_type": "markdown",
      "source": [
        "# Apply train test split"
      ],
      "metadata": {
        "id": "GadFLs9yFwJX"
      }
    },
    {
      "cell_type": "code",
      "source": [
        "from sklearn.model_selection import train_test_split\n",
        "xtrain,xtest,ytrain,ytest = train_test_split(xpre,Y,train_size=0.8,random_state=21)\n",
        "\n"
      ],
      "metadata": {
        "id": "xbCbyklUF5Ac"
      },
      "execution_count": 22,
      "outputs": []
    },
    {
      "cell_type": "code",
      "source": [
        "xtrain.shape\n",
        ""
      ],
      "metadata": {
        "colab": {
          "base_uri": "https://localhost:8080/"
        },
        "id": "fDBvIbLQGATa",
        "outputId": "49aceda5-0102-4a70-cf6b-d2e7c1980643"
      },
      "execution_count": 23,
      "outputs": [
        {
          "output_type": "execute_result",
          "data": {
            "text/plain": [
              "(800, 2046)"
            ]
          },
          "metadata": {},
          "execution_count": 23
        }
      ]
    },
    {
      "cell_type": "code",
      "source": [
        "xtest.shape\n",
        ""
      ],
      "metadata": {
        "colab": {
          "base_uri": "https://localhost:8080/"
        },
        "id": "-HctZ7dzGIUx",
        "outputId": "a05febd3-f713-4cb9-c27d-9b6d8928bae4"
      },
      "execution_count": 24,
      "outputs": [
        {
          "output_type": "execute_result",
          "data": {
            "text/plain": [
              "(200, 2046)"
            ]
          },
          "metadata": {},
          "execution_count": 24
        }
      ]
    },
    {
      "cell_type": "markdown",
      "source": [
        "# Build the Neural Network"
      ],
      "metadata": {
        "id": "Pd5ci51-GP3J"
      }
    },
    {
      "cell_type": "code",
      "source": [
        "from keras.models import Sequential\n",
        "from keras.layers import Input,Dense,Dropout\n",
        "from keras.callbacks import EarlyStopping\n",
        "\n"
      ],
      "metadata": {
        "id": "3vRxDNxFGTnZ"
      },
      "execution_count": 25,
      "outputs": []
    },
    {
      "cell_type": "code",
      "source": [
        "# Initialize the model\n",
        "model = Sequential()\n",
        "# add the input layer\n",
        "model.add(Input(shape=(xtrain.shape[1],)))\n",
        "# add the hidden layer1\n",
        "model.add(Dense(units=64,activation=\"relu\"))\n",
        "# add the dropout layer\n",
        "model.add(Dropout(rate=0.4))\n",
        "# add the hidden layer2\n",
        "model.add(Dense(units=32,activation=\"relu\"))\n",
        "# add the dropout layer\n",
        "model.add(Dropout(rate=0.2))\n",
        "# add the output layer\n",
        "model.add(Dense(units=1,activation=\"sigmoid\"))"
      ],
      "metadata": {
        "id": "xQE9Nx3OGWNs"
      },
      "execution_count": 26,
      "outputs": []
    },
    {
      "cell_type": "code",
      "source": [
        "model.summary()"
      ],
      "metadata": {
        "colab": {
          "base_uri": "https://localhost:8080/",
          "height": 306
        },
        "id": "wP6Xru2kGluz",
        "outputId": "d4670252-6c0a-4610-b64e-f4577fd973d5"
      },
      "execution_count": 27,
      "outputs": [
        {
          "output_type": "display_data",
          "data": {
            "text/plain": [
              "\u001b[1mModel: \"sequential\"\u001b[0m\n"
            ],
            "text/html": [
              "<pre style=\"white-space:pre;overflow-x:auto;line-height:normal;font-family:Menlo,'DejaVu Sans Mono',consolas,'Courier New',monospace\"><span style=\"font-weight: bold\">Model: \"sequential\"</span>\n",
              "</pre>\n"
            ]
          },
          "metadata": {}
        },
        {
          "output_type": "display_data",
          "data": {
            "text/plain": [
              "┏━━━━━━━━━━━━━━━━━━━━━━━━━━━━━━━━━┳━━━━━━━━━━━━━━━━━━━━━━━━┳━━━━━━━━━━━━━━━┓\n",
              "┃\u001b[1m \u001b[0m\u001b[1mLayer (type)                   \u001b[0m\u001b[1m \u001b[0m┃\u001b[1m \u001b[0m\u001b[1mOutput Shape          \u001b[0m\u001b[1m \u001b[0m┃\u001b[1m \u001b[0m\u001b[1m      Param #\u001b[0m\u001b[1m \u001b[0m┃\n",
              "┡━━━━━━━━━━━━━━━━━━━━━━━━━━━━━━━━━╇━━━━━━━━━━━━━━━━━━━━━━━━╇━━━━━━━━━━━━━━━┩\n",
              "│ dense (\u001b[38;5;33mDense\u001b[0m)                   │ (\u001b[38;5;45mNone\u001b[0m, \u001b[38;5;34m64\u001b[0m)             │       \u001b[38;5;34m131,008\u001b[0m │\n",
              "├─────────────────────────────────┼────────────────────────┼───────────────┤\n",
              "│ dropout (\u001b[38;5;33mDropout\u001b[0m)               │ (\u001b[38;5;45mNone\u001b[0m, \u001b[38;5;34m64\u001b[0m)             │             \u001b[38;5;34m0\u001b[0m │\n",
              "├─────────────────────────────────┼────────────────────────┼───────────────┤\n",
              "│ dense_1 (\u001b[38;5;33mDense\u001b[0m)                 │ (\u001b[38;5;45mNone\u001b[0m, \u001b[38;5;34m32\u001b[0m)             │         \u001b[38;5;34m2,080\u001b[0m │\n",
              "├─────────────────────────────────┼────────────────────────┼───────────────┤\n",
              "│ dropout_1 (\u001b[38;5;33mDropout\u001b[0m)             │ (\u001b[38;5;45mNone\u001b[0m, \u001b[38;5;34m32\u001b[0m)             │             \u001b[38;5;34m0\u001b[0m │\n",
              "├─────────────────────────────────┼────────────────────────┼───────────────┤\n",
              "│ dense_2 (\u001b[38;5;33mDense\u001b[0m)                 │ (\u001b[38;5;45mNone\u001b[0m, \u001b[38;5;34m1\u001b[0m)              │            \u001b[38;5;34m33\u001b[0m │\n",
              "└─────────────────────────────────┴────────────────────────┴───────────────┘\n"
            ],
            "text/html": [
              "<pre style=\"white-space:pre;overflow-x:auto;line-height:normal;font-family:Menlo,'DejaVu Sans Mono',consolas,'Courier New',monospace\">┏━━━━━━━━━━━━━━━━━━━━━━━━━━━━━━━━━┳━━━━━━━━━━━━━━━━━━━━━━━━┳━━━━━━━━━━━━━━━┓\n",
              "┃<span style=\"font-weight: bold\"> Layer (type)                    </span>┃<span style=\"font-weight: bold\"> Output Shape           </span>┃<span style=\"font-weight: bold\">       Param # </span>┃\n",
              "┡━━━━━━━━━━━━━━━━━━━━━━━━━━━━━━━━━╇━━━━━━━━━━━━━━━━━━━━━━━━╇━━━━━━━━━━━━━━━┩\n",
              "│ dense (<span style=\"color: #0087ff; text-decoration-color: #0087ff\">Dense</span>)                   │ (<span style=\"color: #00d7ff; text-decoration-color: #00d7ff\">None</span>, <span style=\"color: #00af00; text-decoration-color: #00af00\">64</span>)             │       <span style=\"color: #00af00; text-decoration-color: #00af00\">131,008</span> │\n",
              "├─────────────────────────────────┼────────────────────────┼───────────────┤\n",
              "│ dropout (<span style=\"color: #0087ff; text-decoration-color: #0087ff\">Dropout</span>)               │ (<span style=\"color: #00d7ff; text-decoration-color: #00d7ff\">None</span>, <span style=\"color: #00af00; text-decoration-color: #00af00\">64</span>)             │             <span style=\"color: #00af00; text-decoration-color: #00af00\">0</span> │\n",
              "├─────────────────────────────────┼────────────────────────┼───────────────┤\n",
              "│ dense_1 (<span style=\"color: #0087ff; text-decoration-color: #0087ff\">Dense</span>)                 │ (<span style=\"color: #00d7ff; text-decoration-color: #00d7ff\">None</span>, <span style=\"color: #00af00; text-decoration-color: #00af00\">32</span>)             │         <span style=\"color: #00af00; text-decoration-color: #00af00\">2,080</span> │\n",
              "├─────────────────────────────────┼────────────────────────┼───────────────┤\n",
              "│ dropout_1 (<span style=\"color: #0087ff; text-decoration-color: #0087ff\">Dropout</span>)             │ (<span style=\"color: #00d7ff; text-decoration-color: #00d7ff\">None</span>, <span style=\"color: #00af00; text-decoration-color: #00af00\">32</span>)             │             <span style=\"color: #00af00; text-decoration-color: #00af00\">0</span> │\n",
              "├─────────────────────────────────┼────────────────────────┼───────────────┤\n",
              "│ dense_2 (<span style=\"color: #0087ff; text-decoration-color: #0087ff\">Dense</span>)                 │ (<span style=\"color: #00d7ff; text-decoration-color: #00d7ff\">None</span>, <span style=\"color: #00af00; text-decoration-color: #00af00\">1</span>)              │            <span style=\"color: #00af00; text-decoration-color: #00af00\">33</span> │\n",
              "└─────────────────────────────────┴────────────────────────┴───────────────┘\n",
              "</pre>\n"
            ]
          },
          "metadata": {}
        },
        {
          "output_type": "display_data",
          "data": {
            "text/plain": [
              "\u001b[1m Total params: \u001b[0m\u001b[38;5;34m133,121\u001b[0m (520.00 KB)\n"
            ],
            "text/html": [
              "<pre style=\"white-space:pre;overflow-x:auto;line-height:normal;font-family:Menlo,'DejaVu Sans Mono',consolas,'Courier New',monospace\"><span style=\"font-weight: bold\"> Total params: </span><span style=\"color: #00af00; text-decoration-color: #00af00\">133,121</span> (520.00 KB)\n",
              "</pre>\n"
            ]
          },
          "metadata": {}
        },
        {
          "output_type": "display_data",
          "data": {
            "text/plain": [
              "\u001b[1m Trainable params: \u001b[0m\u001b[38;5;34m133,121\u001b[0m (520.00 KB)\n"
            ],
            "text/html": [
              "<pre style=\"white-space:pre;overflow-x:auto;line-height:normal;font-family:Menlo,'DejaVu Sans Mono',consolas,'Courier New',monospace\"><span style=\"font-weight: bold\"> Trainable params: </span><span style=\"color: #00af00; text-decoration-color: #00af00\">133,121</span> (520.00 KB)\n",
              "</pre>\n"
            ]
          },
          "metadata": {}
        },
        {
          "output_type": "display_data",
          "data": {
            "text/plain": [
              "\u001b[1m Non-trainable params: \u001b[0m\u001b[38;5;34m0\u001b[0m (0.00 B)\n"
            ],
            "text/html": [
              "<pre style=\"white-space:pre;overflow-x:auto;line-height:normal;font-family:Menlo,'DejaVu Sans Mono',consolas,'Courier New',monospace\"><span style=\"font-weight: bold\"> Non-trainable params: </span><span style=\"color: #00af00; text-decoration-color: #00af00\">0</span> (0.00 B)\n",
              "</pre>\n"
            ]
          },
          "metadata": {}
        }
      ]
    },
    {
      "cell_type": "code",
      "source": [
        "model.compile(loss=\"binary_crossentropy\",optimizer=\"adam\",metrics=[\"accuracy\"])"
      ],
      "metadata": {
        "id": "jh3orHLkGxfy"
      },
      "execution_count": 28,
      "outputs": []
    },
    {
      "cell_type": "code",
      "source": [
        "es = EarlyStopping(monitor=\"val_loss\",patience=10)\n"
      ],
      "metadata": {
        "id": "u_U-8HJhG2bV"
      },
      "execution_count": 29,
      "outputs": []
    },
    {
      "cell_type": "code",
      "source": [
        "hist = model.fit(xtrain,ytrain,validation_split=0.2,epochs=200,callbacks=[es])\n"
      ],
      "metadata": {
        "colab": {
          "base_uri": "https://localhost:8080/"
        },
        "id": "eyE0Ca3_HD7J",
        "outputId": "76b539d8-af1d-458d-a4ed-b9d107e97c8f"
      },
      "execution_count": 30,
      "outputs": [
        {
          "output_type": "stream",
          "name": "stdout",
          "text": [
            "Epoch 1/200\n",
            "\u001b[1m20/20\u001b[0m \u001b[32m━━━━━━━━━━━━━━━━━━━━\u001b[0m\u001b[37m\u001b[0m \u001b[1m4s\u001b[0m 28ms/step - accuracy: 0.5176 - loss: 0.6931 - val_accuracy: 0.4563 - val_loss: 0.6912\n",
            "Epoch 2/200\n",
            "\u001b[1m20/20\u001b[0m \u001b[32m━━━━━━━━━━━━━━━━━━━━\u001b[0m\u001b[37m\u001b[0m \u001b[1m2s\u001b[0m 6ms/step - accuracy: 0.6690 - loss: 0.6837 - val_accuracy: 0.7437 - val_loss: 0.6807\n",
            "Epoch 3/200\n",
            "\u001b[1m20/20\u001b[0m \u001b[32m━━━━━━━━━━━━━━━━━━━━\u001b[0m\u001b[37m\u001b[0m \u001b[1m0s\u001b[0m 5ms/step - accuracy: 0.8188 - loss: 0.6574 - val_accuracy: 0.7437 - val_loss: 0.6590\n",
            "Epoch 4/200\n",
            "\u001b[1m20/20\u001b[0m \u001b[32m━━━━━━━━━━━━━━━━━━━━\u001b[0m\u001b[37m\u001b[0m \u001b[1m0s\u001b[0m 7ms/step - accuracy: 0.8665 - loss: 0.6099 - val_accuracy: 0.7688 - val_loss: 0.6167\n",
            "Epoch 5/200\n",
            "\u001b[1m20/20\u001b[0m \u001b[32m━━━━━━━━━━━━━━━━━━━━\u001b[0m\u001b[37m\u001b[0m \u001b[1m0s\u001b[0m 7ms/step - accuracy: 0.9091 - loss: 0.5098 - val_accuracy: 0.7875 - val_loss: 0.5546\n",
            "Epoch 6/200\n",
            "\u001b[1m20/20\u001b[0m \u001b[32m━━━━━━━━━━━━━━━━━━━━\u001b[0m\u001b[37m\u001b[0m \u001b[1m0s\u001b[0m 5ms/step - accuracy: 0.9379 - loss: 0.3811 - val_accuracy: 0.7812 - val_loss: 0.4998\n",
            "Epoch 7/200\n",
            "\u001b[1m20/20\u001b[0m \u001b[32m━━━━━━━━━━━━━━━━━━━━\u001b[0m\u001b[37m\u001b[0m \u001b[1m0s\u001b[0m 7ms/step - accuracy: 0.9684 - loss: 0.2470 - val_accuracy: 0.7937 - val_loss: 0.4600\n",
            "Epoch 8/200\n",
            "\u001b[1m20/20\u001b[0m \u001b[32m━━━━━━━━━━━━━━━━━━━━\u001b[0m\u001b[37m\u001b[0m \u001b[1m0s\u001b[0m 5ms/step - accuracy: 0.9841 - loss: 0.1620 - val_accuracy: 0.7812 - val_loss: 0.4432\n",
            "Epoch 9/200\n",
            "\u001b[1m20/20\u001b[0m \u001b[32m━━━━━━━━━━━━━━━━━━━━\u001b[0m\u001b[37m\u001b[0m \u001b[1m0s\u001b[0m 5ms/step - accuracy: 0.9853 - loss: 0.1079 - val_accuracy: 0.7875 - val_loss: 0.4457\n",
            "Epoch 10/200\n",
            "\u001b[1m20/20\u001b[0m \u001b[32m━━━━━━━━━━━━━━━━━━━━\u001b[0m\u001b[37m\u001b[0m \u001b[1m0s\u001b[0m 5ms/step - accuracy: 0.9923 - loss: 0.0688 - val_accuracy: 0.7937 - val_loss: 0.4606\n",
            "Epoch 11/200\n",
            "\u001b[1m20/20\u001b[0m \u001b[32m━━━━━━━━━━━━━━━━━━━━\u001b[0m\u001b[37m\u001b[0m \u001b[1m0s\u001b[0m 5ms/step - accuracy: 0.9955 - loss: 0.0517 - val_accuracy: 0.7937 - val_loss: 0.4703\n",
            "Epoch 12/200\n",
            "\u001b[1m20/20\u001b[0m \u001b[32m━━━━━━━━━━━━━━━━━━━━\u001b[0m\u001b[37m\u001b[0m \u001b[1m0s\u001b[0m 5ms/step - accuracy: 1.0000 - loss: 0.0369 - val_accuracy: 0.7937 - val_loss: 0.4821\n",
            "Epoch 13/200\n",
            "\u001b[1m20/20\u001b[0m \u001b[32m━━━━━━━━━━━━━━━━━━━━\u001b[0m\u001b[37m\u001b[0m \u001b[1m0s\u001b[0m 7ms/step - accuracy: 0.9968 - loss: 0.0257 - val_accuracy: 0.8000 - val_loss: 0.4900\n",
            "Epoch 14/200\n",
            "\u001b[1m20/20\u001b[0m \u001b[32m━━━━━━━━━━━━━━━━━━━━\u001b[0m\u001b[37m\u001b[0m \u001b[1m0s\u001b[0m 5ms/step - accuracy: 0.9977 - loss: 0.0235 - val_accuracy: 0.7937 - val_loss: 0.5129\n",
            "Epoch 15/200\n",
            "\u001b[1m20/20\u001b[0m \u001b[32m━━━━━━━━━━━━━━━━━━━━\u001b[0m\u001b[37m\u001b[0m \u001b[1m0s\u001b[0m 5ms/step - accuracy: 0.9993 - loss: 0.0207 - val_accuracy: 0.8062 - val_loss: 0.5020\n",
            "Epoch 16/200\n",
            "\u001b[1m20/20\u001b[0m \u001b[32m━━━━━━━━━━━━━━━━━━━━\u001b[0m\u001b[37m\u001b[0m \u001b[1m0s\u001b[0m 5ms/step - accuracy: 1.0000 - loss: 0.0144 - val_accuracy: 0.8000 - val_loss: 0.5286\n",
            "Epoch 17/200\n",
            "\u001b[1m20/20\u001b[0m \u001b[32m━━━━━━━━━━━━━━━━━━━━\u001b[0m\u001b[37m\u001b[0m \u001b[1m0s\u001b[0m 5ms/step - accuracy: 1.0000 - loss: 0.0120 - val_accuracy: 0.7812 - val_loss: 0.5478\n",
            "Epoch 18/200\n",
            "\u001b[1m20/20\u001b[0m \u001b[32m━━━━━━━━━━━━━━━━━━━━\u001b[0m\u001b[37m\u001b[0m \u001b[1m0s\u001b[0m 5ms/step - accuracy: 1.0000 - loss: 0.0099 - val_accuracy: 0.7937 - val_loss: 0.5477\n"
          ]
        }
      ]
    },
    {
      "cell_type": "markdown",
      "source": [
        "# EVALUATE THE MODEL"
      ],
      "metadata": {
        "id": "reDSmJ4KHYKf"
      }
    },
    {
      "cell_type": "code",
      "source": [
        "model.evaluate(xtrain,ytrain)"
      ],
      "metadata": {
        "colab": {
          "base_uri": "https://localhost:8080/"
        },
        "id": "-354_o_9HdsX",
        "outputId": "d387bf0e-2e0e-474d-919a-ec16b8a602bc"
      },
      "execution_count": 31,
      "outputs": [
        {
          "output_type": "stream",
          "name": "stdout",
          "text": [
            "\u001b[1m25/25\u001b[0m \u001b[32m━━━━━━━━━━━━━━━━━━━━\u001b[0m\u001b[37m\u001b[0m \u001b[1m0s\u001b[0m 3ms/step - accuracy: 0.9934 - loss: 0.0209 \n"
          ]
        },
        {
          "output_type": "execute_result",
          "data": {
            "text/plain": [
              "[0.11298907548189163, 0.9587500095367432]"
            ]
          },
          "metadata": {},
          "execution_count": 31
        }
      ]
    },
    {
      "cell_type": "code",
      "source": [
        "model.evaluate(xtest,ytest)\n",
        ""
      ],
      "metadata": {
        "colab": {
          "base_uri": "https://localhost:8080/"
        },
        "id": "pfWslJ0kHjlD",
        "outputId": "cd75bbb8-5e57-431a-b88e-c35d807a29cc"
      },
      "execution_count": 32,
      "outputs": [
        {
          "output_type": "stream",
          "name": "stdout",
          "text": [
            "\u001b[1m7/7\u001b[0m \u001b[32m━━━━━━━━━━━━━━━━━━━━\u001b[0m\u001b[37m\u001b[0m \u001b[1m1s\u001b[0m 56ms/step - accuracy: 0.8461 - loss: 0.3981\n"
          ]
        },
        {
          "output_type": "execute_result",
          "data": {
            "text/plain": [
              "[0.49512240290641785, 0.7950000166893005]"
            ]
          },
          "metadata": {},
          "execution_count": 32
        }
      ]
    },
    {
      "cell_type": "code",
      "source": [
        "## Learning curve\n",
        "import matplotlib.pyplot as plt\n",
        "plt.plot(hist.history[\"loss\"],label=\"Training Loss\")\n",
        "plt.plot(hist.history[\"val_loss\"],label=\"Validation Loss\")\n",
        "plt.xlabel(\"Number of Epochs\")\n",
        "plt.ylabel(\"Binary Cross Entropy\")\n",
        "plt.legend()\n",
        "plt.title(\"Learning Curve\")\n",
        "plt.show()"
      ],
      "metadata": {
        "colab": {
          "base_uri": "https://localhost:8080/",
          "height": 472
        },
        "id": "9YMjOeoAHvD9",
        "outputId": "e1ad9ba8-172f-420e-a1a3-78b39d4b5757"
      },
      "execution_count": 33,
      "outputs": [
        {
          "output_type": "display_data",
          "data": {
            "text/plain": [
              "<Figure size 640x480 with 1 Axes>"
            ],
            "image/png": "[encoded data removed]"
          },
          "metadata": {}
        }
      ]
    },
    {
      "cell_type": "code",
      "source": [
        "probs = model.predict(xtest)\n",
        "probs[:5]"
      ],
      "metadata": {
        "colab": {
          "base_uri": "https://localhost:8080/"
        },
        "id": "6V0gD1G1H2Jn",
        "outputId": "e0783da4-7146-46d1-de83-b07fc1fa244f"
      },
      "execution_count": 34,
      "outputs": [
        {
          "output_type": "stream",
          "name": "stdout",
          "text": [
            "\u001b[1m7/7\u001b[0m \u001b[32m━━━━━━━━━━━━━━━━━━━━\u001b[0m\u001b[37m\u001b[0m \u001b[1m1s\u001b[0m 41ms/step\n"
          ]
        },
        {
          "output_type": "execute_result",
          "data": {
            "text/plain": [
              "array([[0.1663121 ],\n",
              "       [0.00155016],\n",
              "       [0.99190736],\n",
              "       [0.9988035 ],\n",
              "       [0.9990715 ]], dtype=float32)"
            ]
          },
          "metadata": {},
          "execution_count": 34
        }
      ]
    },
    {
      "cell_type": "code",
      "source": [
        "\n",
        "preds = [1 if prob>0.5 else 0 for prob in probs]\n",
        "preds[:5]"
      ],
      "metadata": {
        "colab": {
          "base_uri": "https://localhost:8080/"
        },
        "id": "Jz4L2hJfH83m",
        "outputId": "f66a6122-9380-4279-ffe3-176c949a5ad6"
      },
      "execution_count": 35,
      "outputs": [
        {
          "output_type": "execute_result",
          "data": {
            "text/plain": [
              "[0, 0, 1, 1, 1]"
            ]
          },
          "metadata": {},
          "execution_count": 35
        }
      ]
    },
    {
      "cell_type": "code",
      "source": [
        "def preprocess_predict(text):\n",
        "  new_text = preprocess_text(text)\n",
        "  text_pre = tfidf.transform([new_text])\n",
        "  prob = model.predict(text_pre)\n",
        "  if prob>0.5:\n",
        "    return 1\n",
        "  else:\n",
        "    return 0\n",
        ""
      ],
      "metadata": {
        "id": "TGRttbayIE3Q"
      },
      "execution_count": 36,
      "outputs": []
    },
    {
      "cell_type": "code",
      "source": [
        "from sklearn.metrics import ConfusionMatrixDisplay,confusion_matrix,classification_report\n",
        ""
      ],
      "metadata": {
        "id": "KUBWrq7mIJZx"
      },
      "execution_count": 37,
      "outputs": []
    },
    {
      "cell_type": "code",
      "source": [
        "cf = confusion_matrix(ytest,preds)\n",
        "ConfusionMatrixDisplay.from_predictions(ytest,preds)"
      ],
      "metadata": {
        "colab": {
          "base_uri": "https://localhost:8080/",
          "height": 466
        },
        "id": "RU22-wpvIOY0",
        "outputId": "f921e6b1-30d2-486c-dfac-68bd23ffe416"
      },
      "execution_count": 38,
      "outputs": [
        {
          "output_type": "execute_result",
          "data": {
            "text/plain": [
              "<sklearn.metrics._plot.confusion_matrix.ConfusionMatrixDisplay at 0x7ecbe99e1e10>"
            ]
          },
          "metadata": {},
          "execution_count": 38
        },
        {
          "output_type": "display_data",
          "data": {
            "text/plain": [
              "<Figure size 640x480 with 2 Axes>"
            ],
            "image/png": "[encoded data removed]"
          },
          "metadata": {}
        }
      ]
    },
    {
      "cell_type": "code",
      "source": [
        "print(classification_report(ytest,preds))"
      ],
      "metadata": {
        "colab": {
          "base_uri": "https://localhost:8080/"
        },
        "id": "1iW8EUowIuqf",
        "outputId": "2d16da37-f372-4aa6-f9cb-eb02bd9b93cd"
      },
      "execution_count": 39,
      "outputs": [
        {
          "output_type": "stream",
          "name": "stdout",
          "text": [
            "              precision    recall  f1-score   support\n",
            "\n",
            "           0       0.86      0.72      0.78       102\n",
            "           1       0.75      0.88      0.81        98\n",
            "\n",
            "    accuracy                           0.80       200\n",
            "   macro avg       0.80      0.80      0.79       200\n",
            "weighted avg       0.80      0.80      0.79       200\n",
            "\n"
          ]
        }
      ]
    },
    {
      "cell_type": "markdown",
      "source": [
        "# ROC - Area under the curve"
      ],
      "metadata": {
        "id": "AjvLhn5GI1la"
      }
    },
    {
      "cell_type": "code",
      "source": [
        "from sklearn.metrics import RocCurveDisplay\n",
        "RocCurveDisplay.from_predictions(ytest,preds)\n",
        ""
      ],
      "metadata": {
        "colab": {
          "base_uri": "https://localhost:8080/",
          "height": 468
        },
        "id": "8uaIZ2tXI63e",
        "outputId": "8fc2ad9e-9098-4316-9a07-23e70b9dccff"
      },
      "execution_count": 40,
      "outputs": [
        {
          "output_type": "execute_result",
          "data": {
            "text/plain": [
              "<sklearn.metrics._plot.roc_curve.RocCurveDisplay at 0x7eccc06e4950>"
            ]
          },
          "metadata": {},
          "execution_count": 40
        },
        {
          "output_type": "display_data",
          "data": {
            "text/plain": [
              "<Figure size 640x480 with 1 Axes>"
            ],
            "image/png": "[encoded data removed]"
          },
          "metadata": {}
        }
      ]
    },
    {
      "cell_type": "markdown",
      "source": [
        "# Above model provides AUC as 0.80 which is a good score to consider for final predictions"
      ],
      "metadata": {
        "id": "rzqDNBc2JCkY"
      }
    },
    {
      "cell_type": "markdown",
      "source": [
        "Final predictions"
      ],
      "metadata": {
        "id": "9WTGOaiiJH99"
      }
    },
    {
      "cell_type": "code",
      "source": [
        "text = \"It took over 30 min to get their pizza, which was nothing like pizza\"\n",
        "\n"
      ],
      "metadata": {
        "id": "GaBG_QFeJBZO"
      },
      "execution_count": 41,
      "outputs": []
    },
    {
      "cell_type": "code",
      "source": [
        "new_text = preprocess_text(text)\n",
        ""
      ],
      "metadata": {
        "id": "63aaaL6pJXQf"
      },
      "execution_count": 42,
      "outputs": []
    },
    {
      "cell_type": "code",
      "source": [
        "text_pre = tfidf.transform([new_text]).toarray()\n",
        "\n"
      ],
      "metadata": {
        "id": "16y0gs_4JdNn"
      },
      "execution_count": 43,
      "outputs": []
    },
    {
      "cell_type": "code",
      "source": [
        "text_pre"
      ],
      "metadata": {
        "colab": {
          "base_uri": "https://localhost:8080/"
        },
        "id": "PVKsfErAJkhy",
        "outputId": "3f6c2529-2061-495e-bd9a-aec9dad4a6be"
      },
      "execution_count": 44,
      "outputs": [
        {
          "output_type": "execute_result",
          "data": {
            "text/plain": [
              "array([[0., 0., 0., ..., 0., 0., 0.]])"
            ]
          },
          "metadata": {},
          "execution_count": 44
        }
      ]
    },
    {
      "cell_type": "code",
      "source": [
        "prob = model.predict(text_pre)\n",
        "prob\n",
        "\n"
      ],
      "metadata": {
        "colab": {
          "base_uri": "https://localhost:8080/"
        },
        "id": "bZ5WRYiqJpZa",
        "outputId": "8cf3e91a-d7c8-447b-96a6-4d135949e1a7"
      },
      "execution_count": 45,
      "outputs": [
        {
          "output_type": "stream",
          "name": "stdout",
          "text": [
            "\u001b[1m1/1\u001b[0m \u001b[32m━━━━━━━━━━━━━━━━━━━━\u001b[0m\u001b[37m\u001b[0m \u001b[1m0s\u001b[0m 245ms/step\n"
          ]
        },
        {
          "output_type": "execute_result",
          "data": {
            "text/plain": [
              "array([[0.00828656]], dtype=float32)"
            ]
          },
          "metadata": {},
          "execution_count": 45
        }
      ]
    },
    {
      "cell_type": "code",
      "source": [
        "if prob>0.5:\n",
        "  print(1)\n",
        "else:\n",
        "  print(0)"
      ],
      "metadata": {
        "colab": {
          "base_uri": "https://localhost:8080/"
        },
        "id": "fvberTQDJy3C",
        "outputId": "c48b039a-2398-409f-956b-f00776a73905"
      },
      "execution_count": 46,
      "outputs": [
        {
          "output_type": "stream",
          "name": "stdout",
          "text": [
            "0\n"
          ]
        }
      ]
    },
    {
      "cell_type": "code",
      "source": [
        "t2 = \"We waited for thirty minutes in vain\"\n",
        "op = preprocess_predict(t2)\n",
        "print(op)"
      ],
      "metadata": {
        "colab": {
          "base_uri": "https://localhost:8080/"
        },
        "id": "e-j_FQJZJ5f2",
        "outputId": "601a6250-fbca-4414-fab8-3327d1733807"
      },
      "execution_count": 47,
      "outputs": [
        {
          "output_type": "stream",
          "name": "stdout",
          "text": [
            "\u001b[1m1/1\u001b[0m \u001b[32m━━━━━━━━━━━━━━━━━━━━\u001b[0m\u001b[37m\u001b[0m \u001b[1m0s\u001b[0m 293ms/step\n",
            "0\n"
          ]
        }
      ]
    },
    {
      "cell_type": "code",
      "source": [
        "t2 = \"We waited for thirty minutes in vain\"\n",
        "op = preprocess_predict(t2)\n",
        "print(op)"
      ],
      "metadata": {
        "colab": {
          "base_uri": "https://localhost:8080/"
        },
        "id": "L0Yn_dqWJ_An",
        "outputId": "e5737f42-d311-4381-eebb-86fd2fd39114"
      },
      "execution_count": 48,
      "outputs": [
        {
          "output_type": "stream",
          "name": "stdout",
          "text": [
            "\u001b[1m1/1\u001b[0m \u001b[32m━━━━━━━━━━━━━━━━━━━━\u001b[0m\u001b[37m\u001b[0m \u001b[1m0s\u001b[0m 65ms/step\n",
            "0\n"
          ]
        }
      ]
    },
    {
      "cell_type": "markdown",
      "source": [
        "# save the model"
      ],
      "metadata": {
        "id": "nv-VBA7DKG6B"
      }
    },
    {
      "cell_type": "code",
      "source": [
        "\n",
        "model.save(\"SentimentAnalysis.keras\")\n",
        "\n"
      ],
      "metadata": {
        "id": "Qn5lIZKEKMS6"
      },
      "execution_count": 49,
      "outputs": []
    },
    {
      "cell_type": "code",
      "source": [
        "from keras.models import load_model\n",
        "m1 = load_model('/content/SentimentAnalysis.keras')\n",
        "m1.summary()\n",
        ""
      ],
      "metadata": {
        "colab": {
          "base_uri": "https://localhost:8080/",
          "height": 323
        },
        "id": "qzZHMZq_KfRu",
        "outputId": "940bff66-31b9-4e3a-c611-2f69dc51b57a"
      },
      "execution_count": 50,
      "outputs": [
        {
          "output_type": "display_data",
          "data": {
            "text/plain": [
              "\u001b[1mModel: \"sequential\"\u001b[0m\n"
            ],
            "text/html": [
              "<pre style=\"white-space:pre;overflow-x:auto;line-height:normal;font-family:Menlo,'DejaVu Sans Mono',consolas,'Courier New',monospace\"><span style=\"font-weight: bold\">Model: \"sequential\"</span>\n",
              "</pre>\n"
            ]
          },
          "metadata": {}
        },
        {
          "output_type": "display_data",
          "data": {
            "text/plain": [
              "┏━━━━━━━━━━━━━━━━━━━━━━━━━━━━━━━━━┳━━━━━━━━━━━━━━━━━━━━━━━━┳━━━━━━━━━━━━━━━┓\n",
              "┃\u001b[1m \u001b[0m\u001b[1mLayer (type)                   \u001b[0m\u001b[1m \u001b[0m┃\u001b[1m \u001b[0m\u001b[1mOutput Shape          \u001b[0m\u001b[1m \u001b[0m┃\u001b[1m \u001b[0m\u001b[1m      Param #\u001b[0m\u001b[1m \u001b[0m┃\n",
              "┡━━━━━━━━━━━━━━━━━━━━━━━━━━━━━━━━━╇━━━━━━━━━━━━━━━━━━━━━━━━╇━━━━━━━━━━━━━━━┩\n",
              "│ dense (\u001b[38;5;33mDense\u001b[0m)                   │ (\u001b[38;5;45mNone\u001b[0m, \u001b[38;5;34m64\u001b[0m)             │       \u001b[38;5;34m131,008\u001b[0m │\n",
              "├─────────────────────────────────┼────────────────────────┼───────────────┤\n",
              "│ dropout (\u001b[38;5;33mDropout\u001b[0m)               │ (\u001b[38;5;45mNone\u001b[0m, \u001b[38;5;34m64\u001b[0m)             │             \u001b[38;5;34m0\u001b[0m │\n",
              "├─────────────────────────────────┼────────────────────────┼───────────────┤\n",
              "│ dense_1 (\u001b[38;5;33mDense\u001b[0m)                 │ (\u001b[38;5;45mNone\u001b[0m, \u001b[38;5;34m32\u001b[0m)             │         \u001b[38;5;34m2,080\u001b[0m │\n",
              "├─────────────────────────────────┼────────────────────────┼───────────────┤\n",
              "│ dropout_1 (\u001b[38;5;33mDropout\u001b[0m)             │ (\u001b[38;5;45mNone\u001b[0m, \u001b[38;5;34m32\u001b[0m)             │             \u001b[38;5;34m0\u001b[0m │\n",
              "├─────────────────────────────────┼────────────────────────┼───────────────┤\n",
              "│ dense_2 (\u001b[38;5;33mDense\u001b[0m)                 │ (\u001b[38;5;45mNone\u001b[0m, \u001b[38;5;34m1\u001b[0m)              │            \u001b[38;5;34m33\u001b[0m │\n",
              "└─────────────────────────────────┴────────────────────────┴───────────────┘\n"
            ],
            "text/html": [
              "<pre style=\"white-space:pre;overflow-x:auto;line-height:normal;font-family:Menlo,'DejaVu Sans Mono',consolas,'Courier New',monospace\">┏━━━━━━━━━━━━━━━━━━━━━━━━━━━━━━━━━┳━━━━━━━━━━━━━━━━━━━━━━━━┳━━━━━━━━━━━━━━━┓\n",
              "┃<span style=\"font-weight: bold\"> Layer (type)                    </span>┃<span style=\"font-weight: bold\"> Output Shape           </span>┃<span style=\"font-weight: bold\">       Param # </span>┃\n",
              "┡━━━━━━━━━━━━━━━━━━━━━━━━━━━━━━━━━╇━━━━━━━━━━━━━━━━━━━━━━━━╇━━━━━━━━━━━━━━━┩\n",
              "│ dense (<span style=\"color: #0087ff; text-decoration-color: #0087ff\">Dense</span>)                   │ (<span style=\"color: #00d7ff; text-decoration-color: #00d7ff\">None</span>, <span style=\"color: #00af00; text-decoration-color: #00af00\">64</span>)             │       <span style=\"color: #00af00; text-decoration-color: #00af00\">131,008</span> │\n",
              "├─────────────────────────────────┼────────────────────────┼───────────────┤\n",
              "│ dropout (<span style=\"color: #0087ff; text-decoration-color: #0087ff\">Dropout</span>)               │ (<span style=\"color: #00d7ff; text-decoration-color: #00d7ff\">None</span>, <span style=\"color: #00af00; text-decoration-color: #00af00\">64</span>)             │             <span style=\"color: #00af00; text-decoration-color: #00af00\">0</span> │\n",
              "├─────────────────────────────────┼────────────────────────┼───────────────┤\n",
              "│ dense_1 (<span style=\"color: #0087ff; text-decoration-color: #0087ff\">Dense</span>)                 │ (<span style=\"color: #00d7ff; text-decoration-color: #00d7ff\">None</span>, <span style=\"color: #00af00; text-decoration-color: #00af00\">32</span>)             │         <span style=\"color: #00af00; text-decoration-color: #00af00\">2,080</span> │\n",
              "├─────────────────────────────────┼────────────────────────┼───────────────┤\n",
              "│ dropout_1 (<span style=\"color: #0087ff; text-decoration-color: #0087ff\">Dropout</span>)             │ (<span style=\"color: #00d7ff; text-decoration-color: #00d7ff\">None</span>, <span style=\"color: #00af00; text-decoration-color: #00af00\">32</span>)             │             <span style=\"color: #00af00; text-decoration-color: #00af00\">0</span> │\n",
              "├─────────────────────────────────┼────────────────────────┼───────────────┤\n",
              "│ dense_2 (<span style=\"color: #0087ff; text-decoration-color: #0087ff\">Dense</span>)                 │ (<span style=\"color: #00d7ff; text-decoration-color: #00d7ff\">None</span>, <span style=\"color: #00af00; text-decoration-color: #00af00\">1</span>)              │            <span style=\"color: #00af00; text-decoration-color: #00af00\">33</span> │\n",
              "└─────────────────────────────────┴────────────────────────┴───────────────┘\n",
              "</pre>\n"
            ]
          },
          "metadata": {}
        },
        {
          "output_type": "display_data",
          "data": {
            "text/plain": [
              "\u001b[1m Total params: \u001b[0m\u001b[38;5;34m399,365\u001b[0m (1.52 MB)\n"
            ],
            "text/html": [
              "<pre style=\"white-space:pre;overflow-x:auto;line-height:normal;font-family:Menlo,'DejaVu Sans Mono',consolas,'Courier New',monospace\"><span style=\"font-weight: bold\"> Total params: </span><span style=\"color: #00af00; text-decoration-color: #00af00\">399,365</span> (1.52 MB)\n",
              "</pre>\n"
            ]
          },
          "metadata": {}
        },
        {
          "output_type": "display_data",
          "data": {
            "text/plain": [
              "\u001b[1m Trainable params: \u001b[0m\u001b[38;5;34m133,121\u001b[0m (520.00 KB)\n"
            ],
            "text/html": [
              "<pre style=\"white-space:pre;overflow-x:auto;line-height:normal;font-family:Menlo,'DejaVu Sans Mono',consolas,'Courier New',monospace\"><span style=\"font-weight: bold\"> Trainable params: </span><span style=\"color: #00af00; text-decoration-color: #00af00\">133,121</span> (520.00 KB)\n",
              "</pre>\n"
            ]
          },
          "metadata": {}
        },
        {
          "output_type": "display_data",
          "data": {
            "text/plain": [
              "\u001b[1m Non-trainable params: \u001b[0m\u001b[38;5;34m0\u001b[0m (0.00 B)\n"
            ],
            "text/html": [
              "<pre style=\"white-space:pre;overflow-x:auto;line-height:normal;font-family:Menlo,'DejaVu Sans Mono',consolas,'Courier New',monospace\"><span style=\"font-weight: bold\"> Non-trainable params: </span><span style=\"color: #00af00; text-decoration-color: #00af00\">0</span> (0.00 B)\n",
              "</pre>\n"
            ]
          },
          "metadata": {}
        },
        {
          "output_type": "display_data",
          "data": {
            "text/plain": [
              "\u001b[1m Optimizer params: \u001b[0m\u001b[38;5;34m266,244\u001b[0m (1.02 MB)\n"
            ],
            "text/html": [
              "<pre style=\"white-space:pre;overflow-x:auto;line-height:normal;font-family:Menlo,'DejaVu Sans Mono',consolas,'Courier New',monospace\"><span style=\"font-weight: bold\"> Optimizer params: </span><span style=\"color: #00af00; text-decoration-color: #00af00\">266,244</span> (1.02 MB)\n",
              "</pre>\n"
            ]
          },
          "metadata": {}
        }
      ]
    }
  ]
}